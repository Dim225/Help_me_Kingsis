{
 "cells": [
  {
   "cell_type": "markdown",
   "metadata": {},
   "source": [
    "## Analysis Part"
   ]
  },
  {
   "cell_type": "code",
   "execution_count": 15,
   "metadata": {},
   "outputs": [
    {
     "name": "stdout",
     "output_type": "stream",
     "text": [
      "Collecting decord==0.6.0\n",
      "  Downloading decord-0.6.0-py3-none-win_amd64.whl (24.7 MB)\n",
      "     --------------------------------------- 24.7/24.7 MB 43.5 MB/s eta 0:00:00\n",
      "Collecting konlpy==0.6.0\n",
      "  Using cached konlpy-0.6.0-py2.py3-none-any.whl (19.4 MB)\n",
      "Collecting librosa==0.8.1\n",
      "  Downloading librosa-0.8.1-py3-none-any.whl (203 kB)\n",
      "     ---------------------------------------- 203.8/203.8 kB ? eta 0:00:00\n",
      "Collecting lxml==4.2.6\n",
      "  Downloading lxml-4.2.6.tar.gz (2.4 MB)\n",
      "     ---------------------------------------- 2.4/2.4 MB 50.8 MB/s eta 0:00:00\n",
      "  Preparing metadata (setup.py): started\n",
      "  Preparing metadata (setup.py): finished with status 'done'\n",
      "Collecting matplotlib==3.2.2\n",
      "  Downloading matplotlib-3.2.2-cp39-cp39-win_amd64.whl (8.9 MB)\n",
      "     ---------------------------------------- 8.9/8.9 MB 52.0 MB/s eta 0:00:00\n",
      "Collecting matplotlib-inline==0.1.3\n",
      "  Using cached matplotlib_inline-0.1.3-py3-none-any.whl (8.2 kB)\n",
      "Collecting matplotlib-venn==0.11.7\n",
      "  Downloading matplotlib-venn-0.11.7.tar.gz (29 kB)\n",
      "  Preparing metadata (setup.py): started\n",
      "  Preparing metadata (setup.py): finished with status 'done'\n",
      "Collecting mlxtend==0.14.0\n",
      "  Downloading mlxtend-0.14.0-py2.py3-none-any.whl (1.3 MB)\n",
      "     ---------------------------------------- 1.3/1.3 MB 86.0 MB/s eta 0:00:00\n",
      "Collecting mmcv-full==1.6.0\n",
      "  Downloading mmcv-full-1.6.0.tar.gz (554 kB)\n",
      "     ------------------------------------- 554.9/554.9 kB 34.0 MB/s eta 0:00:00\n",
      "  Preparing metadata (setup.py): started\n",
      "  Preparing metadata (setup.py): finished with status 'done'\n",
      "Collecting mmpose==0.28.0\n",
      "  Downloading mmpose-0.28.0-py2.py3-none-any.whl (1.6 MB)\n",
      "     ---------------------------------------- 1.6/1.6 MB 48.8 MB/s eta 0:00:00\n",
      "Collecting moviepy==0.2.3.5\n",
      "  Downloading moviepy-0.2.3.5.tar.gz (372 kB)\n",
      "     ---------------------------------------- 373.0/373.0 kB ? eta 0:00:00\n",
      "  Preparing metadata (setup.py): started\n",
      "  Preparing metadata (setup.py): finished with status 'done'\n"
     ]
    },
    {
     "name": "stderr",
     "output_type": "stream",
     "text": [
      "ERROR: Could not find a version that satisfies the requirement mxnet==1.9.1 (from versions: 0.11.0, 0.12.0, 0.12.1, 1.0.0, 1.0.0.post1, 1.0.0.post3, 1.0.0.post4, 1.1.0.post0, 1.2.0, 1.2.1, 1.2.1.post1, 1.3.0, 1.3.1, 1.4.0, 1.4.0.post0, 1.4.1, 1.5.0, 1.6.0, 1.7.0.post1, 1.7.0.post2)\n",
      "ERROR: No matching distribution found for mxnet==1.9.1\n"
     ]
    }
   ],
   "source": [
    "# !pip install -r my_req.txt"
   ]
  },
  {
   "cell_type": "code",
   "execution_count": 16,
   "metadata": {},
   "outputs": [
    {
     "name": "stdout",
     "output_type": "stream",
     "text": [
      "asttokens @ file:///opt/conda/conda-bld/asttokens_1646925590279/work\n",
      "backcall @ file:///home/ktietz/src/ci/backcall_1611930011877/work\n",
      "certifi @ file:///C:/Windows/TEMP/abs_e9b7158a-aa56-4a5b-87b6-c00d295b01fanefpc8_o/croots/recipe/certifi_1655968940823/work/certifi\n",
      "charset-normalizer==2.1.0\n",
      "colorama @ file:///C:/Windows/TEMP/abs_9439aeb1-0254-449a-96f7-33ab5eb17fc8apleb4yn/croots/recipe/colorama_1657009099097/work\n",
      "debugpy @ file:///C:/ci/debugpy_1637091961445/work\n",
      "decorator @ file:///opt/conda/conda-bld/decorator_1643638310831/work\n",
      "entrypoints @ file:///C:/ci/entrypoints_1649926621128/work\n",
      "executing @ file:///opt/conda/conda-bld/executing_1646925071911/work\n",
      "idna==3.3\n",
      "ipykernel @ file:///C:/ci/ipykernel_1646982785443/work/dist/ipykernel-6.9.1-py3-none-any.whl\n",
      "ipython @ file:///C:/ci/ipython_1657634415474/work\n",
      "jedi @ file:///C:/ci/jedi_1644315428289/work\n",
      "jupyter-client @ file:///C:/ci/jupyter_client_1650515989971/work\n",
      "jupyter-core @ file:///C:/ci/jupyter_core_1651656286743/work\n",
      "matplotlib-inline @ file:///tmp/build/80754af9/matplotlib-inline_1628242447089/work\n",
      "nest-asyncio @ file:///C:/ci/nest-asyncio_1649829929390/work\n",
      "parso @ file:///opt/conda/conda-bld/parso_1641458642106/work\n",
      "pickleshare @ file:///tmp/build/80754af9/pickleshare_1606932040724/work\n",
      "prompt-toolkit @ file:///tmp/build/80754af9/prompt-toolkit_1633440160888/work\n",
      "pure-eval @ file:///opt/conda/conda-bld/pure_eval_1646925070566/work\n",
      "Pygments @ file:///opt/conda/conda-bld/pygments_1644249106324/work\n",
      "python-dateutil @ file:///tmp/build/80754af9/python-dateutil_1626374649649/work\n",
      "pywin32==302\n",
      "pyzmq @ file:///C:/ci/pyzmq_1657615952984/work\n",
      "requests==2.28.1\n",
      "six @ file:///tmp/build/80754af9/six_1644875935023/work\n",
      "stack-data @ file:///opt/conda/conda-bld/stack_data_1646927590127/work\n",
      "tornado @ file:///C:/ci/tornado_1606924294691/work\n",
      "traitlets @ file:///tmp/build/80754af9/traitlets_1636710298902/work\n",
      "urllib3==1.26.10\n",
      "wcwidth @ file:///Users/ktietz/demo/mc3/conda-bld/wcwidth_1629357192024/work\n",
      "wincertstore==0.2\n"
     ]
    }
   ],
   "source": [
    "!pip freeze"
   ]
  },
  {
   "cell_type": "code",
   "execution_count": 17,
   "metadata": {},
   "outputs": [
    {
     "name": "stdout",
     "output_type": "stream",
     "text": [
      "Collecting konlpy==0.6.0\n",
      "  Using cached konlpy-0.6.0-py2.py3-none-any.whl (19.4 MB)\n",
      "Collecting librosa==0.8.1\n",
      "  Using cached librosa-0.8.1-py3-none-any.whl (203 kB)\n",
      "Collecting matplotlib==3.2.2\n",
      "  Using cached matplotlib-3.2.2-cp39-cp39-win_amd64.whl (8.9 MB)\n",
      "Collecting moviepy==0.2.3.5\n",
      "  Using cached moviepy-0.2.3.5.tar.gz (372 kB)\n",
      "  Preparing metadata (setup.py): started\n",
      "  Preparing metadata (setup.py): finished with status 'done'\n",
      "Collecting numpy==1.21.6\n",
      "  Downloading numpy-1.21.6-cp39-cp39-win_amd64.whl (14.0 MB)\n",
      "     --------------------------------------- 14.0/14.0 MB 50.3 MB/s eta 0:00:00\n",
      "Collecting opencv-python==4.6.0.66\n",
      "  Using cached opencv_python-4.6.0.66-cp36-abi3-win_amd64.whl (35.6 MB)\n",
      "Collecting pandas==1.3.5\n",
      "  Downloading pandas-1.3.5-cp39-cp39-win_amd64.whl (10.2 MB)\n",
      "     --------------------------------------- 10.2/10.2 MB 54.1 MB/s eta 0:00:00\n",
      "Collecting JPype1>=0.7.0\n",
      "  Using cached JPype1-1.4.0-cp39-cp39-win_amd64.whl (344 kB)\n",
      "Collecting lxml>=4.1.0\n",
      "  Using cached lxml-4.9.1-cp39-cp39-win_amd64.whl (3.6 MB)\n",
      "Collecting pooch>=1.0\n",
      "  Using cached pooch-1.6.0-py3-none-any.whl (56 kB)\n",
      "Requirement already satisfied: decorator>=3.0.0 in c:\\users\\lucky\\anaconda3\\envs\\dykk\\lib\\site-packages (from librosa==0.8.1) (5.1.1)\n",
      "Collecting scikit-learn!=0.19.0,>=0.14.0\n",
      "  Using cached scikit_learn-1.1.1-cp39-cp39-win_amd64.whl (7.4 MB)\n",
      "Collecting soundfile>=0.10.2\n",
      "  Using cached SoundFile-0.10.3.post1-py2.py3.cp26.cp27.cp32.cp33.cp34.cp35.cp36.pp27.pp32.pp33-none-win_amd64.whl (689 kB)\n",
      "Collecting audioread>=2.0.0\n",
      "  Using cached audioread-2.1.9-py3-none-any.whl\n",
      "Collecting packaging>=20.0\n",
      "  Using cached packaging-21.3-py3-none-any.whl (40 kB)\n",
      "Collecting numba>=0.43.0\n",
      "  Using cached numba-0.55.2-cp39-cp39-win_amd64.whl (2.4 MB)\n",
      "Collecting joblib>=0.14\n",
      "  Using cached joblib-1.1.0-py2.py3-none-any.whl (306 kB)\n",
      "Collecting scipy>=1.0.0\n",
      "  Using cached scipy-1.8.1-cp39-cp39-win_amd64.whl (36.9 MB)\n",
      "Collecting resampy>=0.2.2\n",
      "  Using cached resampy-0.3.1-py3-none-any.whl (3.1 MB)\n",
      "Collecting cycler>=0.10\n",
      "  Using cached cycler-0.11.0-py3-none-any.whl (6.4 kB)\n",
      "Collecting kiwisolver>=1.0.1\n",
      "  Using cached kiwisolver-1.4.4-cp39-cp39-win_amd64.whl (55 kB)\n",
      "Requirement already satisfied: python-dateutil>=2.1 in c:\\users\\lucky\\anaconda3\\envs\\dykk\\lib\\site-packages (from matplotlib==3.2.2) (2.8.2)\n",
      "Collecting pyparsing!=2.0.4,!=2.1.2,!=2.1.6,>=2.0.1\n",
      "  Using cached pyparsing-3.0.9-py3-none-any.whl (98 kB)\n",
      "Collecting decorator>=3.0.0\n",
      "  Using cached decorator-4.4.2-py2.py3-none-any.whl (9.2 kB)\n",
      "Collecting imageio<3.0,>=2.1.2\n",
      "  Using cached imageio-2.19.5-py3-none-any.whl (3.4 MB)\n",
      "Collecting tqdm<5.0,>=4.11.2\n",
      "  Using cached tqdm-4.64.0-py2.py3-none-any.whl (78 kB)\n",
      "Collecting pytz>=2017.3\n",
      "  Using cached pytz-2022.1-py2.py3-none-any.whl (503 kB)\n",
      "Collecting pillow>=8.3.2\n",
      "  Using cached Pillow-9.2.0-cp39-cp39-win_amd64.whl (3.3 MB)\n",
      "Collecting llvmlite<0.39,>=0.38.0rc1\n",
      "  Using cached llvmlite-0.38.1-cp39-cp39-win_amd64.whl (23.2 MB)\n",
      "Requirement already satisfied: setuptools in c:\\users\\lucky\\anaconda3\\envs\\dykk\\lib\\site-packages (from numba>=0.43.0->librosa==0.8.1) (61.2.0)\n",
      "Collecting appdirs>=1.3.0\n",
      "  Using cached appdirs-1.4.4-py2.py3-none-any.whl (9.6 kB)\n",
      "Requirement already satisfied: requests>=2.19.0 in c:\\users\\lucky\\anaconda3\\envs\\dykk\\lib\\site-packages (from pooch>=1.0->librosa==0.8.1) (2.28.1)\n",
      "Requirement already satisfied: six>=1.5 in c:\\users\\lucky\\anaconda3\\envs\\dykk\\lib\\site-packages (from python-dateutil>=2.1->matplotlib==3.2.2) (1.16.0)\n",
      "Collecting threadpoolctl>=2.0.0\n",
      "  Using cached threadpoolctl-3.1.0-py3-none-any.whl (14 kB)\n",
      "Collecting cffi>=1.0\n",
      "  Using cached cffi-1.15.1-cp39-cp39-win_amd64.whl (179 kB)\n",
      "Requirement already satisfied: colorama in c:\\users\\lucky\\anaconda3\\envs\\dykk\\lib\\site-packages (from tqdm<5.0,>=4.11.2->moviepy==0.2.3.5) (0.4.5)\n",
      "Collecting pycparser\n",
      "  Using cached pycparser-2.21-py2.py3-none-any.whl (118 kB)\n",
      "Requirement already satisfied: charset-normalizer<3,>=2 in c:\\users\\lucky\\anaconda3\\envs\\dykk\\lib\\site-packages (from requests>=2.19.0->pooch>=1.0->librosa==0.8.1) (2.1.0)\n",
      "Requirement already satisfied: urllib3<1.27,>=1.21.1 in c:\\users\\lucky\\anaconda3\\envs\\dykk\\lib\\site-packages (from requests>=2.19.0->pooch>=1.0->librosa==0.8.1) (1.26.10)\n",
      "Requirement already satisfied: idna<4,>=2.5 in c:\\users\\lucky\\anaconda3\\envs\\dykk\\lib\\site-packages (from requests>=2.19.0->pooch>=1.0->librosa==0.8.1) (3.3)\n",
      "Requirement already satisfied: certifi>=2017.4.17 in c:\\users\\lucky\\anaconda3\\envs\\dykk\\lib\\site-packages (from requests>=2.19.0->pooch>=1.0->librosa==0.8.1) (2022.6.15)\n",
      "Building wheels for collected packages: moviepy\n",
      "  Building wheel for moviepy (setup.py): started\n",
      "  Building wheel for moviepy (setup.py): finished with status 'done'\n",
      "  Created wheel for moviepy: filename=moviepy-0.2.3.5-py3-none-any.whl size=130216 sha256=c17c47f3455f031a344d743acb558ed9317e8d4c2be37b533bcd4ee1e3357c50\n",
      "  Stored in directory: c:\\users\\lucky\\appdata\\local\\pip\\cache\\wheels\\fc\\07\\36\\d041ca795f0dfbc36b1338f96dd47bd7d6e2607d222db3b0fe\n",
      "Successfully built moviepy\n",
      "Installing collected packages: pytz, audioread, appdirs, tqdm, threadpoolctl, pyparsing, pycparser, pillow, numpy, lxml, llvmlite, kiwisolver, JPype1, joblib, decorator, cycler, scipy, pandas, packaging, opencv-python, numba, matplotlib, konlpy, imageio, cffi, soundfile, scikit-learn, resampy, pooch, moviepy, librosa\n",
      "  Attempting uninstall: decorator\n",
      "    Found existing installation: decorator 5.1.1\n",
      "    Uninstalling decorator-5.1.1:\n",
      "      Successfully uninstalled decorator-5.1.1\n",
      "Successfully installed JPype1-1.4.0 appdirs-1.4.4 audioread-2.1.9 cffi-1.15.1 cycler-0.11.0 decorator-4.4.2 imageio-2.19.5 joblib-1.1.0 kiwisolver-1.4.4 konlpy-0.6.0 librosa-0.8.1 llvmlite-0.38.1 lxml-4.9.1 matplotlib-3.2.2 moviepy-0.2.3.5 numba-0.55.2 numpy-1.21.6 opencv-python-4.6.0.66 packaging-21.3 pandas-1.3.5 pillow-9.2.0 pooch-1.6.0 pycparser-2.21 pyparsing-3.0.9 pytz-2022.1 resampy-0.3.1 scikit-learn-1.1.1 scipy-1.8.1 soundfile-0.10.3.post1 threadpoolctl-3.1.0 tqdm-4.64.0\n",
      "Collecting scikit-learn==1.0.2\n",
      "  Using cached scikit_learn-1.0.2-cp39-cp39-win_amd64.whl (7.2 MB)\n",
      "Collecting scipy==1.7.3\n",
      "  Downloading scipy-1.7.3-cp39-cp39-win_amd64.whl (34.3 MB)\n",
      "     --------------------------------------- 34.3/34.3 MB 40.9 MB/s eta 0:00:00\n",
      "Collecting requests==2.23.0\n",
      "  Downloading requests-2.23.0-py2.py3-none-any.whl (58 kB)\n",
      "     ---------------------------------------- 58.4/58.4 kB ? eta 0:00:00\n",
      "Requirement already satisfied: threadpoolctl>=2.0.0 in c:\\users\\lucky\\anaconda3\\envs\\dykk\\lib\\site-packages (from scikit-learn==1.0.2) (3.1.0)\n",
      "Requirement already satisfied: joblib>=0.11 in c:\\users\\lucky\\anaconda3\\envs\\dykk\\lib\\site-packages (from scikit-learn==1.0.2) (1.1.0)\n",
      "Requirement already satisfied: numpy>=1.14.6 in c:\\users\\lucky\\anaconda3\\envs\\dykk\\lib\\site-packages (from scikit-learn==1.0.2) (1.21.6)\n",
      "Collecting idna<3,>=2.5\n",
      "  Downloading idna-2.10-py2.py3-none-any.whl (58 kB)\n",
      "     ---------------------------------------- 58.8/58.8 kB ? eta 0:00:00\n",
      "Collecting chardet<4,>=3.0.2\n",
      "  Using cached chardet-3.0.4-py2.py3-none-any.whl (133 kB)\n",
      "Collecting urllib3!=1.25.0,!=1.25.1,<1.26,>=1.21.1\n",
      "  Downloading urllib3-1.25.11-py2.py3-none-any.whl (127 kB)\n",
      "     -------------------------------------- 128.0/128.0 kB 7.8 MB/s eta 0:00:00\n",
      "Requirement already satisfied: certifi>=2017.4.17 in c:\\users\\lucky\\anaconda3\\envs\\dykk\\lib\\site-packages (from requests==2.23.0) (2022.6.15)\n",
      "Installing collected packages: chardet, urllib3, scipy, idna, scikit-learn, requests\n",
      "  Attempting uninstall: urllib3\n",
      "    Found existing installation: urllib3 1.26.10\n",
      "    Uninstalling urllib3-1.26.10:\n",
      "      Successfully uninstalled urllib3-1.26.10\n",
      "  Attempting uninstall: scipy\n",
      "    Found existing installation: scipy 1.8.1\n",
      "    Uninstalling scipy-1.8.1:\n",
      "      Successfully uninstalled scipy-1.8.1\n",
      "  Attempting uninstall: idna\n",
      "    Found existing installation: idna 3.3\n",
      "    Uninstalling idna-3.3:\n",
      "      Successfully uninstalled idna-3.3\n",
      "  Attempting uninstall: scikit-learn\n",
      "    Found existing installation: scikit-learn 1.1.1\n",
      "    Uninstalling scikit-learn-1.1.1:\n",
      "      Successfully uninstalled scikit-learn-1.1.1\n",
      "  Attempting uninstall: requests\n",
      "    Found existing installation: requests 2.28.1\n",
      "    Uninstalling requests-2.28.1:\n",
      "      Successfully uninstalled requests-2.28.1\n",
      "Successfully installed chardet-3.0.4 idna-2.10 requests-2.23.0 scikit-learn-1.0.2 scipy-1.7.3 urllib3-1.25.11\n"
     ]
    }
   ],
   "source": [
    "!pip install konlpy librosa==0.8.1 matplotlib==3.2.2 moviepy numpy==1.21.6 opencv-python pandas==1.3.5\n",
    "!pip install scikit-learn==1.0.2 scipy==1.7.3 requests pydub"
   ]
  },
  {
   "cell_type": "code",
   "execution_count": 5,
   "metadata": {},
   "outputs": [],
   "source": [
    "# !conda install -n DYKK ipykernel --update-deps --force-reinstall"
   ]
  },
  {
   "cell_type": "code",
   "execution_count": 6,
   "metadata": {},
   "outputs": [],
   "source": [
    "# !conda install -c conda-forge dlib\n",
    "# !conda install -c conda-forge/label/cf201901 dlib\n",
    "# !conda install -c conda-forge/label/cf202003 dlib"
   ]
  },
  {
   "cell_type": "code",
   "execution_count": 1,
   "metadata": {},
   "outputs": [],
   "source": [
    "import dlib"
   ]
  },
  {
   "cell_type": "code",
   "execution_count": 2,
   "metadata": {},
   "outputs": [],
   "source": [
    "from utils import CLOVA\n",
    "from utils import contents_select\n",
    "from utils import Frontalize\n",
    "from utils import Lip_motion\n",
    "from utils import Pronounce\n",
    "from utils import visualize\n",
    "from utils import Wave"
   ]
  },
  {
   "cell_type": "markdown",
   "metadata": {},
   "source": [
    "## Model Part"
   ]
  },
  {
   "cell_type": "code",
   "execution_count": null,
   "metadata": {},
   "outputs": [],
   "source": []
  }
 ],
 "metadata": {
  "kernelspec": {
   "display_name": "Python 3.9.12 ('DYKK')",
   "language": "python",
   "name": "python3"
  },
  "language_info": {
   "codemirror_mode": {
    "name": "ipython",
    "version": 3
   },
   "file_extension": ".py",
   "mimetype": "text/x-python",
   "name": "python",
   "nbconvert_exporter": "python",
   "pygments_lexer": "ipython3",
   "version": "3.9.12"
  },
  "orig_nbformat": 4,
  "vscode": {
   "interpreter": {
    "hash": "e511d4faf69bee0056e33addf033598a2ee3776aac5110cba70288989677c2e9"
   }
  }
 },
 "nbformat": 4,
 "nbformat_minor": 2
}
