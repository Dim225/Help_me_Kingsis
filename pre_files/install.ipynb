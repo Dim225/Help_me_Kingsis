{
 "cells": [
  {
   "cell_type": "markdown",
   "metadata": {},
   "source": [
    "## Analysis Part"
   ]
  },
  {
   "cell_type": "code",
   "execution_count": 5,
   "metadata": {},
   "outputs": [],
   "source": [
    "# !conda install -n DYKK ipykernel --update-deps --force-reinstall"
   ]
  },
  {
   "cell_type": "code",
   "execution_count": null,
   "metadata": {},
   "outputs": [],
   "source": [
    "# !conda install pytorch==1.9.0 torchvision==0.10.0 cudatoolkit=11.1 -c pytorch -c conda-forge\n",
    "# python.exe -m pip install --upgrade pip\n",
    "!pip install cmake==3.22.5"
   ]
  },
  {
   "cell_type": "code",
   "execution_count": 1,
   "metadata": {},
   "outputs": [
    {
     "name": "stdout",
     "output_type": "stream",
     "text": [
      "Collecting konlpy\n",
      "  Using cached konlpy-0.6.0-py2.py3-none-any.whl (19.4 MB)\n",
      "Collecting JPype1>=0.7.0\n",
      "  Downloading JPype1-1.4.0-cp37-cp37m-win_amd64.whl (343 kB)\n",
      "     ------------------------------------- 343.9/343.9 kB 20.9 MB/s eta 0:00:00\n",
      "Collecting numpy>=1.6\n",
      "  Downloading numpy-1.21.6-cp37-cp37m-win_amd64.whl (14.0 MB)\n",
      "     --------------------------------------- 14.0/14.0 MB 46.7 MB/s eta 0:00:00\n",
      "Collecting lxml>=4.1.0\n",
      "  Downloading lxml-4.9.1-cp37-cp37m-win_amd64.whl (3.6 MB)\n",
      "     ---------------------------------------- 3.6/3.6 MB 45.7 MB/s eta 0:00:00\n",
      "Collecting typing-extensions\n",
      "  Using cached typing_extensions-4.3.0-py3-none-any.whl (25 kB)\n",
      "Installing collected packages: typing-extensions, numpy, lxml, JPype1, konlpy\n",
      "Successfully installed JPype1-1.4.0 konlpy-0.6.0 lxml-4.9.1 numpy-1.21.6 typing-extensions-4.3.0\n",
      "Collecting librosa==0.8.1\n",
      "  Using cached librosa-0.8.1-py3-none-any.whl (203 kB)\n",
      "Collecting resampy>=0.2.2\n",
      "  Using cached resampy-0.3.1-py3-none-any.whl (3.1 MB)\n",
      "Collecting scikit-learn!=0.19.0,>=0.14.0\n",
      "  Downloading scikit_learn-1.0.2-cp37-cp37m-win_amd64.whl (7.1 MB)\n",
      "     ---------------------------------------- 7.1/7.1 MB 45.3 MB/s eta 0:00:00\n",
      "Collecting packaging>=20.0\n",
      "  Using cached packaging-21.3-py3-none-any.whl (40 kB)\n",
      "Collecting audioread>=2.0.0\n",
      "  Using cached audioread-2.1.9.tar.gz (377 kB)\n",
      "  Preparing metadata (setup.py): started\n",
      "  Preparing metadata (setup.py): finished with status 'done'\n",
      "Collecting numba>=0.43.0\n",
      "  Downloading numba-0.56.0-cp37-cp37m-win_amd64.whl (2.5 MB)\n",
      "     ---------------------------------------- 2.5/2.5 MB 39.0 MB/s eta 0:00:00\n",
      "Collecting pooch>=1.0\n",
      "  Using cached pooch-1.6.0-py3-none-any.whl (56 kB)\n",
      "Requirement already satisfied: numpy>=1.15.0 in c:\\users\\lucky\\anaconda3\\envs\\dyan\\lib\\site-packages (from librosa==0.8.1) (1.21.6)\n",
      "Collecting joblib>=0.14\n",
      "  Using cached joblib-1.1.0-py2.py3-none-any.whl (306 kB)\n",
      "Collecting scipy>=1.0.0\n",
      "  Downloading scipy-1.7.3-cp37-cp37m-win_amd64.whl (34.1 MB)\n",
      "     --------------------------------------- 34.1/34.1 MB 40.9 MB/s eta 0:00:00\n",
      "Requirement already satisfied: decorator>=3.0.0 in c:\\users\\lucky\\anaconda3\\envs\\dyan\\lib\\site-packages (from librosa==0.8.1) (5.1.1)\n",
      "Collecting soundfile>=0.10.2\n",
      "  Using cached SoundFile-0.10.3.post1-py2.py3.cp26.cp27.cp32.cp33.cp34.cp35.cp36.pp27.pp32.pp33-none-win_amd64.whl (689 kB)\n",
      "Collecting importlib-metadata\n",
      "  Using cached importlib_metadata-4.12.0-py3-none-any.whl (21 kB)\n",
      "Collecting llvmlite<0.40,>=0.39.0dev0\n",
      "  Downloading llvmlite-0.39.0-cp37-cp37m-win_amd64.whl (23.2 MB)\n",
      "     --------------------------------------- 23.2/23.2 MB 11.5 MB/s eta 0:00:00\n",
      "Requirement already satisfied: setuptools in c:\\users\\lucky\\anaconda3\\envs\\dyan\\lib\\site-packages (from numba>=0.43.0->librosa==0.8.1) (61.2.0)\n",
      "Collecting pyparsing!=3.0.5,>=2.0.2\n",
      "  Using cached pyparsing-3.0.9-py3-none-any.whl (98 kB)\n",
      "Collecting appdirs>=1.3.0\n",
      "  Using cached appdirs-1.4.4-py2.py3-none-any.whl (9.6 kB)\n",
      "Collecting requests>=2.19.0\n",
      "  Using cached requests-2.28.1-py3-none-any.whl (62 kB)\n",
      "Collecting threadpoolctl>=2.0.0\n",
      "  Using cached threadpoolctl-3.1.0-py3-none-any.whl (14 kB)\n",
      "Collecting cffi>=1.0\n",
      "  Downloading cffi-1.15.1-cp37-cp37m-win_amd64.whl (179 kB)\n",
      "     ---------------------------------------- 179.3/179.3 kB ? eta 0:00:00\n",
      "Collecting pycparser\n",
      "  Using cached pycparser-2.21-py2.py3-none-any.whl (118 kB)\n",
      "Collecting charset-normalizer<3,>=2\n",
      "  Using cached charset_normalizer-2.1.0-py3-none-any.whl (39 kB)\n",
      "Collecting urllib3<1.27,>=1.21.1\n",
      "  Using cached urllib3-1.26.11-py2.py3-none-any.whl (139 kB)\n",
      "Requirement already satisfied: certifi>=2017.4.17 in c:\\users\\lucky\\anaconda3\\envs\\dyan\\lib\\site-packages (from requests>=2.19.0->pooch>=1.0->librosa==0.8.1) (2022.6.15)\n",
      "Collecting idna<4,>=2.5\n",
      "  Using cached idna-3.3-py3-none-any.whl (61 kB)\n",
      "Collecting zipp>=0.5\n",
      "  Using cached zipp-3.8.1-py3-none-any.whl (5.6 kB)\n",
      "Requirement already satisfied: typing-extensions>=3.6.4 in c:\\users\\lucky\\anaconda3\\envs\\dyan\\lib\\site-packages (from importlib-metadata->numba>=0.43.0->librosa==0.8.1) (4.3.0)\n",
      "Building wheels for collected packages: audioread\n",
      "  Building wheel for audioread (setup.py): started\n",
      "  Building wheel for audioread (setup.py): finished with status 'done'\n",
      "  Created wheel for audioread: filename=audioread-2.1.9-py3-none-any.whl size=23153 sha256=bebc701349cff3270691aa239ee22471d96cc5d6ed6fb4bf81f3d590ae71219a\n",
      "  Stored in directory: c:\\users\\lucky\\appdata\\local\\pip\\cache\\wheels\\ba\\7b\\eb\\213741ccc0678f63e346ab8dff10495995ca3f426af87b8d88\n",
      "Successfully built audioread\n",
      "Installing collected packages: audioread, appdirs, zipp, urllib3, threadpoolctl, scipy, pyparsing, pycparser, llvmlite, joblib, idna, charset-normalizer, scikit-learn, requests, packaging, importlib-metadata, cffi, soundfile, pooch, numba, resampy, librosa\n",
      "Successfully installed appdirs-1.4.4 audioread-2.1.9 cffi-1.15.1 charset-normalizer-2.1.0 idna-3.3 importlib-metadata-4.12.0 joblib-1.1.0 librosa-0.8.1 llvmlite-0.39.0 numba-0.56.0 packaging-21.3 pooch-1.6.0 pycparser-2.21 pyparsing-3.0.9 requests-2.28.1 resampy-0.3.1 scikit-learn-1.0.2 scipy-1.7.3 soundfile-0.10.3.post1 threadpoolctl-3.1.0 urllib3-1.26.11 zipp-3.8.1\n",
      "Collecting matplotlib==3.2.2\n",
      "  Downloading matplotlib-3.2.2-cp37-cp37m-win_amd64.whl (9.2 MB)\n",
      "     ---------------------------------------- 9.2/9.2 MB 39.5 MB/s eta 0:00:00\n",
      "Collecting kiwisolver>=1.0.1\n",
      "  Downloading kiwisolver-1.4.4-cp37-cp37m-win_amd64.whl (54 kB)\n",
      "     ---------------------------------------- 54.9/54.9 kB ? eta 0:00:00\n",
      "Requirement already satisfied: numpy>=1.11 in c:\\users\\lucky\\anaconda3\\envs\\dyan\\lib\\site-packages (from matplotlib==3.2.2) (1.21.6)\n",
      "Requirement already satisfied: python-dateutil>=2.1 in c:\\users\\lucky\\anaconda3\\envs\\dyan\\lib\\site-packages (from matplotlib==3.2.2) (2.8.2)\n",
      "Collecting cycler>=0.10\n",
      "  Using cached cycler-0.11.0-py3-none-any.whl (6.4 kB)\n",
      "Requirement already satisfied: pyparsing!=2.0.4,!=2.1.2,!=2.1.6,>=2.0.1 in c:\\users\\lucky\\anaconda3\\envs\\dyan\\lib\\site-packages (from matplotlib==3.2.2) (3.0.9)\n",
      "Requirement already satisfied: typing-extensions in c:\\users\\lucky\\anaconda3\\envs\\dyan\\lib\\site-packages (from kiwisolver>=1.0.1->matplotlib==3.2.2) (4.3.0)\n",
      "Requirement already satisfied: six>=1.5 in c:\\users\\lucky\\anaconda3\\envs\\dyan\\lib\\site-packages (from python-dateutil>=2.1->matplotlib==3.2.2) (1.16.0)\n",
      "Installing collected packages: kiwisolver, cycler, matplotlib\n",
      "Successfully installed cycler-0.11.0 kiwisolver-1.4.4 matplotlib-3.2.2\n",
      "Collecting moviepy\n",
      "  Using cached moviepy-1.0.3.tar.gz (388 kB)\n",
      "  Preparing metadata (setup.py): started\n",
      "  Preparing metadata (setup.py): finished with status 'done'\n",
      "Collecting decorator<5.0,>=4.0.2\n",
      "  Using cached decorator-4.4.2-py2.py3-none-any.whl (9.2 kB)\n",
      "Collecting tqdm<5.0,>=4.11.2\n",
      "  Using cached tqdm-4.64.0-py2.py3-none-any.whl (78 kB)\n",
      "Requirement already satisfied: requests<3.0,>=2.8.1 in c:\\users\\lucky\\anaconda3\\envs\\dyan\\lib\\site-packages (from moviepy) (2.28.1)\n",
      "Collecting proglog<=1.0.0\n",
      "  Using cached proglog-0.1.10-py3-none-any.whl (6.1 kB)\n",
      "Requirement already satisfied: numpy>=1.17.3 in c:\\users\\lucky\\anaconda3\\envs\\dyan\\lib\\site-packages (from moviepy) (1.21.6)\n",
      "Collecting imageio<3.0,>=2.5\n",
      "  Downloading imageio-2.20.0-py3-none-any.whl (3.4 MB)\n",
      "     ---------------------------------------- 3.4/3.4 MB 30.7 MB/s eta 0:00:00\n",
      "Collecting imageio_ffmpeg>=0.2.0\n",
      "  Using cached imageio_ffmpeg-0.4.7-py3-none-win_amd64.whl (22.6 MB)\n",
      "Collecting pillow>=8.3.2\n",
      "  Downloading Pillow-9.2.0-cp37-cp37m-win_amd64.whl (3.3 MB)\n",
      "     ---------------------------------------- 3.3/3.3 MB 51.8 MB/s eta 0:00:00\n",
      "Requirement already satisfied: charset-normalizer<3,>=2 in c:\\users\\lucky\\anaconda3\\envs\\dyan\\lib\\site-packages (from requests<3.0,>=2.8.1->moviepy) (2.1.0)\n",
      "Requirement already satisfied: idna<4,>=2.5 in c:\\users\\lucky\\anaconda3\\envs\\dyan\\lib\\site-packages (from requests<3.0,>=2.8.1->moviepy) (3.3)\n",
      "Requirement already satisfied: urllib3<1.27,>=1.21.1 in c:\\users\\lucky\\anaconda3\\envs\\dyan\\lib\\site-packages (from requests<3.0,>=2.8.1->moviepy) (1.26.11)\n",
      "Requirement already satisfied: certifi>=2017.4.17 in c:\\users\\lucky\\anaconda3\\envs\\dyan\\lib\\site-packages (from requests<3.0,>=2.8.1->moviepy) (2022.6.15)\n",
      "Requirement already satisfied: colorama in c:\\users\\lucky\\anaconda3\\envs\\dyan\\lib\\site-packages (from tqdm<5.0,>=4.11.2->moviepy) (0.4.5)\n",
      "Building wheels for collected packages: moviepy\n",
      "  Building wheel for moviepy (setup.py): started\n",
      "  Building wheel for moviepy (setup.py): finished with status 'done'\n",
      "  Created wheel for moviepy: filename=moviepy-1.0.3-py3-none-any.whl size=110743 sha256=d682521d3cf232fcf42e0a3acad123ee62f4246075842cd9f43071879848aca0\n",
      "  Stored in directory: c:\\users\\lucky\\appdata\\local\\pip\\cache\\wheels\\56\\dc\\2b\\9cd600d483c04af3353d66623056fc03faed76b7518faae4df\n",
      "Successfully built moviepy\n",
      "Installing collected packages: tqdm, pillow, imageio_ffmpeg, decorator, proglog, imageio, moviepy\n",
      "  Attempting uninstall: decorator\n",
      "    Found existing installation: decorator 5.1.1\n",
      "    Uninstalling decorator-5.1.1:\n",
      "      Successfully uninstalled decorator-5.1.1\n",
      "Successfully installed decorator-4.4.2 imageio-2.20.0 imageio_ffmpeg-0.4.7 moviepy-1.0.3 pillow-9.2.0 proglog-0.1.10 tqdm-4.64.0\n",
      "Requirement already satisfied: numpy==1.21.6 in c:\\users\\lucky\\anaconda3\\envs\\dyan\\lib\\site-packages (1.21.6)\n",
      "Collecting opencv-python\n",
      "  Using cached opencv_python-4.6.0.66-cp36-abi3-win_amd64.whl (35.6 MB)\n",
      "Requirement already satisfied: numpy>=1.14.5 in c:\\users\\lucky\\anaconda3\\envs\\dyan\\lib\\site-packages (from opencv-python) (1.21.6)\n",
      "Installing collected packages: opencv-python\n",
      "Successfully installed opencv-python-4.6.0.66\n",
      "Collecting pandas==1.3.5\n",
      "  Downloading pandas-1.3.5-cp37-cp37m-win_amd64.whl (10.0 MB)\n",
      "     --------------------------------------- 10.0/10.0 MB 45.7 MB/s eta 0:00:00\n",
      "Requirement already satisfied: python-dateutil>=2.7.3 in c:\\users\\lucky\\anaconda3\\envs\\dyan\\lib\\site-packages (from pandas==1.3.5) (2.8.2)\n",
      "Collecting pytz>=2017.3\n",
      "  Using cached pytz-2022.1-py2.py3-none-any.whl (503 kB)\n",
      "Requirement already satisfied: numpy>=1.17.3 in c:\\users\\lucky\\anaconda3\\envs\\dyan\\lib\\site-packages (from pandas==1.3.5) (1.21.6)\n",
      "Requirement already satisfied: six>=1.5 in c:\\users\\lucky\\anaconda3\\envs\\dyan\\lib\\site-packages (from python-dateutil>=2.7.3->pandas==1.3.5) (1.16.0)\n",
      "Installing collected packages: pytz, pandas\n",
      "Successfully installed pandas-1.3.5 pytz-2022.1\n",
      "Requirement already satisfied: scikit-learn==1.0.2 in c:\\users\\lucky\\anaconda3\\envs\\dyan\\lib\\site-packages (1.0.2)\n",
      "Requirement already satisfied: numpy>=1.14.6 in c:\\users\\lucky\\anaconda3\\envs\\dyan\\lib\\site-packages (from scikit-learn==1.0.2) (1.21.6)\n",
      "Requirement already satisfied: joblib>=0.11 in c:\\users\\lucky\\anaconda3\\envs\\dyan\\lib\\site-packages (from scikit-learn==1.0.2) (1.1.0)\n",
      "Requirement already satisfied: scipy>=1.1.0 in c:\\users\\lucky\\anaconda3\\envs\\dyan\\lib\\site-packages (from scikit-learn==1.0.2) (1.7.3)\n",
      "Requirement already satisfied: threadpoolctl>=2.0.0 in c:\\users\\lucky\\anaconda3\\envs\\dyan\\lib\\site-packages (from scikit-learn==1.0.2) (3.1.0)\n",
      "Requirement already satisfied: scipy==1.7.3 in c:\\users\\lucky\\anaconda3\\envs\\dyan\\lib\\site-packages (1.7.3)\n",
      "Requirement already satisfied: numpy<1.23.0,>=1.16.5 in c:\\users\\lucky\\anaconda3\\envs\\dyan\\lib\\site-packages (from scipy==1.7.3) (1.21.6)\n",
      "Requirement already satisfied: requests in c:\\users\\lucky\\anaconda3\\envs\\dyan\\lib\\site-packages (2.28.1)\n",
      "Requirement already satisfied: certifi>=2017.4.17 in c:\\users\\lucky\\anaconda3\\envs\\dyan\\lib\\site-packages (from requests) (2022.6.15)\n",
      "Requirement already satisfied: idna<4,>=2.5 in c:\\users\\lucky\\anaconda3\\envs\\dyan\\lib\\site-packages (from requests) (3.3)\n",
      "Requirement already satisfied: urllib3<1.27,>=1.21.1 in c:\\users\\lucky\\anaconda3\\envs\\dyan\\lib\\site-packages (from requests) (1.26.11)\n",
      "Requirement already satisfied: charset-normalizer<3,>=2 in c:\\users\\lucky\\anaconda3\\envs\\dyan\\lib\\site-packages (from requests) (2.1.0)\n",
      "Collecting pydub\n",
      "  Using cached pydub-0.25.1-py2.py3-none-any.whl (32 kB)\n",
      "Installing collected packages: pydub\n",
      "Successfully installed pydub-0.25.1\n"
     ]
    }
   ],
   "source": [
    "!pip install konlpy \n",
    "!pip install librosa==0.8.1 \n",
    "!pip install matplotlib==3.2.2\n",
    "!pip install moviepy\n",
    "!pip install numpy==1.21.6\n",
    "!pip install opencv-python\n",
    "!pip install pandas==1.3.5\n",
    "!pip install scikit-learn==1.0.2\n",
    "!pip install scipy==1.7.3\n",
    "!pip install requests\n",
    "!pip install pydub"
   ]
  },
  {
   "cell_type": "code",
   "execution_count": 2,
   "metadata": {},
   "outputs": [
    {
     "name": "stdout",
     "output_type": "stream",
     "text": [
      "^C\n"
     ]
    }
   ],
   "source": [
    "# !conda install -c conda-forge dlib\n",
    "# !conda install -c conda-forge/label/cf201901 dlib\n",
    "# !conda install -c conda-forge/label/cf202003 dlib"
   ]
  },
  {
   "cell_type": "code",
   "execution_count": 2,
   "metadata": {},
   "outputs": [],
   "source": [
    "import dlib"
   ]
  },
  {
   "cell_type": "code",
   "execution_count": 2,
   "metadata": {},
   "outputs": [
    {
     "name": "stdout",
     "output_type": "stream",
     "text": [
      "Collecting numpy==1.21.6\n",
      "  Using cached numpy-1.21.6-cp39-cp39-win_amd64.whl (14.0 MB)\n",
      "Installing collected packages: numpy\n",
      "  Attempting uninstall: numpy\n",
      "    Found existing installation: numpy 1.23.1\n",
      "    Uninstalling numpy-1.23.1:\n",
      "      Successfully uninstalled numpy-1.23.1\n",
      "Successfully installed numpy-1.21.6\n",
      "Collecting ffmpeg-python\n",
      "  Using cached ffmpeg_python-0.2.0-py3-none-any.whl (25 kB)\n",
      "Collecting future\n",
      "  Downloading future-0.18.2.tar.gz (829 kB)\n",
      "     ------------------------------------- 829.2/829.2 kB 13.0 MB/s eta 0:00:00\n",
      "  Preparing metadata (setup.py): started\n",
      "  Preparing metadata (setup.py): finished with status 'done'\n",
      "Building wheels for collected packages: future\n",
      "  Building wheel for future (setup.py): started\n",
      "  Building wheel for future (setup.py): finished with status 'done'\n",
      "  Created wheel for future: filename=future-0.18.2-py3-none-any.whl size=491070 sha256=127d4ea7dc766066fbed08cab530a24d397a6a9aac6940faf85395b74b8451a0\n",
      "  Stored in directory: c:\\users\\lucky\\appdata\\local\\pip\\cache\\wheels\\2f\\a0\\d3\\4030d9f80e6b3be787f19fc911b8e7aa462986a40ab1e4bb94\n",
      "Successfully built future\n",
      "Installing collected packages: future, ffmpeg-python\n",
      "Successfully installed ffmpeg-python-0.2.0 future-0.18.2\n"
     ]
    }
   ],
   "source": [
    "!pip install numpy==1.21.6\n",
    "# FFMPEG 시스템 환경 변수 설정\n",
    "!pip install ffmpeg-python"
   ]
  },
  {
   "cell_type": "code",
   "execution_count": null,
   "metadata": {},
   "outputs": [],
   "source": [
    "# JAVA_HOME 시스템 환경 변수 설정\n",
    "# !conda install -c conda-forge jpype1"
   ]
  },
  {
   "cell_type": "code",
   "execution_count": 1,
   "metadata": {},
   "outputs": [],
   "source": [
    "from utils import CLOVA\n",
    "from utils import contents_select\n",
    "from utils import Frontalize\n",
    "from utils import Lip_motion\n",
    "from utils import Pronounce\n",
    "from utils import visualize\n",
    "from utils import Wave"
   ]
  },
  {
   "cell_type": "markdown",
   "metadata": {},
   "source": [
    "## Model Part"
   ]
  },
  {
   "cell_type": "code",
   "execution_count": null,
   "metadata": {},
   "outputs": [],
   "source": [
    "# python.exe -m pip install --upgrade pip"
   ]
  },
  {
   "cell_type": "code",
   "execution_count": null,
   "metadata": {},
   "outputs": [],
   "source": [
    "%cd model/KoBERT\n",
    "\n",
    "!pip install -r requirements.txt\n",
    "!pip install git+https://git@github.com/SKTBrain/KoBERT.git@master\n",
    "\n",
    "%cd ..\n",
    "%cd .."
   ]
  },
  {
   "cell_type": "code",
   "execution_count": 1,
   "metadata": {},
   "outputs": [
    {
     "name": "stdout",
     "output_type": "stream",
     "text": [
      "Collecting pydub\n",
      "  Using cached pydub-0.25.1-py2.py3-none-any.whl (32 kB)\n",
      "Installing collected packages: pydub\n",
      "Successfully installed pydub-0.25.1\n",
      "Collecting soundfile\n",
      "  Using cached SoundFile-0.10.3.post1-py2.py3.cp26.cp27.cp32.cp33.cp34.cp35.cp36.pp27.pp32.pp33-none-win_amd64.whl (689 kB)\n",
      "Collecting cffi>=1.0\n",
      "  Using cached cffi-1.15.1-cp39-cp39-win_amd64.whl (179 kB)\n",
      "Collecting pycparser\n",
      "  Using cached pycparser-2.21-py2.py3-none-any.whl (118 kB)\n",
      "Installing collected packages: pycparser, cffi, soundfile\n",
      "Successfully installed cffi-1.15.1 pycparser-2.21 soundfile-0.10.3.post1\n",
      "Collecting konlpy\n",
      "  Using cached konlpy-0.6.0-py2.py3-none-any.whl (19.4 MB)\n",
      "Collecting lxml>=4.1.0\n",
      "  Using cached lxml-4.9.1-cp39-cp39-win_amd64.whl (3.6 MB)\n",
      "Collecting JPype1>=0.7.0\n",
      "  Using cached JPype1-1.4.0-cp39-cp39-win_amd64.whl (344 kB)\n",
      "Requirement already satisfied: numpy>=1.6 in c:\\users\\lucky\\appdata\\roaming\\python\\python39\\site-packages (from konlpy) (1.16.6)\n",
      "Installing collected packages: lxml, JPype1, konlpy\n",
      "Successfully installed JPype1-1.4.0 konlpy-0.6.0 lxml-4.9.1\n",
      "Collecting transformers\n",
      "  Using cached transformers-4.20.1-py3-none-any.whl (4.4 MB)\n",
      "Requirement already satisfied: requests in c:\\users\\lucky\\appdata\\roaming\\python\\python39\\site-packages (from transformers) (2.18.4)\n",
      "Collecting packaging>=20.0\n",
      "  Using cached packaging-21.3-py3-none-any.whl (40 kB)\n",
      "Collecting huggingface-hub<1.0,>=0.1.0\n",
      "  Using cached huggingface_hub-0.8.1-py3-none-any.whl (101 kB)\n",
      "Collecting regex!=2019.12.17\n",
      "  Using cached regex-2022.7.25-cp39-cp39-win_amd64.whl (262 kB)\n",
      "Collecting tokenizers!=0.11.3,<0.13,>=0.11.1\n",
      "  Using cached tokenizers-0.12.1-cp39-cp39-win_amd64.whl (3.3 MB)\n",
      "Collecting pyyaml>=5.1\n",
      "  Using cached PyYAML-6.0-cp39-cp39-win_amd64.whl (151 kB)\n",
      "Collecting filelock\n",
      "  Using cached filelock-3.7.1-py3-none-any.whl (10 kB)"
     ]
    },
    {
     "name": "stderr",
     "output_type": "stream",
     "text": [
      "ERROR: pip's dependency resolver does not currently take into account all the packages that are installed. This behaviour is the source of the following dependency conflicts.\n",
      "mxnet 1.7.0.post2 requires numpy<1.17.0,>=1.8.2, but you have numpy 1.23.1 which is incompatible.\n"
     ]
    },
    {
     "name": "stdout",
     "output_type": "stream",
     "text": [
      "\n",
      "Collecting tqdm>=4.27\n",
      "  Using cached tqdm-4.64.0-py2.py3-none-any.whl (78 kB)\n",
      "Collecting numpy>=1.17\n",
      "  Using cached numpy-1.23.1-cp39-cp39-win_amd64.whl (14.7 MB)\n",
      "Collecting typing-extensions>=3.7.4.3\n",
      "  Using cached typing_extensions-4.3.0-py3-none-any.whl (25 kB)\n",
      "Collecting pyparsing!=3.0.5,>=2.0.2\n",
      "  Using cached pyparsing-3.0.9-py3-none-any.whl (98 kB)\n",
      "Requirement already satisfied: colorama in c:\\users\\lucky\\anaconda3\\envs\\dykk\\lib\\site-packages (from tqdm>=4.27->transformers) (0.4.5)\n",
      "Requirement already satisfied: chardet<3.1.0,>=3.0.2 in c:\\users\\lucky\\appdata\\roaming\\python\\python39\\site-packages (from requests->transformers) (3.0.4)\n",
      "Requirement already satisfied: certifi>=2017.4.17 in c:\\users\\lucky\\anaconda3\\envs\\dykk\\lib\\site-packages (from requests->transformers) (2022.6.15)\n",
      "Requirement already satisfied: idna<2.7,>=2.5 in c:\\users\\lucky\\appdata\\roaming\\python\\python39\\site-packages (from requests->transformers) (2.6)\n",
      "Collecting urllib3<1.23,>=1.21.1\n",
      "  Using cached urllib3-1.22-py2.py3-none-any.whl (132 kB)\n",
      "Installing collected packages: urllib3, tokenizers, typing-extensions, tqdm, regex, pyyaml, pyparsing, numpy, filelock, packaging, huggingface-hub, transformers\n",
      "  Attempting uninstall: numpy\n",
      "    Found existing installation: numpy 1.16.6\n",
      "    Uninstalling numpy-1.16.6:\n",
      "      Successfully uninstalled numpy-1.16.6\n",
      "Successfully installed filelock-3.7.1 huggingface-hub-0.8.1 numpy-1.23.1 packaging-21.3 pyparsing-3.0.9 pyyaml-6.0 regex-2022.7.25 tokenizers-0.12.1 tqdm-4.64.0 transformers-4.20.1 typing-extensions-4.3.0 urllib3-1.22\n",
      "Requirement already satisfied: mxnet in c:\\users\\lucky\\appdata\\roaming\\python\\python39\\site-packages (1.7.0.post2)\n",
      "Requirement already satisfied: requests<2.19.0,>=2.18.4 in c:\\users\\lucky\\appdata\\roaming\\python\\python39\\site-packages (from mxnet) (2.18.4)\n",
      "Requirement already satisfied: graphviz<0.9.0,>=0.8.1 in c:\\users\\lucky\\appdata\\roaming\\python\\python39\\site-packages (from mxnet) (0.8.4)\n",
      "Collecting numpy<1.17.0,>=1.8.2\n",
      "  Using cached numpy-1.16.6-cp39-cp39-win_amd64.whl\n",
      "Requirement already satisfied: urllib3<1.23,>=1.21.1 in c:\\users\\lucky\\anaconda3\\envs\\dykk\\lib\\site-packages (from requests<2.19.0,>=2.18.4->mxnet) (1.22)\n",
      "Requirement already satisfied: chardet<3.1.0,>=3.0.2 in c:\\users\\lucky\\appdata\\roaming\\python\\python39\\site-packages (from requests<2.19.0,>=2.18.4->mxnet) (3.0.4)\n",
      "Requirement already satisfied: idna<2.7,>=2.5 in c:\\users\\lucky\\appdata\\roaming\\python\\python39\\site-packages (from requests<2.19.0,>=2.18.4->mxnet) (2.6)\n",
      "Requirement already satisfied: certifi>=2017.4.17 in c:\\users\\lucky\\anaconda3\\envs\\dykk\\lib\\site-packages (from requests<2.19.0,>=2.18.4->mxnet) (2022.6.15)\n",
      "Installing collected packages: numpy\n",
      "Successfully installed numpy-1.16.6\n"
     ]
    },
    {
     "name": "stderr",
     "output_type": "stream",
     "text": [
      "  WARNING: The script f2py.exe is installed in 'C:\\Users\\lucky\\AppData\\Roaming\\Python\\Python39\\Scripts' which is not on PATH.\n",
      "  Consider adding this directory to PATH or, if you prefer to suppress this warning, use --no-warn-script-location.\n",
      "ERROR: pip's dependency resolver does not currently take into account all the packages that are installed. This behaviour is the source of the following dependency conflicts.\n",
      "transformers 4.20.1 requires numpy>=1.17, but you have numpy 1.16.6 which is incompatible.\n"
     ]
    },
    {
     "name": "stdout",
     "output_type": "stream",
     "text": [
      "Collecting gluonnlp==0.6.0\n",
      "  Using cached gluonnlp-0.6.0-py3-none-any.whl\n",
      "Requirement already satisfied: numpy in c:\\users\\lucky\\appdata\\roaming\\python\\python39\\site-packages (from gluonnlp==0.6.0) (1.16.6)\n",
      "Installing collected packages: gluonnlp\n",
      "Successfully installed gluonnlp-0.6.0\n",
      "Collecting onnxruntime==1.8.0\n",
      "  Using cached onnxruntime-1.8.0-cp39-cp39-win_amd64.whl (4.7 MB)\n",
      "Collecting flatbuffers\n",
      "  Using cached flatbuffers-2.0-py2.py3-none-any.whl (26 kB)\n",
      "Collecting protobuf\n",
      "  Using cached protobuf-4.21.3-cp39-cp39-win_amd64.whl (525 kB)\n",
      "Requirement already satisfied: numpy>=1.16.6 in c:\\users\\lucky\\appdata\\roaming\\python\\python39\\site-packages (from onnxruntime==1.8.0) (1.16.6)\n",
      "Installing collected packages: flatbuffers, protobuf, onnxruntime\n",
      "Successfully installed flatbuffers-2.0 onnxruntime-1.8.0 protobuf-4.21.3\n",
      "Requirement already satisfied: urllib3 in c:\\users\\lucky\\anaconda3\\envs\\dykk\\lib\\site-packages (1.22)\n",
      "Collecting urllib3\n",
      "  Using cached urllib3-1.26.11-py2.py3-none-any.whl (139 kB)\n",
      "Installing collected packages: urllib3\n",
      "  Attempting uninstall: urllib3\n",
      "    Found existing installation: urllib3 1.22"
     ]
    },
    {
     "name": "stderr",
     "output_type": "stream",
     "text": [
      "ERROR: pip's dependency resolver does not currently take into account all the packages that are installed. This behaviour is the source of the following dependency conflicts.\n",
      "requests 2.18.4 requires urllib3<1.23,>=1.21.1, but you have urllib3 1.26.11 which is incompatible.\n",
      "transformers 4.20.1 requires numpy>=1.17, but you have numpy 1.16.6 which is incompatible.\n"
     ]
    },
    {
     "name": "stdout",
     "output_type": "stream",
     "text": [
      "\n",
      "    Uninstalling urllib3-1.22:\n",
      "      Successfully uninstalled urllib3-1.22\n",
      "Successfully installed urllib3-1.26.11\n",
      "Collecting numpy==1.21.6"
     ]
    },
    {
     "name": "stderr",
     "output_type": "stream",
     "text": [
      "ERROR: pip's dependency resolver does not currently take into account all the packages that are installed. This behaviour is the source of the following dependency conflicts.\n",
      "mxnet 1.7.0.post2 requires numpy<1.17.0,>=1.8.2, but you have numpy 1.21.6 which is incompatible.\n"
     ]
    },
    {
     "name": "stdout",
     "output_type": "stream",
     "text": [
      "\n",
      "  Using cached numpy-1.21.6-cp39-cp39-win_amd64.whl (14.0 MB)\n",
      "Installing collected packages: numpy\n",
      "  Attempting uninstall: numpy\n",
      "    Found existing installation: numpy 1.16.6\n",
      "    Uninstalling numpy-1.16.6:\n",
      "      Successfully uninstalled numpy-1.16.6\n",
      "Successfully installed numpy-1.23.1\n",
      "Collecting sentencepiece\n",
      "  Using cached sentencepiece-0.1.96-cp39-cp39-win_amd64.whl (1.1 MB)\n",
      "Installing collected packages: sentencepiece\n",
      "Successfully installed sentencepiece-0.1.96\n",
      "Collecting torchmetrics\n",
      "  Using cached torchmetrics-0.9.3-py3-none-any.whl (419 kB)\n",
      "Collecting torch>=1.3.1\n",
      "  Using cached torch-1.12.0-cp39-cp39-win_amd64.whl (161.8 MB)\n",
      "Requirement already satisfied: packaging in c:\\users\\lucky\\anaconda3\\envs\\dykk\\lib\\site-packages (from torchmetrics) (21.3)\n",
      "Requirement already satisfied: numpy>=1.17.2 in c:\\users\\lucky\\anaconda3\\envs\\dykk\\lib\\site-packages (from torchmetrics) (1.23.1)\n",
      "Requirement already satisfied: typing-extensions in c:\\users\\lucky\\anaconda3\\envs\\dykk\\lib\\site-packages (from torch>=1.3.1->torchmetrics) (4.3.0)\n",
      "Requirement already satisfied: pyparsing!=3.0.5,>=2.0.2 in c:\\users\\lucky\\anaconda3\\envs\\dykk\\lib\\site-packages (from packaging->torchmetrics) (3.0.9)\n",
      "Installing collected packages: torch, torchmetrics\n",
      "Successfully installed torch-1.12.0 torchmetrics-0.9.3\n",
      "Collecting awscli\n",
      "  Using cached awscli-1.25.37-py3-none-any.whl (3.9 MB)\n",
      "Collecting docutils<0.17,>=0.10\n",
      "  Using cached docutils-0.16-py2.py3-none-any.whl (548 kB)\n",
      "Collecting PyYAML<5.5,>=3.10\n",
      "  Using cached PyYAML-5.4.1-cp39-cp39-win_amd64.whl (213 kB)\n",
      "Collecting botocore==1.27.37\n",
      "  Using cached botocore-1.27.37-py3-none-any.whl (9.0 MB)\n",
      "Collecting s3transfer<0.7.0,>=0.6.0\n",
      "  Using cached s3transfer-0.6.0-py3-none-any.whl (79 kB)\n",
      "Collecting rsa<4.8,>=3.1.2\n",
      "  Using cached rsa-4.7.2-py3-none-any.whl (34 kB)\n",
      "Collecting colorama<0.4.5,>=0.2.5\n",
      "  Using cached colorama-0.4.4-py2.py3-none-any.whl (16 kB)\n",
      "Requirement already satisfied: python-dateutil<3.0.0,>=2.1 in c:\\users\\lucky\\anaconda3\\envs\\dykk\\lib\\site-packages (from botocore==1.27.37->awscli) (2.8.2)\n",
      "Requirement already satisfied: urllib3<1.27,>=1.25.4 in c:\\users\\lucky\\anaconda3\\envs\\dykk\\lib\\site-packages (from botocore==1.27.37->awscli) (1.26.11)\n",
      "Collecting jmespath<2.0.0,>=0.7.1\n",
      "  Using cached jmespath-1.0.1-py3-none-any.whl (20 kB)\n",
      "Collecting pyasn1>=0.1.3\n",
      "  Using cached pyasn1-0.4.8-py2.py3-none-any.whl (77 kB)\n",
      "Requirement already satisfied: six>=1.5 in c:\\users\\lucky\\anaconda3\\envs\\dykk\\lib\\site-packages (from python-dateutil<3.0.0,>=2.1->botocore==1.27.37->awscli) (1.16.0)\n",
      "Installing collected packages: pyasn1, rsa, PyYAML, jmespath, docutils, colorama, botocore, s3transfer, awscli\n",
      "  Attempting uninstall: PyYAML\n",
      "    Found existing installation: PyYAML 6.0\n",
      "    Uninstalling PyYAML-6.0:\n",
      "      Successfully uninstalled PyYAML-6.0\n",
      "  Attempting uninstall: colorama\n",
      "    Found existing installation: colorama 0.4.5\n",
      "    Uninstalling colorama-0.4.5:\n",
      "      Successfully uninstalled colorama-0.4.5\n",
      "Successfully installed PyYAML-5.4.1 awscli-1.25.37 botocore-1.27.37 colorama-0.4.4 docutils-0.16 jmespath-1.0.1 pyasn1-0.4.8 rsa-4.7.2 s3transfer-0.6.0\n",
      "Requirement already satisfied: tqdm in c:\\users\\lucky\\anaconda3\\envs\\dykk\\lib\\site-packages (4.64.0)\n",
      "Requirement already satisfied: colorama in c:\\users\\lucky\\anaconda3\\envs\\dykk\\lib\\site-packages (from tqdm) (0.4.4)\n",
      "Collecting git+https://****@github.com/SKTBrain/KoBERT.git@master"
     ]
    },
    {
     "name": "stderr",
     "output_type": "stream",
     "text": [
      "  Running command git clone --filter=blob:none --quiet 'https://****@github.com/SKTBrain/KoBERT.git' 'C:\\Users\\lucky\\AppData\\Local\\Temp\\pip-req-build-ry05s250'\n",
      "ERROR: Cannot install kobert because these package versions have conflicting dependencies.\n",
      "ERROR: ResolutionImpossible: for help visit https://pip.pypa.io/en/latest/topics/dependency-resolution/#dealing-with-dependency-conflicts"
     ]
    },
    {
     "name": "stdout",
     "output_type": "stream",
     "text": [
      "\n",
      "  Cloning https://****@github.com/SKTBrain/KoBERT.git (to revision master) to c:\\users\\lucky\\appdata\\local\\temp\\pip-req-build-ry05s250\n",
      "  Resolved https://****@github.com/SKTBrain/KoBERT.git to commit e1f2f37055e7460d8427f6912579c0162cb69831\n",
      "  Preparing metadata (setup.py): started\n",
      "  Preparing metadata (setup.py): finished with status 'done'\n",
      "Collecting boto3\n",
      "  Using cached boto3-1.24.37-py3-none-any.whl (132 kB)\n",
      "Requirement already satisfied: gluonnlp>=0.6.0 in c:\\users\\lucky\\anaconda3\\envs\\dykk\\lib\\site-packages (from kobert==0.2.3) (0.6.0)\n",
      "Requirement already satisfied: mxnet>=1.4.0 in c:\\users\\lucky\\appdata\\roaming\\python\\python39\\site-packages (from kobert==0.2.3) (1.7.0.post2)\n",
      "Requirement already satisfied: onnxruntime==1.8.0 in c:\\users\\lucky\\anaconda3\\envs\\dykk\\lib\\site-packages (from kobert==0.2.3) (1.8.0)\n",
      "Requirement already satisfied: sentencepiece>=0.1.6 in c:\\users\\lucky\\anaconda3\\envs\\dykk\\lib\\site-packages (from kobert==0.2.3) (0.1.96)\n",
      "Requirement already satisfied: torch>=1.7.0 in c:\\users\\lucky\\anaconda3\\envs\\dykk\\lib\\site-packages (from kobert==0.2.3) (1.12.0)\n",
      "Requirement already satisfied: transformers>=4.8.1 in c:\\users\\lucky\\anaconda3\\envs\\dykk\\lib\\site-packages (from kobert==0.2.3) (4.20.1)\n",
      "Requirement already satisfied: flatbuffers in c:\\users\\lucky\\anaconda3\\envs\\dykk\\lib\\site-packages (from onnxruntime==1.8.0->kobert==0.2.3) (2.0)\n",
      "Requirement already satisfied: numpy>=1.16.6 in c:\\users\\lucky\\anaconda3\\envs\\dykk\\lib\\site-packages (from onnxruntime==1.8.0->kobert==0.2.3) (1.23.1)\n",
      "Requirement already satisfied: protobuf in c:\\users\\lucky\\anaconda3\\envs\\dykk\\lib\\site-packages (from onnxruntime==1.8.0->kobert==0.2.3) (4.21.3)\n",
      "Requirement already satisfied: graphviz<0.9.0,>=0.8.1 in c:\\users\\lucky\\appdata\\roaming\\python\\python39\\site-packages (from mxnet>=1.4.0->kobert==0.2.3) (0.8.4)\n",
      "Collecting numpy>=1.16.6\n",
      "  Using cached numpy-1.16.6-cp39-cp39-win_amd64.whl\n",
      "Requirement already satisfied: requests<2.19.0,>=2.18.4 in c:\\users\\lucky\\appdata\\roaming\\python\\python39\\site-packages (from mxnet>=1.4.0->kobert==0.2.3) (2.18.4)\n",
      "Requirement already satisfied: typing-extensions in c:\\users\\lucky\\anaconda3\\envs\\dykk\\lib\\site-packages (from torch>=1.7.0->kobert==0.2.3) (4.3.0)\n",
      "Requirement already satisfied: huggingface-hub<1.0,>=0.1.0 in c:\\users\\lucky\\anaconda3\\envs\\dykk\\lib\\site-packages (from transformers>=4.8.1->kobert==0.2.3) (0.8.1)\n",
      "Requirement already satisfied: tqdm>=4.27 in c:\\users\\lucky\\anaconda3\\envs\\dykk\\lib\\site-packages (from transformers>=4.8.1->kobert==0.2.3) (4.64.0)\n",
      "Requirement already satisfied: regex!=2019.12.17 in c:\\users\\lucky\\anaconda3\\envs\\dykk\\lib\\site-packages (from transformers>=4.8.1->kobert==0.2.3) (2022.7.25)\n",
      "Requirement already satisfied: packaging>=20.0 in c:\\users\\lucky\\anaconda3\\envs\\dykk\\lib\\site-packages (from transformers>=4.8.1->kobert==0.2.3) (21.3)\n",
      "Requirement already satisfied: tokenizers!=0.11.3,<0.13,>=0.11.1 in c:\\users\\lucky\\anaconda3\\envs\\dykk\\lib\\site-packages (from transformers>=4.8.1->kobert==0.2.3) (0.12.1)\n",
      "Collecting transformers>=4.8.1\n",
      "  Using cached transformers-4.20.0-py3-none-any.whl (4.4 MB)\n",
      "  Using cached transformers-4.19.4-py3-none-any.whl (4.2 MB)\n",
      "  Using cached transformers-4.19.3-py3-none-any.whl (4.2 MB)\n",
      "  Using cached transformers-4.19.2-py3-none-any.whl (4.2 MB)\n",
      "  Using cached transformers-4.19.1-py3-none-any.whl (4.2 MB)\n",
      "  Using cached transformers-4.19.0-py3-none-any.whl (4.2 MB)\n",
      "  Using cached transformers-4.18.0-py3-none-any.whl (4.0 MB)\n",
      "  Using cached transformers-4.17.0-py3-none-any.whl (3.8 MB)\n",
      "  Using cached transformers-4.16.2-py3-none-any.whl (3.5 MB)\n",
      "  Using cached transformers-4.16.1-py3-none-any.whl (3.5 MB)\n",
      "  Using cached transformers-4.16.0-py3-none-any.whl (3.5 MB)\n",
      "  Using cached transformers-4.15.0-py3-none-any.whl (3.4 MB)\n",
      "Collecting tokenizers<0.11,>=0.10.1\n",
      "  Using cached tokenizers-0.10.3-cp39-cp39-win_amd64.whl (2.0 MB)\n",
      "Collecting transformers>=4.8.1\n",
      "  Using cached transformers-4.14.1-py3-none-any.whl (3.4 MB)\n",
      "  Using cached transformers-4.13.0-py3-none-any.whl (3.3 MB)\n",
      "  Using cached transformers-4.12.5-py3-none-any.whl (3.1 MB)\n",
      "  Using cached transformers-4.12.4-py3-none-any.whl (3.1 MB)\n",
      "  Using cached transformers-4.12.3-py3-none-any.whl (3.1 MB)\n",
      "  Using cached transformers-4.12.2-py3-none-any.whl (3.1 MB)\n",
      "  Using cached transformers-4.12.1-py3-none-any.whl (3.1 MB)\n",
      "  Using cached transformers-4.12.0-py3-none-any.whl (3.1 MB)\n",
      "  Using cached transformers-4.11.3-py3-none-any.whl (2.9 MB)\n",
      "  Using cached transformers-4.11.2-py3-none-any.whl (2.9 MB)\n",
      "  Using cached transformers-4.11.1-py3-none-any.whl (2.9 MB)\n",
      "  Using cached transformers-4.11.0-py3-none-any.whl (2.9 MB)\n",
      "  Using cached transformers-4.10.3-py3-none-any.whl (2.8 MB)\n",
      "  Using cached transformers-4.10.2-py3-none-any.whl (2.8 MB)\n",
      "  Using cached transformers-4.10.1-py3-none-any.whl (2.8 MB)\n",
      "  Using cached transformers-4.10.0-py3-none-any.whl (2.8 MB)\n",
      "  Using cached transformers-4.9.2-py3-none-any.whl (2.6 MB)\n",
      "Collecting huggingface-hub==0.0.12\n",
      "  Using cached huggingface_hub-0.0.12-py3-none-any.whl (37 kB)\n",
      "Collecting transformers>=4.8.1\n",
      "  Using cached transformers-4.9.1-py3-none-any.whl (2.6 MB)\n",
      "  Using cached transformers-4.9.0-py3-none-any.whl (2.6 MB)\n",
      "  Using cached transformers-4.8.2-py3-none-any.whl (2.5 MB)\n",
      "Requirement already satisfied: pyyaml in c:\\users\\lucky\\anaconda3\\envs\\dykk\\lib\\site-packages (from transformers>=4.8.1->kobert==0.2.3) (5.4.1)\n",
      "  Using cached transformers-4.8.1-py3-none-any.whl (2.5 MB)\n",
      "INFO: pip is looking at multiple versions of torch to determine which version is compatible with other requirements. This could take a while.\n",
      "Collecting torch>=1.7.0\n",
      "  Using cached torch-1.12.0-cp39-cp39-win_amd64.whl (161.8 MB)\n",
      "INFO: pip is looking at multiple versions of sentencepiece to determine which version is compatible with other requirements. This could take a while.\n",
      "Collecting sentencepiece>=0.1.6\n",
      "  Using cached sentencepiece-0.1.96-cp39-cp39-win_amd64.whl (1.1 MB)\n",
      "INFO: pip is looking at multiple versions of mxnet to determine which version is compatible with other requirements. This could take a while.\n",
      "Collecting mxnet>=1.4.0\n",
      "  Using cached mxnet-1.7.0.post2-py2.py3-none-win_amd64.whl (33.1 MB)\n",
      "  Using cached mxnet-1.7.0.post1-py2.py3-none-win_amd64.whl (33.0 MB)\n",
      "  Using cached mxnet-1.6.0-py2.py3-none-win_amd64.whl (26.9 MB)\n",
      "  Using cached mxnet-1.5.0-py2.py3-none-win_amd64.whl (23.5 MB)\n",
      "  Using cached mxnet-1.4.1-py2.py3-none-win_amd64.whl (21.9 MB)\n",
      "  Using cached mxnet-1.4.0.post0-py2.py3-none-win_amd64.whl (21.9 MB)\n",
      "  Using cached mxnet-1.4.0-py2.py3-none-win_amd64.whl (21.9 MB)\n",
      "INFO: pip is looking at multiple versions of gluonnlp to determine which version is compatible with other requirements. This could take a while.\n",
      "Collecting gluonnlp>=0.6.0\n",
      "  Using cached gluonnlp-0.10.0-cp39-cp39-win_amd64.whl\n",
      "Collecting cython\n",
      "  Using cached Cython-0.29.30-py2.py3-none-any.whl (985 kB)\n",
      "INFO: pip is looking at multiple versions of numpy to determine which version is compatible with other requirements. This could take a while.\n",
      "INFO: pip is looking at multiple versions of mxnet to determine which version is compatible with other requirements. This could take a while.\n",
      "Collecting gluonnlp>=0.6.0\n",
      "  Using cached gluonnlp-0.9.2.tar.gz (252 kB)\n",
      "  Preparing metadata (setup.py): started\n",
      "  Preparing metadata (setup.py): finished with status 'done'\n",
      "INFO: This is taking longer than usual. You might need to provide the dependency resolver with stricter constraints to reduce runtime. See https://pip.pypa.io/warnings/backtracking for guidance. If you want to abort this run, press Ctrl + C.\n",
      "  Using cached gluonnlp-0.9.1.tar.gz (252 kB)\n",
      "  Preparing metadata (setup.py): started\n",
      "  Preparing metadata (setup.py): finished with status 'done'\n",
      "  Using cached gluonnlp-0.9.0.post0.tar.gz (252 kB)\n",
      "  Preparing metadata (setup.py): started\n",
      "  Preparing metadata (setup.py): finished with status 'done'\n",
      "  Using cached gluonnlp-0.8.3.tar.gz (236 kB)\n",
      "  Preparing metadata (setup.py): started\n",
      "  Preparing metadata (setup.py): finished with status 'done'\n",
      "  Using cached gluonnlp-0.8.2.tar.gz (237 kB)\n",
      "  Preparing metadata (setup.py): started\n",
      "  Preparing metadata (setup.py): finished with status 'done'\n",
      "  Using cached gluonnlp-0.8.1.tar.gz (236 kB)\n",
      "  Preparing metadata (setup.py): started\n",
      "  Preparing metadata (setup.py): finished with status 'done'\n",
      "INFO: pip is looking at multiple versions of torch to determine which version is compatible with other requirements. This could take a while.\n",
      "INFO: pip is looking at multiple versions of sentencepiece to determine which version is compatible with other requirements. This could take a while.\n",
      "INFO: pip is looking at multiple versions of gluonnlp to determine which version is compatible with other requirements. This could take a while.\n",
      "  Using cached gluonnlp-0.8.0.tar.gz (235 kB)\n",
      "  Preparing metadata (setup.py): started\n",
      "  Preparing metadata (setup.py): finished with status 'done'\n",
      "INFO: pip is looking at multiple versions of numpy to determine which version is compatible with other requirements. This could take a while.\n",
      "  Using cached gluonnlp-0.7.1.tar.gz (233 kB)\n",
      "  Preparing metadata (setup.py): started\n",
      "  Preparing metadata (setup.py): finished with status 'done'\n",
      "  Using cached gluonnlp-0.7.0.tar.gz (233 kB)\n",
      "  Preparing metadata (setup.py): started\n",
      "  Preparing metadata (setup.py): finished with status 'done'\n",
      "  Using cached gluonnlp-0.6.0-py3-none-any.whl\n",
      "INFO: pip is looking at multiple versions of onnxruntime to determine which version is compatible with other requirements. This could take a while.\n",
      "Collecting onnxruntime==1.8.0\n",
      "  Using cached onnxruntime-1.8.0-cp39-cp39-win_amd64.whl (4.7 MB)\n",
      "INFO: This is taking longer than usual. You might need to provide the dependency resolver with stricter constraints to reduce runtime. See https://pip.pypa.io/warnings/backtracking for guidance. If you want to abort this run, press Ctrl + C.\n",
      "INFO: This is taking longer than usual. You might need to provide the dependency resolver with stricter constraints to reduce runtime. See https://pip.pypa.io/warnings/backtracking for guidance. If you want to abort this run, press Ctrl + C.\n",
      "INFO: This is taking longer than usual. You might need to provide the dependency resolver with stricter constraints to reduce runtime. See https://pip.pypa.io/warnings/backtracking for guidance. If you want to abort this run, press Ctrl + C.\n",
      "INFO: This is taking longer than usual. You might need to provide the dependency resolver with stricter constraints to reduce runtime. See https://pip.pypa.io/warnings/backtracking for guidance. If you want to abort this run, press Ctrl + C.\n",
      "INFO: pip is looking at multiple versions of <Python from Requires-Python> to determine which version is compatible with other requirements. This could take a while.\n",
      "INFO: pip is looking at multiple versions of kobert to determine which version is compatible with other requirements. This could take a while.\n",
      "\n",
      "The conflict is caused by:\n",
      "    onnxruntime 1.8.0 depends on numpy>=1.16.6\n",
      "    gluonnlp 0.6.0 depends on numpy\n",
      "    mxnet 1.4.0.post0 depends on numpy<1.15.0 and >=1.8.2\n",
      "    onnxruntime 1.8.0 depends on numpy>=1.16.6\n",
      "    gluonnlp 0.6.0 depends on numpy\n",
      "    mxnet 1.4.0 depends on numpy<1.15.0 and >=1.8.2\n",
      "\n",
      "To fix this you could try to:\n",
      "1. loosen the range of package versions you've specified\n",
      "2. remove package versions to allow pip attempt to solve the dependency conflict\n",
      "\n"
     ]
    },
    {
     "name": "stderr",
     "output_type": "stream",
     "text": [
      "\n"
     ]
    }
   ],
   "source": [
    "!pip install pydub\n",
    "!pip install soundfile\n",
    "!pip install konlpy\n",
    "!pip install transformers\n",
    "!pip install --user mxnet\n",
    "!pip install gluonnlp==0.6.0\n",
    "!pip install onnxruntime==1.8.0\n",
    "!pip install --upgrade urllib3\n",
    "!pip install numpy==1.21.6\n",
    "!pip install sentencepiece\n",
    "!pip install torchmetrics\n",
    "\n",
    "!pip install awscli\n",
    "!pip install tqdm\n",
    "\n",
    "!pip install git+https://git@github.com/SKTBrain/KoBERT.git@master"
   ]
  },
  {
   "cell_type": "code",
   "execution_count": 3,
   "metadata": {},
   "outputs": [
    {
     "name": "stdout",
     "output_type": "stream",
     "text": [
      "Requirement already satisfied: numpy==1.21.6 in c:\\users\\lucky\\anaconda3\\envs\\dykk\\lib\\site-packages (1.21.6)\n",
      "Requirement already satisfied: torch==1.9.0 in c:\\users\\lucky\\anaconda3\\envs\\dykk\\lib\\site-packages (1.9.0)\n",
      "Requirement already satisfied: typing-extensions in c:\\users\\lucky\\anaconda3\\envs\\dykk\\lib\\site-packages (from torch==1.9.0) (4.3.0)\n",
      "Requirement already satisfied: torchvision==0.10.0 in c:\\users\\lucky\\anaconda3\\envs\\dykk\\lib\\site-packages (0.10.0)\n",
      "Requirement already satisfied: torch==1.9.0 in c:\\users\\lucky\\anaconda3\\envs\\dykk\\lib\\site-packages (from torchvision==0.10.0) (1.9.0)\n",
      "Requirement already satisfied: pillow>=5.3.0 in c:\\users\\lucky\\anaconda3\\envs\\dykk\\lib\\site-packages (from torchvision==0.10.0) (9.2.0)\n",
      "Requirement already satisfied: numpy in c:\\users\\lucky\\anaconda3\\envs\\dykk\\lib\\site-packages (from torchvision==0.10.0) (1.21.6)\n",
      "Requirement already satisfied: typing-extensions in c:\\users\\lucky\\anaconda3\\envs\\dykk\\lib\\site-packages (from torch==1.9.0->torchvision==0.10.0) (4.3.0)\n",
      "Requirement already satisfied: transformers in c:\\users\\lucky\\anaconda3\\envs\\dykk\\lib\\site-packages (4.20.1)\n",
      "Requirement already satisfied: huggingface-hub<1.0,>=0.1.0 in c:\\users\\lucky\\anaconda3\\envs\\dykk\\lib\\site-packages (from transformers) (0.8.1)\n",
      "Requirement already satisfied: filelock in c:\\users\\lucky\\anaconda3\\envs\\dykk\\lib\\site-packages (from transformers) (3.7.1)\n",
      "Requirement already satisfied: tokenizers!=0.11.3,<0.13,>=0.11.1 in c:\\users\\lucky\\anaconda3\\envs\\dykk\\lib\\site-packages (from transformers) (0.12.1)\n",
      "Requirement already satisfied: requests in c:\\users\\lucky\\anaconda3\\envs\\dykk\\lib\\site-packages (from transformers) (2.28.1)\n",
      "Requirement already satisfied: packaging>=20.0 in c:\\users\\lucky\\anaconda3\\envs\\dykk\\lib\\site-packages (from transformers) (21.3)\n",
      "Requirement already satisfied: regex!=2019.12.17 in c:\\users\\lucky\\anaconda3\\envs\\dykk\\lib\\site-packages (from transformers) (2022.7.25)\n",
      "Requirement already satisfied: pyyaml>=5.1 in c:\\users\\lucky\\anaconda3\\envs\\dykk\\lib\\site-packages (from transformers) (6.0)\n",
      "Requirement already satisfied: tqdm>=4.27 in c:\\users\\lucky\\anaconda3\\envs\\dykk\\lib\\site-packages (from transformers) (4.64.0)\n",
      "Requirement already satisfied: numpy>=1.17 in c:\\users\\lucky\\anaconda3\\envs\\dykk\\lib\\site-packages (from transformers) (1.21.6)\n",
      "Requirement already satisfied: typing-extensions>=3.7.4.3 in c:\\users\\lucky\\anaconda3\\envs\\dykk\\lib\\site-packages (from huggingface-hub<1.0,>=0.1.0->transformers) (4.3.0)\n",
      "Requirement already satisfied: pyparsing!=3.0.5,>=2.0.2 in c:\\users\\lucky\\anaconda3\\envs\\dykk\\lib\\site-packages (from packaging>=20.0->transformers) (3.0.9)\n",
      "Requirement already satisfied: colorama in c:\\users\\lucky\\anaconda3\\envs\\dykk\\lib\\site-packages (from tqdm>=4.27->transformers) (0.4.5)\n",
      "Requirement already satisfied: idna<4,>=2.5 in c:\\users\\lucky\\anaconda3\\envs\\dykk\\lib\\site-packages (from requests->transformers) (3.3)\n",
      "Requirement already satisfied: charset-normalizer<3,>=2 in c:\\users\\lucky\\anaconda3\\envs\\dykk\\lib\\site-packages (from requests->transformers) (2.1.0)\n",
      "Requirement already satisfied: urllib3<1.27,>=1.21.1 in c:\\users\\lucky\\anaconda3\\envs\\dykk\\lib\\site-packages (from requests->transformers) (1.26.11)\n",
      "Requirement already satisfied: certifi>=2017.4.17 in c:\\users\\lucky\\anaconda3\\envs\\dykk\\lib\\site-packages (from requests->transformers) (2022.6.15)\n",
      "Requirement already satisfied: sentencepiece in c:\\users\\lucky\\anaconda3\\envs\\dykk\\lib\\site-packages (0.1.96)\n",
      "Requirement already satisfied: tensorflow in c:\\users\\lucky\\anaconda3\\envs\\dykk\\lib\\site-packages (2.9.1)\n",
      "Requirement already satisfied: termcolor>=1.1.0 in c:\\users\\lucky\\anaconda3\\envs\\dykk\\lib\\site-packages (from tensorflow) (1.1.0)\n",
      "Requirement already satisfied: setuptools in c:\\users\\lucky\\anaconda3\\envs\\dykk\\lib\\site-packages (from tensorflow) (61.2.0)\n",
      "Requirement already satisfied: tensorboard<2.10,>=2.9 in c:\\users\\lucky\\anaconda3\\envs\\dykk\\lib\\site-packages (from tensorflow) (2.9.1)\n",
      "Requirement already satisfied: astunparse>=1.6.0 in c:\\users\\lucky\\anaconda3\\envs\\dykk\\lib\\site-packages (from tensorflow) (1.6.3)\n",
      "Requirement already satisfied: tensorflow-estimator<2.10.0,>=2.9.0rc0 in c:\\users\\lucky\\anaconda3\\envs\\dykk\\lib\\site-packages (from tensorflow) (2.9.0)\n",
      "Requirement already satisfied: h5py>=2.9.0 in c:\\users\\lucky\\anaconda3\\envs\\dykk\\lib\\site-packages (from tensorflow) (3.7.0)\n",
      "Requirement already satisfied: keras-preprocessing>=1.1.1 in c:\\users\\lucky\\anaconda3\\envs\\dykk\\lib\\site-packages (from tensorflow) (1.1.2)\n",
      "Requirement already satisfied: wrapt>=1.11.0 in c:\\users\\lucky\\anaconda3\\envs\\dykk\\lib\\site-packages (from tensorflow) (1.14.1)\n",
      "Requirement already satisfied: grpcio<2.0,>=1.24.3 in c:\\users\\lucky\\anaconda3\\envs\\dykk\\lib\\site-packages (from tensorflow) (1.47.0)\n",
      "Requirement already satisfied: six>=1.12.0 in c:\\users\\lucky\\anaconda3\\envs\\dykk\\lib\\site-packages (from tensorflow) (1.16.0)\n",
      "Requirement already satisfied: tensorflow-io-gcs-filesystem>=0.23.1 in c:\\users\\lucky\\anaconda3\\envs\\dykk\\lib\\site-packages (from tensorflow) (0.26.0)\n",
      "Requirement already satisfied: libclang>=13.0.0 in c:\\users\\lucky\\anaconda3\\envs\\dykk\\lib\\site-packages (from tensorflow) (14.0.1)\n",
      "Requirement already satisfied: numpy>=1.20 in c:\\users\\lucky\\anaconda3\\envs\\dykk\\lib\\site-packages (from tensorflow) (1.21.6)\n",
      "Requirement already satisfied: protobuf<3.20,>=3.9.2 in c:\\users\\lucky\\anaconda3\\envs\\dykk\\lib\\site-packages (from tensorflow) (3.19.4)\n",
      "Requirement already satisfied: google-pasta>=0.1.1 in c:\\users\\lucky\\anaconda3\\envs\\dykk\\lib\\site-packages (from tensorflow) (0.2.0)\n",
      "Requirement already satisfied: typing-extensions>=3.6.6 in c:\\users\\lucky\\anaconda3\\envs\\dykk\\lib\\site-packages (from tensorflow) (4.3.0)\n",
      "Requirement already satisfied: flatbuffers<2,>=1.12 in c:\\users\\lucky\\anaconda3\\envs\\dykk\\lib\\site-packages (from tensorflow) (1.12)\n",
      "Requirement already satisfied: absl-py>=1.0.0 in c:\\users\\lucky\\anaconda3\\envs\\dykk\\lib\\site-packages (from tensorflow) (1.2.0)\n",
      "Requirement already satisfied: packaging in c:\\users\\lucky\\anaconda3\\envs\\dykk\\lib\\site-packages (from tensorflow) (21.3)\n",
      "Requirement already satisfied: keras<2.10.0,>=2.9.0rc0 in c:\\users\\lucky\\anaconda3\\envs\\dykk\\lib\\site-packages (from tensorflow) (2.9.0)\n",
      "Requirement already satisfied: gast<=0.4.0,>=0.2.1 in c:\\users\\lucky\\anaconda3\\envs\\dykk\\lib\\site-packages (from tensorflow) (0.4.0)\n",
      "Requirement already satisfied: opt-einsum>=2.3.2 in c:\\users\\lucky\\anaconda3\\envs\\dykk\\lib\\site-packages (from tensorflow) (3.3.0)\n",
      "Requirement already satisfied: wheel<1.0,>=0.23.0 in c:\\users\\lucky\\anaconda3\\envs\\dykk\\lib\\site-packages (from astunparse>=1.6.0->tensorflow) (0.37.1)\n",
      "Requirement already satisfied: google-auth<3,>=1.6.3 in c:\\users\\lucky\\anaconda3\\envs\\dykk\\lib\\site-packages (from tensorboard<2.10,>=2.9->tensorflow) (2.9.1)\n",
      "Requirement already satisfied: tensorboard-plugin-wit>=1.6.0 in c:\\users\\lucky\\anaconda3\\envs\\dykk\\lib\\site-packages (from tensorboard<2.10,>=2.9->tensorflow) (1.8.1)\n",
      "Requirement already satisfied: requests<3,>=2.21.0 in c:\\users\\lucky\\anaconda3\\envs\\dykk\\lib\\site-packages (from tensorboard<2.10,>=2.9->tensorflow) (2.28.1)\n",
      "Requirement already satisfied: markdown>=2.6.8 in c:\\users\\lucky\\anaconda3\\envs\\dykk\\lib\\site-packages (from tensorboard<2.10,>=2.9->tensorflow) (3.4.1)\n",
      "Requirement already satisfied: google-auth-oauthlib<0.5,>=0.4.1 in c:\\users\\lucky\\anaconda3\\envs\\dykk\\lib\\site-packages (from tensorboard<2.10,>=2.9->tensorflow) (0.4.6)\n",
      "Requirement already satisfied: werkzeug>=1.0.1 in c:\\users\\lucky\\anaconda3\\envs\\dykk\\lib\\site-packages (from tensorboard<2.10,>=2.9->tensorflow) (2.2.0)\n",
      "Requirement already satisfied: tensorboard-data-server<0.7.0,>=0.6.0 in c:\\users\\lucky\\anaconda3\\envs\\dykk\\lib\\site-packages (from tensorboard<2.10,>=2.9->tensorflow) (0.6.1)\n",
      "Requirement already satisfied: pyparsing!=3.0.5,>=2.0.2 in c:\\users\\lucky\\anaconda3\\envs\\dykk\\lib\\site-packages (from packaging->tensorflow) (3.0.9)\n",
      "Requirement already satisfied: pyasn1-modules>=0.2.1 in c:\\users\\lucky\\anaconda3\\envs\\dykk\\lib\\site-packages (from google-auth<3,>=1.6.3->tensorboard<2.10,>=2.9->tensorflow) (0.2.8)\n",
      "Requirement already satisfied: cachetools<6.0,>=2.0.0 in c:\\users\\lucky\\anaconda3\\envs\\dykk\\lib\\site-packages (from google-auth<3,>=1.6.3->tensorboard<2.10,>=2.9->tensorflow) (5.2.0)\n",
      "Requirement already satisfied: rsa<5,>=3.1.4 in c:\\users\\lucky\\anaconda3\\envs\\dykk\\lib\\site-packages (from google-auth<3,>=1.6.3->tensorboard<2.10,>=2.9->tensorflow) (4.9)\n",
      "Requirement already satisfied: requests-oauthlib>=0.7.0 in c:\\users\\lucky\\anaconda3\\envs\\dykk\\lib\\site-packages (from google-auth-oauthlib<0.5,>=0.4.1->tensorboard<2.10,>=2.9->tensorflow) (1.3.1)\n",
      "Requirement already satisfied: importlib-metadata>=4.4 in c:\\users\\lucky\\anaconda3\\envs\\dykk\\lib\\site-packages (from markdown>=2.6.8->tensorboard<2.10,>=2.9->tensorflow) (4.12.0)\n",
      "Requirement already satisfied: idna<4,>=2.5 in c:\\users\\lucky\\anaconda3\\envs\\dykk\\lib\\site-packages (from requests<3,>=2.21.0->tensorboard<2.10,>=2.9->tensorflow) (3.3)\n",
      "Requirement already satisfied: charset-normalizer<3,>=2 in c:\\users\\lucky\\anaconda3\\envs\\dykk\\lib\\site-packages (from requests<3,>=2.21.0->tensorboard<2.10,>=2.9->tensorflow) (2.1.0)\n",
      "Requirement already satisfied: urllib3<1.27,>=1.21.1 in c:\\users\\lucky\\anaconda3\\envs\\dykk\\lib\\site-packages (from requests<3,>=2.21.0->tensorboard<2.10,>=2.9->tensorflow) (1.26.11)\n",
      "Requirement already satisfied: certifi>=2017.4.17 in c:\\users\\lucky\\anaconda3\\envs\\dykk\\lib\\site-packages (from requests<3,>=2.21.0->tensorboard<2.10,>=2.9->tensorflow) (2022.6.15)\n",
      "Requirement already satisfied: MarkupSafe>=2.1.1 in c:\\users\\lucky\\anaconda3\\envs\\dykk\\lib\\site-packages (from werkzeug>=1.0.1->tensorboard<2.10,>=2.9->tensorflow) (2.1.1)\n",
      "Requirement already satisfied: zipp>=0.5 in c:\\users\\lucky\\anaconda3\\envs\\dykk\\lib\\site-packages (from importlib-metadata>=4.4->markdown>=2.6.8->tensorboard<2.10,>=2.9->tensorflow) (3.8.1)\n",
      "Requirement already satisfied: pyasn1<0.5.0,>=0.4.6 in c:\\users\\lucky\\anaconda3\\envs\\dykk\\lib\\site-packages (from pyasn1-modules>=0.2.1->google-auth<3,>=1.6.3->tensorboard<2.10,>=2.9->tensorflow) (0.4.8)\n",
      "Requirement already satisfied: oauthlib>=3.0.0 in c:\\users\\lucky\\anaconda3\\envs\\dykk\\lib\\site-packages (from requests-oauthlib>=0.7.0->google-auth-oauthlib<0.5,>=0.4.1->tensorboard<2.10,>=2.9->tensorflow) (3.2.0)\n",
      "Collecting botocore\n",
      "  Using cached botocore-1.27.37-py3-none-any.whl (9.0 MB)\n",
      "Requirement already satisfied: urllib3<1.27,>=1.25.4 in c:\\users\\lucky\\anaconda3\\envs\\dykk\\lib\\site-packages (from botocore) (1.26.11)\n",
      "Requirement already satisfied: python-dateutil<3.0.0,>=2.1 in c:\\users\\lucky\\anaconda3\\envs\\dykk\\lib\\site-packages (from botocore) (2.8.2)\n",
      "Collecting jmespath<2.0.0,>=0.7.1\n",
      "  Using cached jmespath-1.0.1-py3-none-any.whl (20 kB)\n",
      "Requirement already satisfied: six>=1.5 in c:\\users\\lucky\\anaconda3\\envs\\dykk\\lib\\site-packages (from python-dateutil<3.0.0,>=2.1->botocore) (1.16.0)\n",
      "Installing collected packages: jmespath, botocore\n",
      "Successfully installed botocore-1.27.37 jmespath-1.0.1\n"
     ]
    }
   ],
   "source": [
    "!pip install numpy==1.21.6\n",
    "!pip install torch==1.9.0\n",
    "!pip install torchvision==0.10.0\n",
    "!pip install transformers\n",
    "!pip install sentencepiece\n",
    "!pip install tensorflow\n",
    "!pip install botocore"
   ]
  },
  {
   "cell_type": "code",
   "execution_count": 1,
   "metadata": {},
   "outputs": [
    {
     "name": "stdout",
     "output_type": "stream",
     "text": [
      "Collecting mmpose\n",
      "  Using cached mmpose-0.28.0-py2.py3-none-any.whl (1.6 MB)\n",
      "Collecting opencv-python\n",
      "  Using cached opencv_python-4.6.0.66-cp36-abi3-win_amd64.whl (35.6 MB)\n",
      "Collecting matplotlib\n",
      "  Downloading matplotlib-3.5.2-cp39-cp39-win_amd64.whl (7.2 MB)\n",
      "     ---------------------------------------- 7.2/7.2 MB 21.9 MB/s eta 0:00:00\n",
      "Collecting xtcocotools>=1.12\n",
      "  Using cached xtcocotools-1.12-cp39-cp39-win_amd64.whl (79 kB)\n",
      "Collecting chumpy\n",
      "  Using cached chumpy-0.70-py3-none-any.whl\n",
      "Collecting scipy\n",
      "  Using cached scipy-1.8.1-cp39-cp39-win_amd64.whl (36.9 MB)\n",
      "Requirement already satisfied: pillow in c:\\users\\lucky\\anaconda3\\envs\\dykk\\lib\\site-packages (from mmpose) (9.2.0)\n",
      "Collecting munkres\n",
      "  Downloading munkres-1.1.4-py2.py3-none-any.whl (7.0 kB)\n",
      "Collecting json-tricks\n",
      "  Using cached json_tricks-3.15.5-py2.py3-none-any.whl (26 kB)\n",
      "Requirement already satisfied: torchvision in c:\\users\\lucky\\anaconda3\\envs\\dykk\\lib\\site-packages (from mmpose) (0.10.0)\n",
      "Requirement already satisfied: numpy in c:\\users\\lucky\\anaconda3\\envs\\dykk\\lib\\site-packages (from mmpose) (1.21.6)\n",
      "Requirement already satisfied: cython>=0.27.3 in c:\\users\\lucky\\anaconda3\\envs\\dykk\\lib\\site-packages (from xtcocotools>=1.12->mmpose) (0.29.30)\n",
      "Requirement already satisfied: setuptools>=18.0 in c:\\users\\lucky\\anaconda3\\envs\\dykk\\lib\\site-packages (from xtcocotools>=1.12->mmpose) (61.2.0)\n",
      "Collecting cycler>=0.10\n",
      "  Using cached cycler-0.11.0-py3-none-any.whl (6.4 kB)\n",
      "Collecting fonttools>=4.22.0\n",
      "  Using cached fonttools-4.34.4-py3-none-any.whl (944 kB)\n",
      "Requirement already satisfied: packaging>=20.0 in c:\\users\\lucky\\anaconda3\\envs\\dykk\\lib\\site-packages (from matplotlib->mmpose) (21.3)\n",
      "Collecting kiwisolver>=1.0.1\n",
      "  Using cached kiwisolver-1.4.4-cp39-cp39-win_amd64.whl (55 kB)\n",
      "Requirement already satisfied: pyparsing>=2.2.1 in c:\\users\\lucky\\anaconda3\\envs\\dykk\\lib\\site-packages (from matplotlib->mmpose) (3.0.9)\n",
      "Requirement already satisfied: python-dateutil>=2.7 in c:\\users\\lucky\\anaconda3\\envs\\dykk\\lib\\site-packages (from matplotlib->mmpose) (2.8.2)\n",
      "Requirement already satisfied: six>=1.11.0 in c:\\users\\lucky\\anaconda3\\envs\\dykk\\lib\\site-packages (from chumpy->mmpose) (1.16.0)\n",
      "Requirement already satisfied: torch==1.9.0 in c:\\users\\lucky\\anaconda3\\envs\\dykk\\lib\\site-packages (from torchvision->mmpose) (1.9.0)\n",
      "Requirement already satisfied: typing_extensions in c:\\users\\lucky\\anaconda3\\envs\\dykk\\lib\\site-packages (from torch==1.9.0->torchvision->mmpose) (4.3.0)\n",
      "Installing collected packages: munkres, json-tricks, scipy, opencv-python, kiwisolver, fonttools, cycler, matplotlib, chumpy, xtcocotools, mmpose\n",
      "Successfully installed chumpy-0.70 cycler-0.11.0 fonttools-4.34.4 json-tricks-3.15.5 kiwisolver-1.4.4 matplotlib-3.5.2 mmpose-0.28.0 munkres-1.1.4 opencv-python-4.6.0.66 scipy-1.8.1 xtcocotools-1.12\n",
      "Collecting webcolors\n",
      "  Using cached webcolors-1.12-py3-none-any.whl (9.9 kB)\n",
      "Installing collected packages: webcolors\n",
      "Successfully installed webcolors-1.12\n",
      "Collecting einops\n",
      "  Using cached einops-0.4.1-py3-none-any.whl (28 kB)\n",
      "Installing collected packages: einops\n",
      "Successfully installed einops-0.4.1\n",
      "Looking in links: https://download.openmmlab.com/mmcv/dist/cu113/torch1.9.0/index.html\n",
      "Collecting mmcv-full\n",
      "  Downloading mmcv-full-1.6.0.tar.gz (554 kB)\n",
      "     -------------------------------------- 554.9/554.9 kB 8.6 MB/s eta 0:00:00\n",
      "  Preparing metadata (setup.py): started\n",
      "  Preparing metadata (setup.py): finished with status 'done'\n",
      "Collecting addict\n",
      "  Using cached addict-2.4.0-py3-none-any.whl (3.8 kB)\n",
      "Requirement already satisfied: numpy in c:\\users\\lucky\\anaconda3\\envs\\dykk\\lib\\site-packages (from mmcv-full) (1.21.6)\n",
      "Requirement already satisfied: packaging in c:\\users\\lucky\\anaconda3\\envs\\dykk\\lib\\site-packages (from mmcv-full) (21.3)\n",
      "Requirement already satisfied: Pillow in c:\\users\\lucky\\anaconda3\\envs\\dykk\\lib\\site-packages (from mmcv-full) (9.2.0)\n",
      "Requirement already satisfied: pyyaml in c:\\users\\lucky\\anaconda3\\envs\\dykk\\lib\\site-packages (from mmcv-full) (6.0)\n",
      "Collecting yapf\n",
      "  Downloading yapf-0.32.0-py2.py3-none-any.whl (190 kB)\n",
      "     ------------------------------------- 190.2/190.2 kB 11.2 MB/s eta 0:00:00\n",
      "Requirement already satisfied: regex in c:\\users\\lucky\\anaconda3\\envs\\dykk\\lib\\site-packages (from mmcv-full) (2022.7.25)\n",
      "Requirement already satisfied: pyparsing!=3.0.5,>=2.0.2 in c:\\users\\lucky\\anaconda3\\envs\\dykk\\lib\\site-packages (from packaging->mmcv-full) (3.0.9)\n",
      "Building wheels for collected packages: mmcv-full\n",
      "  Building wheel for mmcv-full (setup.py): started\n",
      "  Building wheel for mmcv-full (setup.py): still running...\n",
      "  Building wheel for mmcv-full (setup.py): still running...\n",
      "  Building wheel for mmcv-full (setup.py): still running...\n",
      "  Building wheel for mmcv-full (setup.py): still running...\n",
      "  Building wheel for mmcv-full (setup.py): still running...\n",
      "  Building wheel for mmcv-full (setup.py): still running...\n",
      "  Building wheel for mmcv-full (setup.py): still running...\n",
      "  Building wheel for mmcv-full (setup.py): finished with status 'done'\n",
      "  Created wheel for mmcv-full: filename=mmcv_full-1.6.0-cp39-cp39-win_amd64.whl size=4078011 sha256=f01a8e8e6151536754c38eaefd29ba960295d40a2841e7563f99cb88b9620294\n",
      "  Stored in directory: c:\\users\\lucky\\appdata\\local\\pip\\cache\\wheels\\0b\\81\\e4\\e0c4e2bcdd0f98e4cf6f2551942f85d93b2ef3cd755eb53ec1\n",
      "Successfully built mmcv-full\n",
      "Installing collected packages: yapf, addict, mmcv-full\n",
      "Successfully installed addict-2.4.0 mmcv-full-1.6.0 yapf-0.32.0\n"
     ]
    }
   ],
   "source": [
    "!pip install mmpose\n",
    "!pip install webcolors\n",
    "!pip install einops\n",
    "!pip install mmcv-full -f https://download.openmmlab.com/mmcv/dist/cu113/torch1.9.0/index.html"
   ]
  },
  {
   "cell_type": "code",
   "execution_count": 2,
   "metadata": {},
   "outputs": [
    {
     "name": "stdout",
     "output_type": "stream",
     "text": [
      "c:\\Users\\lucky\\DYKK\\model\\mmaction2\n",
      "Obtaining file:///C:/Users/lucky/DYKK/model/mmaction2\n",
      "  Preparing metadata (setup.py): started\n",
      "  Preparing metadata (setup.py): finished with status 'done'\n",
      "Collecting decord>=0.4.1\n",
      "  Using cached decord-0.6.0-py3-none-win_amd64.whl (24.7 MB)\n",
      "Requirement already satisfied: einops in c:\\users\\lucky\\anaconda3\\envs\\dykk\\lib\\site-packages (from mmaction2==0.24.0) (0.4.1)\n",
      "Requirement already satisfied: matplotlib in c:\\users\\lucky\\anaconda3\\envs\\dykk\\lib\\site-packages (from mmaction2==0.24.0) (3.5.2)\n",
      "Requirement already satisfied: numpy in c:\\users\\lucky\\anaconda3\\envs\\dykk\\lib\\site-packages (from mmaction2==0.24.0) (1.21.6)\n",
      "Collecting opencv-contrib-python\n",
      "  Using cached opencv_contrib_python-4.6.0.66-cp36-abi3-win_amd64.whl (42.5 MB)\n",
      "Requirement already satisfied: Pillow in c:\\users\\lucky\\anaconda3\\envs\\dykk\\lib\\site-packages (from mmaction2==0.24.0) (9.2.0)\n",
      "Requirement already satisfied: scipy in c:\\users\\lucky\\anaconda3\\envs\\dykk\\lib\\site-packages (from mmaction2==0.24.0) (1.8.1)\n",
      "Requirement already satisfied: torch>=1.3 in c:\\users\\lucky\\anaconda3\\envs\\dykk\\lib\\site-packages (from mmaction2==0.24.0) (1.9.0)\n",
      "Requirement already satisfied: typing_extensions in c:\\users\\lucky\\anaconda3\\envs\\dykk\\lib\\site-packages (from torch>=1.3->mmaction2==0.24.0) (4.3.0)\n",
      "Requirement already satisfied: packaging>=20.0 in c:\\users\\lucky\\anaconda3\\envs\\dykk\\lib\\site-packages (from matplotlib->mmaction2==0.24.0) (21.3)\n",
      "Requirement already satisfied: pyparsing>=2.2.1 in c:\\users\\lucky\\anaconda3\\envs\\dykk\\lib\\site-packages (from matplotlib->mmaction2==0.24.0) (3.0.9)\n",
      "Requirement already satisfied: python-dateutil>=2.7 in c:\\users\\lucky\\anaconda3\\envs\\dykk\\lib\\site-packages (from matplotlib->mmaction2==0.24.0) (2.8.2)\n",
      "Requirement already satisfied: kiwisolver>=1.0.1 in c:\\users\\lucky\\anaconda3\\envs\\dykk\\lib\\site-packages (from matplotlib->mmaction2==0.24.0) (1.4.4)\n",
      "Requirement already satisfied: cycler>=0.10 in c:\\users\\lucky\\anaconda3\\envs\\dykk\\lib\\site-packages (from matplotlib->mmaction2==0.24.0) (0.11.0)\n",
      "Requirement already satisfied: fonttools>=4.22.0 in c:\\users\\lucky\\anaconda3\\envs\\dykk\\lib\\site-packages (from matplotlib->mmaction2==0.24.0) (4.34.4)\n",
      "Requirement already satisfied: six>=1.5 in c:\\users\\lucky\\anaconda3\\envs\\dykk\\lib\\site-packages (from python-dateutil>=2.7->matplotlib->mmaction2==0.24.0) (1.16.0)\n",
      "Installing collected packages: opencv-contrib-python, decord, mmaction2\n",
      "  Running setup.py develop for mmaction2\n",
      "Successfully installed decord-0.6.0 mmaction2 opencv-contrib-python-4.6.0.66\n",
      "Collecting av\n",
      "  Using cached av-9.2.0-cp39-cp39-win_amd64.whl (24.4 MB)\n",
      "Collecting imgaug\n",
      "  Using cached imgaug-0.4.0-py2.py3-none-any.whl (948 kB)\n",
      "Collecting librosa\n",
      "  Using cached librosa-0.9.2-py3-none-any.whl (214 kB)\n",
      "Collecting lmdb\n",
      "  Using cached lmdb-1.3.0-cp39-cp39-win_amd64.whl (106 kB)\n",
      "Collecting moviepy\n",
      "  Using cached moviepy-1.0.3-py3-none-any.whl\n",
      "Collecting onnx\n",
      "  Using cached onnx-1.12.0-cp39-cp39-win_amd64.whl (11.5 MB)\n",
      "Collecting onnxruntime\n",
      "  Using cached onnxruntime-1.12.0-cp39-cp39-win_amd64.whl (5.8 MB)\n",
      "Requirement already satisfied: packaging in c:\\users\\lucky\\anaconda3\\envs\\dykk\\lib\\site-packages (from -r requirements/optional.txt (line 8)) (21.3)\n",
      "Collecting pims\n",
      "  Using cached PIMS-0.6.1-py3-none-any.whl\n",
      "Collecting PyTurboJPEG\n",
      "  Using cached PyTurboJPEG-1.6.7-py3-none-any.whl\n",
      "Collecting timm\n",
      "  Using cached timm-0.6.5-py3-none-any.whl (512 kB)\n",
      "Requirement already satisfied: matplotlib in c:\\users\\lucky\\anaconda3\\envs\\dykk\\lib\\site-packages (from imgaug->-r requirements/optional.txt (line 2)) (3.5.2)\n",
      "Requirement already satisfied: numpy>=1.15 in c:\\users\\lucky\\anaconda3\\envs\\dykk\\lib\\site-packages (from imgaug->-r requirements/optional.txt (line 2)) (1.21.6)\n",
      "Requirement already satisfied: scipy in c:\\users\\lucky\\anaconda3\\envs\\dykk\\lib\\site-packages (from imgaug->-r requirements/optional.txt (line 2)) (1.8.1)\n",
      "Requirement already satisfied: Pillow in c:\\users\\lucky\\anaconda3\\envs\\dykk\\lib\\site-packages (from imgaug->-r requirements/optional.txt (line 2)) (9.2.0)\n",
      "Requirement already satisfied: opencv-python in c:\\users\\lucky\\anaconda3\\envs\\dykk\\lib\\site-packages (from imgaug->-r requirements/optional.txt (line 2)) (4.6.0.66)\n",
      "Collecting imageio\n",
      "  Using cached imageio-2.20.0-py3-none-any.whl (3.4 MB)\n",
      "Collecting scikit-image>=0.14.2\n",
      "  Downloading scikit_image-0.19.3-cp39-cp39-win_amd64.whl (12.1 MB)\n",
      "     --------------------------------------- 12.1/12.1 MB 32.7 MB/s eta 0:00:00\n",
      "Collecting Shapely\n",
      "  Using cached Shapely-1.8.2-cp39-cp39-win_amd64.whl (1.3 MB)\n",
      "Requirement already satisfied: six in c:\\users\\lucky\\anaconda3\\envs\\dykk\\lib\\site-packages (from imgaug->-r requirements/optional.txt (line 2)) (1.16.0)\n",
      "Collecting numba>=0.45.1\n",
      "  Using cached numba-0.55.2-cp39-cp39-win_amd64.whl (2.4 MB)\n",
      "Collecting joblib>=0.14\n",
      "  Using cached joblib-1.1.0-py2.py3-none-any.whl (306 kB)\n",
      "Collecting scikit-learn>=0.19.1\n",
      "  Using cached scikit_learn-1.1.1-cp39-cp39-win_amd64.whl (7.4 MB)\n",
      "Collecting resampy>=0.2.2\n",
      "  Using cached resampy-0.3.1-py3-none-any.whl (3.1 MB)\n",
      "Collecting audioread>=2.1.9\n",
      "  Using cached audioread-2.1.9-py3-none-any.whl\n",
      "Collecting pooch>=1.0\n",
      "  Using cached pooch-1.6.0-py3-none-any.whl (56 kB)\n",
      "Collecting soundfile>=0.10.2\n",
      "  Using cached SoundFile-0.10.3.post1-py2.py3.cp26.cp27.cp32.cp33.cp34.cp35.cp36.pp27.pp32.pp33-none-win_amd64.whl (689 kB)\n",
      "Requirement already satisfied: decorator>=4.0.10 in c:\\users\\lucky\\anaconda3\\envs\\dykk\\lib\\site-packages (from librosa->-r requirements/optional.txt (line 3)) (5.1.1)\n",
      "Collecting proglog<=1.0.0\n",
      "  Using cached proglog-0.1.10-py3-none-any.whl (6.1 kB)\n",
      "Requirement already satisfied: requests<3.0,>=2.8.1 in c:\\users\\lucky\\anaconda3\\envs\\dykk\\lib\\site-packages (from moviepy->-r requirements/optional.txt (line 5)) (2.18.4)\n",
      "Collecting decorator>=4.0.10\n",
      "  Using cached decorator-4.4.2-py2.py3-none-any.whl (9.2 kB)\n",
      "Requirement already satisfied: tqdm<5.0,>=4.11.2 in c:\\users\\lucky\\anaconda3\\envs\\dykk\\lib\\site-packages (from moviepy->-r requirements/optional.txt (line 5)) (4.64.0)\n",
      "Collecting imageio-ffmpeg>=0.2.0\n",
      "  Using cached imageio_ffmpeg-0.4.7-py3-none-win_amd64.whl (22.6 MB)\n",
      "Collecting protobuf<=3.20.1,>=3.12.2\n",
      "  Downloading protobuf-3.20.1-cp39-cp39-win_amd64.whl (904 kB)\n",
      "     ------------------------------------- 904.1/904.1 kB 27.9 MB/s eta 0:00:00\n",
      "Requirement already satisfied: typing-extensions>=3.6.2.1 in c:\\users\\lucky\\anaconda3\\envs\\dykk\\lib\\site-packages (from onnx->-r requirements/optional.txt (line 6)) (4.3.0)\n",
      "Collecting flatbuffers"
     ]
    },
    {
     "name": "stderr",
     "output_type": "stream",
     "text": [
      "ERROR: pip's dependency resolver does not currently take into account all the packages that are installed. This behaviour is the source of the following dependency conflicts.\n",
      "mxnet 1.6.0 requires numpy<1.17.0,>=1.8.2, but you have numpy 1.21.6 which is incompatible.\n",
      "mxnet 1.6.0 requires requests<2.19.0,>=2.18.4, but you have requests 2.28.1 which is incompatible.\n"
     ]
    },
    {
     "name": "stdout",
     "output_type": "stream",
     "text": [
      "\n",
      "  Using cached flatbuffers-2.0-py2.py3-none-any.whl (26 kB)\n",
      "Collecting coloredlogs\n",
      "  Using cached coloredlogs-15.0.1-py2.py3-none-any.whl (46 kB)\n",
      "Collecting sympy\n",
      "  Downloading sympy-1.10.1-py3-none-any.whl (6.4 MB)\n",
      "     ---------------------------------------- 6.4/6.4 MB 24.0 MB/s eta 0:00:00\n",
      "Requirement already satisfied: pyparsing!=3.0.5,>=2.0.2 in c:\\users\\lucky\\anaconda3\\envs\\dykk\\lib\\site-packages (from packaging->-r requirements/optional.txt (line 8)) (3.0.9)\n",
      "Collecting slicerator>=0.9.8\n",
      "  Using cached slicerator-1.1.0-py3-none-any.whl (10 kB)\n",
      "Requirement already satisfied: torchvision in c:\\users\\lucky\\anaconda3\\envs\\dykk\\lib\\site-packages (from timm->-r requirements/optional.txt (line 11)) (0.10.0)\n",
      "Requirement already satisfied: torch>=1.4 in c:\\users\\lucky\\anaconda3\\envs\\dykk\\lib\\site-packages (from timm->-r requirements/optional.txt (line 11)) (1.9.0)\n",
      "Collecting llvmlite<0.39,>=0.38.0rc1\n",
      "  Using cached llvmlite-0.38.1-cp39-cp39-win_amd64.whl (23.2 MB)\n",
      "Requirement already satisfied: setuptools in c:\\users\\lucky\\anaconda3\\envs\\dykk\\lib\\site-packages (from numba>=0.45.1->librosa->-r requirements/optional.txt (line 3)) (61.2.0)\n",
      "Collecting appdirs>=1.3.0\n",
      "  Using cached appdirs-1.4.4-py2.py3-none-any.whl (9.6 kB)\n",
      "Collecting requests<3.0,>=2.8.1\n",
      "  Using cached requests-2.28.1-py3-none-any.whl (62 kB)\n",
      "Requirement already satisfied: idna<4,>=2.5 in c:\\users\\lucky\\appdata\\roaming\\python\\python39\\site-packages (from requests<3.0,>=2.8.1->moviepy->-r requirements/optional.txt (line 5)) (2.6)\n",
      "Requirement already satisfied: charset-normalizer<3,>=2 in c:\\users\\lucky\\anaconda3\\envs\\dykk\\lib\\site-packages (from requests<3.0,>=2.8.1->moviepy->-r requirements/optional.txt (line 5)) (2.1.0)\n",
      "Requirement already satisfied: certifi>=2017.4.17 in c:\\users\\lucky\\anaconda3\\envs\\dykk\\lib\\site-packages (from requests<3.0,>=2.8.1->moviepy->-r requirements/optional.txt (line 5)) (2022.6.15)\n",
      "Requirement already satisfied: urllib3<1.27,>=1.21.1 in c:\\users\\lucky\\anaconda3\\envs\\dykk\\lib\\site-packages (from requests<3.0,>=2.8.1->moviepy->-r requirements/optional.txt (line 5)) (1.26.11)\n",
      "Collecting PyWavelets>=1.1.1\n",
      "  Downloading PyWavelets-1.3.0-cp39-cp39-win_amd64.whl (4.2 MB)\n",
      "     ---------------------------------------- 4.2/4.2 MB 38.1 MB/s eta 0:00:00\n",
      "Collecting tifffile>=2019.7.26\n",
      "  Downloading tifffile-2022.5.4-py3-none-any.whl (195 kB)\n",
      "     ------------------------------------- 195.6/195.6 kB 11.6 MB/s eta 0:00:00\n",
      "Collecting networkx>=2.2\n",
      "  Downloading networkx-2.8.5-py3-none-any.whl (2.0 MB)\n",
      "     ---------------------------------------- 2.0/2.0 MB 42.8 MB/s eta 0:00:00\n",
      "Collecting threadpoolctl>=2.0.0\n",
      "  Using cached threadpoolctl-3.1.0-py3-none-any.whl (14 kB)\n",
      "Collecting cffi>=1.0\n",
      "  Using cached cffi-1.15.1-cp39-cp39-win_amd64.whl (179 kB)\n",
      "Requirement already satisfied: colorama in c:\\users\\lucky\\anaconda3\\envs\\dykk\\lib\\site-packages (from tqdm<5.0,>=4.11.2->moviepy->-r requirements/optional.txt (line 5)) (0.4.5)\n",
      "Collecting humanfriendly>=9.1\n",
      "  Using cached humanfriendly-10.0-py2.py3-none-any.whl (86 kB)\n",
      "Requirement already satisfied: python-dateutil>=2.7 in c:\\users\\lucky\\anaconda3\\envs\\dykk\\lib\\site-packages (from matplotlib->imgaug->-r requirements/optional.txt (line 2)) (2.8.2)\n",
      "Requirement already satisfied: fonttools>=4.22.0 in c:\\users\\lucky\\anaconda3\\envs\\dykk\\lib\\site-packages (from matplotlib->imgaug->-r requirements/optional.txt (line 2)) (4.34.4)\n",
      "Requirement already satisfied: kiwisolver>=1.0.1 in c:\\users\\lucky\\anaconda3\\envs\\dykk\\lib\\site-packages (from matplotlib->imgaug->-r requirements/optional.txt (line 2)) (1.4.4)\n",
      "Requirement already satisfied: cycler>=0.10 in c:\\users\\lucky\\anaconda3\\envs\\dykk\\lib\\site-packages (from matplotlib->imgaug->-r requirements/optional.txt (line 2)) (0.11.0)\n",
      "Collecting mpmath>=0.19\n",
      "  Downloading mpmath-1.2.1-py3-none-any.whl (532 kB)\n",
      "     ------------------------------------- 532.6/532.6 kB 34.8 MB/s eta 0:00:00\n",
      "Collecting pycparser\n",
      "  Using cached pycparser-2.21-py2.py3-none-any.whl (118 kB)\n",
      "Collecting pyreadline3\n",
      "  Using cached pyreadline3-3.4.1-py3-none-any.whl (95 kB)\n",
      "Installing collected packages: slicerator, pyreadline3, mpmath, lmdb, flatbuffers, av, audioread, appdirs, tifffile, threadpoolctl, sympy, Shapely, requests, PyWavelets, PyTurboJPEG, pycparser, protobuf, networkx, llvmlite, joblib, imageio-ffmpeg, imageio, humanfriendly, decorator, scikit-learn, scikit-image, proglog, pooch, pims, onnx, numba, coloredlogs, cffi, timm, soundfile, resampy, onnxruntime, moviepy, imgaug, librosa\n",
      "  Attempting uninstall: requests\n",
      "    Found existing installation: requests 2.18.4\n",
      "    Uninstalling requests-2.18.4:\n",
      "      Successfully uninstalled requests-2.18.4\n",
      "  Attempting uninstall: decorator\n",
      "    Found existing installation: decorator 5.1.1\n",
      "    Uninstalling decorator-5.1.1:\n",
      "      Successfully uninstalled decorator-5.1.1\n",
      "Successfully installed PyTurboJPEG-1.6.7 PyWavelets-1.3.0 Shapely-1.8.2 appdirs-1.4.4 audioread-2.1.9 av-9.2.0 cffi-1.15.1 coloredlogs-15.0.1 decorator-4.4.2 flatbuffers-2.0 humanfriendly-10.0 imageio-2.20.0 imageio-ffmpeg-0.4.7 imgaug-0.4.0 joblib-1.1.0 librosa-0.9.2 llvmlite-0.38.1 lmdb-1.3.0 moviepy-1.0.3 mpmath-1.2.1 networkx-2.8.5 numba-0.55.2 onnx-1.12.0 onnxruntime-1.12.0 pims-0.6.1 pooch-1.6.0 proglog-0.1.10 protobuf-3.20.1 pycparser-2.21 pyreadline3-3.4.1 requests-2.28.1 resampy-0.3.1 scikit-image-0.19.3 scikit-learn-1.1.1 slicerator-1.1.0 soundfile-0.10.3.post1 sympy-1.10.1 threadpoolctl-3.1.0 tifffile-2022.5.4 timm-0.6.5\n"
     ]
    }
   ],
   "source": [
    "%cd model/mmaction2\n",
    "\n",
    "!pip install --user -e .\n",
    "!pip install -r requirements/optional.txt"
   ]
  },
  {
   "cell_type": "code",
   "execution_count": 3,
   "metadata": {},
   "outputs": [
    {
     "name": "stdout",
     "output_type": "stream",
     "text": [
      "c:\\Users\\lucky\\DYKK\\model\n",
      "c:\\Users\\lucky\\DYKK\n"
     ]
    }
   ],
   "source": [
    "%cd ..\n",
    "%cd .."
   ]
  },
  {
   "cell_type": "code",
   "execution_count": 4,
   "metadata": {},
   "outputs": [
    {
     "name": "stdout",
     "output_type": "stream",
     "text": [
      "Requirement already satisfied: mmcv-full in c:\\users\\lucky\\anaconda3\\envs\\dykk\\lib\\site-packages (1.6.0)\n",
      "Requirement already satisfied: Pillow in c:\\users\\lucky\\anaconda3\\envs\\dykk\\lib\\site-packages (from mmcv-full) (9.2.0)\n",
      "Requirement already satisfied: yapf in c:\\users\\lucky\\anaconda3\\envs\\dykk\\lib\\site-packages (from mmcv-full) (0.32.0)\n",
      "Requirement already satisfied: regex in c:\\users\\lucky\\anaconda3\\envs\\dykk\\lib\\site-packages (from mmcv-full) (2022.7.25)\n",
      "Requirement already satisfied: numpy in c:\\users\\lucky\\anaconda3\\envs\\dykk\\lib\\site-packages (from mmcv-full) (1.21.6)\n",
      "Requirement already satisfied: packaging in c:\\users\\lucky\\anaconda3\\envs\\dykk\\lib\\site-packages (from mmcv-full) (21.3)\n",
      "Requirement already satisfied: addict in c:\\users\\lucky\\anaconda3\\envs\\dykk\\lib\\site-packages (from mmcv-full) (2.4.0)\n",
      "Requirement already satisfied: pyyaml in c:\\users\\lucky\\anaconda3\\envs\\dykk\\lib\\site-packages (from mmcv-full) (6.0)\n",
      "Requirement already satisfied: pyparsing!=3.0.5,>=2.0.2 in c:\\users\\lucky\\anaconda3\\envs\\dykk\\lib\\site-packages (from packaging->mmcv-full) (3.0.9)\n"
     ]
    }
   ],
   "source": [
    "!pip install --upgrade mmcv-full"
   ]
  },
  {
   "cell_type": "code",
   "execution_count": null,
   "metadata": {},
   "outputs": [],
   "source": [
    "# %cd model\n",
    "\n",
    "# !git clone https://github.com/SKTBrain/KoBERT.git\n",
    "\n",
    "# %cd ..\n",
    "\n",
    "%cd model/KoBERT\n",
    "\n",
    "!python setup.py install\n",
    "#!pip install -r requirements.txt\n",
    "\n",
    "%cd ..\n",
    "%cd .."
   ]
  },
  {
   "cell_type": "code",
   "execution_count": 2,
   "metadata": {},
   "outputs": [
    {
     "name": "stdout",
     "output_type": "stream",
     "text": [
      "Requirement already satisfied: mxnet in c:\\users\\lucky\\appdata\\roaming\\python\\python39\\site-packages (1.7.0.post2)\n",
      "Collecting requests<2.19.0,>=2.18.4\n",
      "  Using cached requests-2.18.4-py2.py3-none-any.whl (88 kB)\n",
      "Collecting numpy<1.17.0,>=1.8.2\n",
      "  Using cached numpy-1.16.6-cp39-cp39-win_amd64.whl\n",
      "Requirement already satisfied: graphviz<0.9.0,>=0.8.1 in c:\\users\\lucky\\appdata\\roaming\\python\\python39\\site-packages (from mxnet) (0.8.4)\n",
      "Collecting idna<2.7,>=2.5\n",
      "  Using cached idna-2.6-py2.py3-none-any.whl (56 kB)\n",
      "Collecting chardet<3.1.0,>=3.0.2\n",
      "  Using cached chardet-3.0.4-py2.py3-none-any.whl (133 kB)\n",
      "Requirement already satisfied: certifi>=2017.4.17 in c:\\users\\lucky\\anaconda3\\envs\\dykk\\lib\\site-packages (from requests<2.19.0,>=2.18.4->mxnet) (2022.6.15)\n",
      "Collecting urllib3<1.23,>=1.21.1\n",
      "  Using cached urllib3-1.22-py2.py3-none-any.whl (132 kB)\n",
      "Installing collected packages: urllib3, idna, chardet, requests, numpy\n",
      "Successfully installed chardet-3.0.4 idna-2.6 numpy-1.16.6 requests-2.18.4 urllib3-1.22\n"
     ]
    },
    {
     "name": "stderr",
     "output_type": "stream",
     "text": [
      "  WARNING: The script chardetect.exe is installed in 'C:\\Users\\lucky\\AppData\\Roaming\\Python\\Python39\\Scripts' which is not on PATH.\n",
      "  Consider adding this directory to PATH or, if you prefer to suppress this warning, use --no-warn-script-location.\n",
      "  WARNING: The script f2py.exe is installed in 'C:\\Users\\lucky\\AppData\\Roaming\\Python\\Python39\\Scripts' which is not on PATH.\n",
      "  Consider adding this directory to PATH or, if you prefer to suppress this warning, use --no-warn-script-location.\n",
      "ERROR: pip's dependency resolver does not currently take into account all the packages that are installed. This behaviour is the source of the following dependency conflicts.\n",
      "transformers 4.20.1 requires numpy>=1.17, but you have numpy 1.16.6 which is incompatible.\n",
      "tensorflow 2.9.1 requires numpy>=1.20, but you have numpy 1.16.6 which is incompatible.\n",
      "tensorboard 2.9.1 requires requests<3,>=2.21.0, but you have requests 2.18.4 which is incompatible.\n",
      "botocore 1.27.37 requires urllib3<1.27,>=1.25.4, but you have urllib3 1.22 which is incompatible.\n"
     ]
    },
    {
     "name": "stdout",
     "output_type": "stream",
     "text": [
      "Collecting gluonnlp==0.6.0\n",
      "  Using cached gluonnlp-0.6.0-py3-none-any.whl\n",
      "Requirement already satisfied: numpy in c:\\users\\lucky\\appdata\\roaming\\python\\python39\\site-packages (from gluonnlp==0.6.0) (1.16.6)\n",
      "Installing collected packages: gluonnlp\n",
      "Successfully installed gluonnlp-0.6.0\n",
      "Collecting onnxruntime==1.8.0\n",
      "  Using cached onnxruntime-1.8.0-cp39-cp39-win_amd64.whl (4.7 MB)\n",
      "Requirement already satisfied: protobuf in c:\\users\\lucky\\anaconda3\\envs\\dykk\\lib\\site-packages (from onnxruntime==1.8.0) (3.19.4)\n",
      "Requirement already satisfied: flatbuffers in c:\\users\\lucky\\anaconda3\\envs\\dykk\\lib\\site-packages (from onnxruntime==1.8.0) (1.12)\n",
      "Requirement already satisfied: numpy>=1.16.6 in c:\\users\\lucky\\appdata\\roaming\\python\\python39\\site-packages (from onnxruntime==1.8.0) (1.16.6)\n",
      "Installing collected packages: onnxruntime\n",
      "Successfully installed onnxruntime-1.8.0\n",
      "Requirement already satisfied: urllib3 in c:\\users\\lucky\\appdata\\roaming\\python\\python39\\site-packages (1.22)\n",
      "Collecting urllib3\n",
      "  Using cached urllib3-1.26.11-py2.py3-none-any.whl (139 kB)\n",
      "Installing collected packages: urllib3\n",
      "  Attempting uninstall: urllib3\n",
      "    Found existing installation: urllib3 1.22\n",
      "    Uninstalling urllib3-1.22:\n",
      "      Successfully uninstalled urllib3-1.22\n",
      "Successfully installed urllib3-1.26.11\n"
     ]
    },
    {
     "name": "stderr",
     "output_type": "stream",
     "text": [
      "ERROR: pip's dependency resolver does not currently take into account all the packages that are installed. This behaviour is the source of the following dependency conflicts.\n",
      "requests 2.18.4 requires urllib3<1.23,>=1.21.1, but you have urllib3 1.26.11 which is incompatible.\n",
      "transformers 4.20.1 requires numpy>=1.17, but you have numpy 1.16.6 which is incompatible.\n",
      "tensorboard 2.9.1 requires requests<3,>=2.21.0, but you have requests 2.18.4 which is incompatible.\n"
     ]
    },
    {
     "name": "stdout",
     "output_type": "stream",
     "text": [
      "Collecting numpy==1.21.6\n",
      "  Using cached numpy-1.21.6-cp39-cp39-win_amd64.whl (14.0 MB)\n",
      "Installing collected packages: numpy\n",
      "  Attempting uninstall: numpy\n",
      "    Found existing installation: numpy 1.16.6\n",
      "    Uninstalling numpy-1.16.6:\n",
      "      Successfully uninstalled numpy-1.16.6\n",
      "  Rolling back uninstall of numpy\n",
      "  Moving to c:\\users\\lucky\\appdata\\roaming\\python\\python39\\scripts\\f2py.exe\n",
      "   from C:\\Users\\lucky\\AppData\\Local\\Temp\\pip-uninstall-5j54idg9\\f2py.exe\n",
      "  Moving to c:\\users\\lucky\\appdata\\roaming\\python\\python39\\site-packages\\numpy-1.16.6.dist-info\\\n",
      "   from C:\\Users\\lucky\\AppData\\Roaming\\Python\\Python39\\site-packages\\~umpy-1.16.6.dist-info\n",
      "  Moving to c:\\users\\lucky\\appdata\\roaming\\python\\python39\\site-packages\\numpy\\\n",
      "   from C:\\Users\\lucky\\AppData\\Roaming\\Python\\Python39\\site-packages\\~umpy\n"
     ]
    },
    {
     "name": "stderr",
     "output_type": "stream",
     "text": [
      "  WARNING: No metadata found in c:\\users\\lucky\\appdata\\roaming\\python\\python39\\site-packages\n",
      "ERROR: Could not install packages due to an OSError: [WinError 5] 액세스가 거부되었습니다: 'C:\\\\Users\\\\lucky\\\\anaconda3\\\\envs\\\\DYKK\\\\Lib\\\\site-packages\\\\numpy\\\\.libs\\\\libopenblas.XWYDX2IKJW2NMTWSFYNGFUWKQU3LYTCZ.gfortran-win_amd64.dll'\n",
      "Consider using the `--user` option or check the permissions.\n",
      "\n"
     ]
    },
    {
     "name": "stdout",
     "output_type": "stream",
     "text": [
      "Requirement already satisfied: transformers in c:\\users\\lucky\\anaconda3\\envs\\dykk\\lib\\site-packages (4.20.1)\n",
      "Requirement already satisfied: regex!=2019.12.17 in c:\\users\\lucky\\anaconda3\\envs\\dykk\\lib\\site-packages (from transformers) (2022.7.25)\n",
      "Requirement already satisfied: filelock in c:\\users\\lucky\\anaconda3\\envs\\dykk\\lib\\site-packages (from transformers) (3.7.1)\n",
      "Requirement already satisfied: tokenizers!=0.11.3,<0.13,>=0.11.1 in c:\\users\\lucky\\anaconda3\\envs\\dykk\\lib\\site-packages (from transformers) (0.12.1)\n",
      "Requirement already satisfied: huggingface-hub<1.0,>=0.1.0 in c:\\users\\lucky\\anaconda3\\envs\\dykk\\lib\\site-packages (from transformers) (0.8.1)\n",
      "Requirement already satisfied: pyyaml>=5.1 in c:\\users\\lucky\\anaconda3\\envs\\dykk\\lib\\site-packages (from transformers) (6.0)\n",
      "Requirement already satisfied: packaging>=20.0 in c:\\users\\lucky\\anaconda3\\envs\\dykk\\lib\\site-packages (from transformers) (21.3)\n",
      "Requirement already satisfied: tqdm>=4.27 in c:\\users\\lucky\\anaconda3\\envs\\dykk\\lib\\site-packages (from transformers) (4.64.0)\n",
      "Collecting numpy>=1.17\n",
      "  Using cached numpy-1.23.1-cp39-cp39-win_amd64.whl (14.7 MB)\n",
      "Requirement already satisfied: requests in c:\\users\\lucky\\appdata\\roaming\\python\\python39\\site-packages (from transformers) (2.18.4)\n",
      "Requirement already satisfied: typing-extensions>=3.7.4.3 in c:\\users\\lucky\\anaconda3\\envs\\dykk\\lib\\site-packages (from huggingface-hub<1.0,>=0.1.0->transformers) (4.3.0)\n",
      "Requirement already satisfied: pyparsing!=3.0.5,>=2.0.2 in c:\\users\\lucky\\anaconda3\\envs\\dykk\\lib\\site-packages (from packaging>=20.0->transformers) (3.0.9)\n",
      "Requirement already satisfied: colorama in c:\\users\\lucky\\anaconda3\\envs\\dykk\\lib\\site-packages (from tqdm>=4.27->transformers) (0.4.5)\n",
      "Collecting urllib3<1.23,>=1.21.1\n",
      "  Using cached urllib3-1.22-py2.py3-none-any.whl (132 kB)\n",
      "Requirement already satisfied: certifi>=2017.4.17 in c:\\users\\lucky\\anaconda3\\envs\\dykk\\lib\\site-packages (from requests->transformers) (2022.6.15)\n",
      "Requirement already satisfied: chardet<3.1.0,>=3.0.2 in c:\\users\\lucky\\appdata\\roaming\\python\\python39\\site-packages (from requests->transformers) (3.0.4)\n",
      "Requirement already satisfied: idna<2.7,>=2.5 in c:\\users\\lucky\\appdata\\roaming\\python\\python39\\site-packages (from requests->transformers) (2.6)\n",
      "Installing collected packages: urllib3, numpy\n",
      "  Attempting uninstall: urllib3\n",
      "    Found existing installation: urllib3 1.26.11\n",
      "    Uninstalling urllib3-1.26.11:\n",
      "      Successfully uninstalled urllib3-1.26.11\n",
      "  Attempting uninstall: numpy\n",
      "    Found existing installation: numpy 1.16.6\n",
      "    Uninstalling numpy-1.16.6:\n",
      "      Successfully uninstalled numpy-1.16.6\n",
      "  Rolling back uninstall of numpy\n",
      "  Moving to c:\\users\\lucky\\appdata\\roaming\\python\\python39\\scripts\\f2py.exe\n",
      "   from C:\\Users\\lucky\\AppData\\Local\\Temp\\pip-uninstall-_tec7_cu\\f2py.exe\n",
      "  Moving to c:\\users\\lucky\\appdata\\roaming\\python\\python39\\site-packages\\numpy-1.16.6.dist-info\\\n",
      "   from C:\\Users\\lucky\\AppData\\Roaming\\Python\\Python39\\site-packages\\~umpy-1.16.6.dist-info\n",
      "  Moving to c:\\users\\lucky\\appdata\\roaming\\python\\python39\\site-packages\\numpy\\\n",
      "   from C:\\Users\\lucky\\AppData\\Roaming\\Python\\Python39\\site-packages\\~umpy\n"
     ]
    },
    {
     "name": "stderr",
     "output_type": "stream",
     "text": [
      "  WARNING: No metadata found in c:\\users\\lucky\\appdata\\roaming\\python\\python39\\site-packages\n",
      "ERROR: Could not install packages due to an OSError: [WinError 5] 액세스가 거부되었습니다: 'C:\\\\Users\\\\lucky\\\\anaconda3\\\\envs\\\\DYKK\\\\Lib\\\\site-packages\\\\numpy\\\\core\\\\_multiarray_tests.cp39-win_amd64.pyd'\n",
      "Consider using the `--user` option or check the permissions.\n",
      "\n"
     ]
    },
    {
     "name": "stdout",
     "output_type": "stream",
     "text": [
      "Collecting awscli\n",
      "  Using cached awscli-1.25.37-py3-none-any.whl (3.9 MB)\n",
      "Collecting colorama<0.4.5,>=0.2.5\n",
      "  Using cached colorama-0.4.4-py2.py3-none-any.whl (16 kB)\n",
      "Collecting docutils<0.17,>=0.10\n",
      "  Using cached docutils-0.16-py2.py3-none-any.whl (548 kB)\n",
      "Collecting rsa<4.8,>=3.1.2\n",
      "  Using cached rsa-4.7.2-py3-none-any.whl (34 kB)\n",
      "Requirement already satisfied: botocore==1.27.37 in c:\\users\\lucky\\anaconda3\\envs\\dykk\\lib\\site-packages (from awscli) (1.27.37)\n",
      "Requirement already satisfied: s3transfer<0.7.0,>=0.6.0 in c:\\users\\lucky\\anaconda3\\envs\\dykk\\lib\\site-packages\\s3transfer-0.6.0-py3.9.egg (from awscli) (0.6.0)\n",
      "Collecting PyYAML<5.5,>=3.10\n",
      "  Using cached PyYAML-5.4.1-cp39-cp39-win_amd64.whl (213 kB)\n",
      "Collecting urllib3<1.27,>=1.25.4\n",
      "  Using cached urllib3-1.26.11-py2.py3-none-any.whl (139 kB)\n",
      "Requirement already satisfied: python-dateutil<3.0.0,>=2.1 in c:\\users\\lucky\\anaconda3\\envs\\dykk\\lib\\site-packages (from botocore==1.27.37->awscli) (2.8.2)\n",
      "Requirement already satisfied: jmespath<2.0.0,>=0.7.1 in c:\\users\\lucky\\anaconda3\\envs\\dykk\\lib\\site-packages (from botocore==1.27.37->awscli) (1.0.1)\n",
      "Requirement already satisfied: pyasn1>=0.1.3 in c:\\users\\lucky\\anaconda3\\envs\\dykk\\lib\\site-packages (from rsa<4.8,>=3.1.2->awscli) (0.4.8)\n",
      "Requirement already satisfied: six>=1.5 in c:\\users\\lucky\\anaconda3\\envs\\dykk\\lib\\site-packages (from python-dateutil<3.0.0,>=2.1->botocore==1.27.37->awscli) (1.16.0)\n",
      "Installing collected packages: urllib3, rsa, PyYAML, docutils, colorama, awscli\n",
      "  Attempting uninstall: urllib3\n",
      "    Found existing installation: urllib3 1.22\n",
      "    Uninstalling urllib3-1.22:\n",
      "      Successfully uninstalled urllib3-1.22\n",
      "  Attempting uninstall: rsa\n",
      "    Found existing installation: rsa 4.9\n",
      "    Uninstalling rsa-4.9:\n",
      "      Successfully uninstalled rsa-4.9\n",
      "  Attempting uninstall: PyYAML\n",
      "    Found existing installation: PyYAML 6.0\n",
      "    Uninstalling PyYAML-6.0:\n",
      "      Successfully uninstalled PyYAML-6.0\n"
     ]
    },
    {
     "name": "stderr",
     "output_type": "stream",
     "text": [
      "ERROR: Could not install packages due to an OSError: [WinError 5] 액세스가 거부되었습니다: 'C:\\\\Users\\\\lucky\\\\anaconda3\\\\envs\\\\DYKK\\\\Lib\\\\site-packages\\\\~aml\\\\_yaml.cp39-win_amd64.pyd'\n",
      "Consider using the `--user` option or check the permissions.\n",
      "\n"
     ]
    },
    {
     "name": "stdout",
     "output_type": "stream",
     "text": [
      "Collecting torchmetrics\n",
      "  Using cached torchmetrics-0.9.3-py3-none-any.whl (419 kB)\n",
      "Requirement already satisfied: torch>=1.3.1 in c:\\users\\lucky\\anaconda3\\envs\\dykk\\lib\\site-packages (from torchmetrics) (1.9.0)\n",
      "Collecting numpy>=1.17.2\n",
      "  Using cached numpy-1.23.1-cp39-cp39-win_amd64.whl (14.7 MB)\n",
      "Requirement already satisfied: packaging in c:\\users\\lucky\\anaconda3\\envs\\dykk\\lib\\site-packages (from torchmetrics) (21.3)"
     ]
    },
    {
     "name": "stderr",
     "output_type": "stream",
     "text": [
      "  WARNING: No metadata found in c:\\users\\lucky\\appdata\\roaming\\python\\python39\\site-packages\n",
      "ERROR: Could not install packages due to an OSError: [WinError 5] 액세스가 거부되었습니다: 'C:\\\\Users\\\\lucky\\\\anaconda3\\\\envs\\\\DYKK\\\\Lib\\\\site-packages\\\\numpy\\\\core\\\\_multiarray_tests.cp39-win_amd64.pyd'\n",
      "Consider using the `--user` option or check the permissions.\n",
      "\n"
     ]
    },
    {
     "name": "stdout",
     "output_type": "stream",
     "text": [
      "\n",
      "Requirement already satisfied: typing-extensions in c:\\users\\lucky\\anaconda3\\envs\\dykk\\lib\\site-packages (from torch>=1.3.1->torchmetrics) (4.3.0)\n",
      "Requirement already satisfied: pyparsing!=3.0.5,>=2.0.2 in c:\\users\\lucky\\anaconda3\\envs\\dykk\\lib\\site-packages (from packaging->torchmetrics) (3.0.9)\n",
      "Installing collected packages: numpy, torchmetrics\n",
      "  Attempting uninstall: numpy\n",
      "    Found existing installation: numpy 1.16.6\n",
      "    Uninstalling numpy-1.16.6:\n",
      "      Successfully uninstalled numpy-1.16.6\n",
      "  Rolling back uninstall of numpy\n",
      "  Moving to c:\\users\\lucky\\appdata\\roaming\\python\\python39\\scripts\\f2py.exe\n",
      "   from C:\\Users\\lucky\\AppData\\Local\\Temp\\pip-uninstall-2mx16jio\\f2py.exe\n",
      "  Moving to c:\\users\\lucky\\appdata\\roaming\\python\\python39\\site-packages\\numpy-1.16.6.dist-info\\\n",
      "   from C:\\Users\\lucky\\AppData\\Roaming\\Python\\Python39\\site-packages\\~umpy-1.16.6.dist-info\n",
      "  Moving to c:\\users\\lucky\\appdata\\roaming\\python\\python39\\site-packages\\numpy\\\n",
      "   from C:\\Users\\lucky\\AppData\\Roaming\\Python\\Python39\\site-packages\\~umpy\n",
      "Requirement already satisfied: tqdm in c:\\users\\lucky\\anaconda3\\envs\\dykk\\lib\\site-packages (4.64.0)\n",
      "Requirement already satisfied: colorama in c:\\users\\lucky\\anaconda3\\envs\\dykk\\lib\\site-packages (from tqdm) (0.4.5)\n"
     ]
    }
   ],
   "source": [
    "!pip install --user mxnet\n",
    "!pip install gluonnlp==0.6.0\n",
    "!pip install onnxruntime==1.8.0\n",
    "!pip install --upgrade urllib3\n",
    "!pip install numpy==1.21.6\n",
    "!pip install transformers\n",
    "!pip install awscli\n",
    "!pip install torchmetrics\n",
    "!pip install tqdm"
   ]
  },
  {
   "cell_type": "code",
   "execution_count": 8,
   "metadata": {},
   "outputs": [
    {
     "name": "stdout",
     "output_type": "stream",
     "text": [
      "Looking in links: https://download.pytorch.org/whl/torch_stable.html\n",
      "Collecting torch==1.9.0+cu111\n",
      "  Downloading https://download.pytorch.org/whl/cu111/torch-1.9.0%2Bcu111-cp39-cp39-win_amd64.whl (3128.0 MB)\n",
      "     ---------------------------------------- 3.1/3.1 GB 950.8 kB/s eta 0:00:00\n",
      "Collecting torchvision==0.10.0+cu111\n",
      "  Downloading https://download.pytorch.org/whl/cu111/torchvision-0.10.0%2Bcu111-cp39-cp39-win_amd64.whl (2.5 MB)\n",
      "     ---------------------------------------- 2.5/2.5 MB 8.3 MB/s eta 0:00:00\n",
      "Requirement already satisfied: typing-extensions in c:\\users\\lucky\\anaconda3\\lib\\site-packages (from torch==1.9.0+cu111) (4.1.1)\n",
      "Requirement already satisfied: pillow>=5.3.0 in c:\\users\\lucky\\anaconda3\\lib\\site-packages (from torchvision==0.10.0+cu111) (9.2.0)\n",
      "Requirement already satisfied: numpy in c:\\users\\lucky\\anaconda3\\lib\\site-packages (from torchvision==0.10.0+cu111) (1.21.5)\n",
      "Installing collected packages: torch, torchvision\n",
      "  Attempting uninstall: torch\n",
      "    Found existing installation: torch 1.11.0\n",
      "    Uninstalling torch-1.11.0:\n",
      "      Successfully uninstalled torch-1.11.0\n",
      "  Attempting uninstall: torchvision\n",
      "    Found existing installation: torchvision 0.12.0\n",
      "    Uninstalling torchvision-0.12.0:\n",
      "      Successfully uninstalled torchvision-0.12.0\n",
      "Successfully installed torch-1.9.0+cu111 torchvision-0.10.0+cu111\n"
     ]
    },
    {
     "name": "stderr",
     "output_type": "stream",
     "text": [
      "ERROR: pip's dependency resolver does not currently take into account all the packages that are installed. This behaviour is the source of the following dependency conflicts.\n",
      "torchaudio 0.11.0 requires torch==1.11.0, but you have torch 1.9.0+cu111 which is incompatible.\n"
     ]
    },
    {
     "name": "stdout",
     "output_type": "stream",
     "text": [
      "Looking in links: https://download.openmmlab.com/mmcv/dist/cu111/torch1.9.0/index.html\n",
      "Collecting mmcv-full\n",
      "  Downloading https://download.openmmlab.com/mmcv/dist/cu111/torch1.9.0/mmcv_full-1.6.0-cp39-cp39-win_amd64.whl (13.7 MB)\n",
      "     ---------------------------------------- 13.7/13.7 MB 6.3 MB/s eta 0:00:00\n",
      "Requirement already satisfied: Pillow in c:\\users\\lucky\\anaconda3\\lib\\site-packages (from mmcv-full) (9.2.0)\n",
      "Requirement already satisfied: pyyaml in c:\\users\\lucky\\anaconda3\\lib\\site-packages (from mmcv-full) (6.0)\n",
      "Requirement already satisfied: numpy in c:\\users\\lucky\\anaconda3\\lib\\site-packages (from mmcv-full) (1.21.5)\n",
      "Requirement already satisfied: regex in c:\\users\\lucky\\anaconda3\\lib\\site-packages (from mmcv-full) (2022.7.9)\n",
      "Requirement already satisfied: yapf in c:\\users\\lucky\\anaconda3\\lib\\site-packages (from mmcv-full) (0.31.0)\n",
      "Requirement already satisfied: opencv-python>=3 in c:\\users\\lucky\\anaconda3\\lib\\site-packages (from mmcv-full) (4.6.0.66)\n",
      "Collecting addict\n",
      "  Downloading addict-2.4.0-py3-none-any.whl (3.8 kB)\n",
      "Requirement already satisfied: packaging in c:\\users\\lucky\\anaconda3\\lib\\site-packages (from mmcv-full) (21.3)\n",
      "Requirement already satisfied: pyparsing!=3.0.5,>=2.0.2 in c:\\users\\lucky\\anaconda3\\lib\\site-packages (from packaging->mmcv-full) (3.0.4)\n",
      "Installing collected packages: addict, mmcv-full\n",
      "Successfully installed addict-2.4.0 mmcv-full-1.6.0\n",
      "Obtaining file:///C:/Users/lucky/DYKK/model/mmaction2\n",
      "  Preparing metadata (setup.py): started\n",
      "  Preparing metadata (setup.py): finished with status 'done'\n",
      "Collecting decord>=0.4.1\n",
      "  Downloading decord-0.6.0-py3-none-win_amd64.whl (24.7 MB)\n",
      "     ---------------------------------------- 24.7/24.7 MB 9.3 MB/s eta 0:00:00\n",
      "Collecting einops\n",
      "  Downloading einops-0.4.1-py3-none-any.whl (28 kB)\n",
      "Requirement already satisfied: matplotlib in c:\\users\\lucky\\anaconda3\\lib\\site-packages (from mmaction2==0.24.0) (3.5.1)\n",
      "Requirement already satisfied: numpy in c:\\users\\lucky\\anaconda3\\lib\\site-packages (from mmaction2==0.24.0) (1.21.5)\n",
      "Collecting opencv-contrib-python\n",
      "  Using cached opencv_contrib_python-4.6.0.66-cp36-abi3-win_amd64.whl (42.5 MB)\n",
      "Requirement already satisfied: Pillow in c:\\users\\lucky\\anaconda3\\lib\\site-packages (from mmaction2==0.24.0) (9.2.0)\n",
      "Requirement already satisfied: scipy in c:\\users\\lucky\\anaconda3\\lib\\site-packages (from mmaction2==0.24.0) (1.7.3)\n",
      "Requirement already satisfied: torch>=1.3 in c:\\users\\lucky\\anaconda3\\lib\\site-packages (from mmaction2==0.24.0) (1.9.0+cu111)\n",
      "Requirement already satisfied: typing-extensions in c:\\users\\lucky\\anaconda3\\lib\\site-packages (from torch>=1.3->mmaction2==0.24.0) (4.1.1)\n",
      "Requirement already satisfied: kiwisolver>=1.0.1 in c:\\users\\lucky\\anaconda3\\lib\\site-packages (from matplotlib->mmaction2==0.24.0) (1.4.2)\n",
      "Requirement already satisfied: python-dateutil>=2.7 in c:\\users\\lucky\\anaconda3\\lib\\site-packages (from matplotlib->mmaction2==0.24.0) (2.8.2)\n",
      "Requirement already satisfied: packaging>=20.0 in c:\\users\\lucky\\anaconda3\\lib\\site-packages (from matplotlib->mmaction2==0.24.0) (21.3)\n",
      "Requirement already satisfied: cycler>=0.10 in c:\\users\\lucky\\anaconda3\\lib\\site-packages (from matplotlib->mmaction2==0.24.0) (0.11.0)\n",
      "Requirement already satisfied: fonttools>=4.22.0 in c:\\users\\lucky\\anaconda3\\lib\\site-packages (from matplotlib->mmaction2==0.24.0) (4.25.0)\n",
      "Requirement already satisfied: pyparsing>=2.2.1 in c:\\users\\lucky\\anaconda3\\lib\\site-packages (from matplotlib->mmaction2==0.24.0) (3.0.4)\n",
      "Requirement already satisfied: six>=1.5 in c:\\users\\lucky\\anaconda3\\lib\\site-packages (from python-dateutil>=2.7->matplotlib->mmaction2==0.24.0) (1.16.0)\n",
      "Installing collected packages: einops, opencv-contrib-python, decord, mmaction2\n",
      "  Running setup.py develop for mmaction2\n",
      "Successfully installed decord-0.6.0 einops-0.4.1 mmaction2-0.24.0 opencv-contrib-python-4.6.0.66\n",
      "Collecting av\n",
      "  Downloading av-9.2.0-cp39-cp39-win_amd64.whl (24.4 MB)\n",
      "     ---------------------------------------- 24.4/24.4 MB 4.2 MB/s eta 0:00:00\n",
      "Collecting imgaug\n",
      "  Downloading imgaug-0.4.0-py2.py3-none-any.whl (948 kB)\n",
      "     ------------------------------------- 948.0/948.0 kB 10.0 MB/s eta 0:00:00\n",
      "Collecting librosa\n",
      "  Downloading librosa-0.9.2-py3-none-any.whl (214 kB)\n",
      "     ------------------------------------- 214.3/214.3 kB 13.6 MB/s eta 0:00:00\n",
      "Collecting lmdb\n",
      "  Downloading lmdb-1.3.0-cp39-cp39-win_amd64.whl (106 kB)\n",
      "     ---------------------------------------- 106.4/106.4 kB ? eta 0:00:00\n",
      "Requirement already satisfied: moviepy in c:\\users\\lucky\\anaconda3\\lib\\site-packages (from -r requirements/optional.txt (line 5)) (1.0.3)\n",
      "Collecting onnx\n",
      "  Downloading onnx-1.12.0-cp39-cp39-win_amd64.whl (11.5 MB)\n",
      "     --------------------------------------- 11.5/11.5 MB 10.2 MB/s eta 0:00:00\n",
      "Collecting onnxruntime\n",
      "  Downloading onnxruntime-1.12.0-cp39-cp39-win_amd64.whl (5.8 MB)\n",
      "     ---------------------------------------- 5.8/5.8 MB 10.6 MB/s eta 0:00:00\n",
      "Requirement already satisfied: packaging in c:\\users\\lucky\\anaconda3\\lib\\site-packages (from -r requirements/optional.txt (line 8)) (21.3)\n",
      "Collecting pims\n",
      "  Downloading PIMS-0.6.1.tar.gz (86 kB)\n",
      "     ---------------------------------------- 86.0/86.0 kB ? eta 0:00:00\n",
      "  Preparing metadata (setup.py): started\n",
      "  Preparing metadata (setup.py): finished with status 'done'\n",
      "Collecting PyTurboJPEG\n",
      "  Downloading PyTurboJPEG-1.6.7.tar.gz (11 kB)\n",
      "  Preparing metadata (setup.py): started\n",
      "  Preparing metadata (setup.py): finished with status 'done'\n",
      "Collecting timm\n",
      "  Downloading timm-0.6.5-py3-none-any.whl (512 kB)\n",
      "     -------------------------------------- 512.8/512.8 kB 5.4 MB/s eta 0:00:00\n",
      "Requirement already satisfied: six in c:\\users\\lucky\\anaconda3\\lib\\site-packages (from imgaug->-r requirements/optional.txt (line 2)) (1.16.0)\n",
      "Requirement already satisfied: scipy in c:\\users\\lucky\\anaconda3\\lib\\site-packages (from imgaug->-r requirements/optional.txt (line 2)) (1.7.3)\n",
      "Requirement already satisfied: scikit-image>=0.14.2 in c:\\users\\lucky\\anaconda3\\lib\\site-packages (from imgaug->-r requirements/optional.txt (line 2)) (0.19.2)\n",
      "Requirement already satisfied: Pillow in c:\\users\\lucky\\anaconda3\\lib\\site-packages (from imgaug->-r requirements/optional.txt (line 2)) (9.2.0)\n",
      "Requirement already satisfied: imageio in c:\\users\\lucky\\anaconda3\\lib\\site-packages (from imgaug->-r requirements/optional.txt (line 2)) (2.9.0)\n",
      "Requirement already satisfied: matplotlib in c:\\users\\lucky\\anaconda3\\lib\\site-packages (from imgaug->-r requirements/optional.txt (line 2)) (3.5.1)\n",
      "Requirement already satisfied: numpy>=1.15 in c:\\users\\lucky\\anaconda3\\lib\\site-packages (from imgaug->-r requirements/optional.txt (line 2)) (1.21.5)\n",
      "Requirement already satisfied: opencv-python in c:\\users\\lucky\\anaconda3\\lib\\site-packages (from imgaug->-r requirements/optional.txt (line 2)) (4.6.0.66)\n",
      "Collecting Shapely\n",
      "  Downloading Shapely-1.8.2-cp39-cp39-win_amd64.whl (1.3 MB)\n",
      "     ---------------------------------------- 1.3/1.3 MB 9.1 MB/s eta 0:00:00\n",
      "Requirement already satisfied: scikit-learn>=0.19.1 in c:\\users\\lucky\\anaconda3\\lib\\site-packages (from librosa->-r requirements/optional.txt (line 3)) (1.1.1)\n",
      "Requirement already satisfied: numba>=0.45.1 in c:\\users\\lucky\\anaconda3\\lib\\site-packages (from librosa->-r requirements/optional.txt (line 3)) (0.55.1)\n",
      "Collecting pooch>=1.0\n",
      "  Using cached pooch-1.6.0-py3-none-any.whl (56 kB)\n",
      "Requirement already satisfied: joblib>=0.14 in c:\\users\\lucky\\anaconda3\\lib\\site-packages (from librosa->-r requirements/optional.txt (line 3)) (1.1.0)\n",
      "Collecting audioread>=2.1.9\n",
      "  Using cached audioread-2.1.9-py3-none-any.whl\n",
      "Collecting soundfile>=0.10.2\n",
      "  Using cached SoundFile-0.10.3.post1-py2.py3.cp26.cp27.cp32.cp33.cp34.cp35.cp36.pp27.pp32.pp33-none-win_amd64.whl (689 kB)\n",
      "Collecting resampy>=0.2.2\n",
      "  Using cached resampy-0.3.1-py3-none-any.whl (3.1 MB)\n",
      "Requirement already satisfied: decorator>=4.0.10 in c:\\users\\lucky\\anaconda3\\lib\\site-packages (from librosa->-r requirements/optional.txt (line 3)) (4.4.2)\n",
      "Requirement already satisfied: proglog<=1.0.0 in c:\\users\\lucky\\anaconda3\\lib\\site-packages (from moviepy->-r requirements/optional.txt (line 5)) (0.1.10)\n",
      "Requirement already satisfied: requests<3.0,>=2.8.1 in c:\\users\\lucky\\anaconda3\\lib\\site-packages (from moviepy->-r requirements/optional.txt (line 5)) (2.28.1)\n",
      "Requirement already satisfied: tqdm<5.0,>=4.11.2 in c:\\users\\lucky\\anaconda3\\lib\\site-packages (from moviepy->-r requirements/optional.txt (line 5)) (4.64.0)\n",
      "Requirement already satisfied: imageio-ffmpeg>=0.2.0 in c:\\users\\lucky\\anaconda3\\lib\\site-packages (from moviepy->-r requirements/optional.txt (line 5)) (0.4.7)\n",
      "Requirement already satisfied: protobuf<=3.20.1,>=3.12.2 in c:\\users\\lucky\\anaconda3\\lib\\site-packages (from onnx->-r requirements/optional.txt (line 6)) (3.20.1)\n",
      "Requirement already satisfied: typing-extensions>=3.6.2.1 in c:\\users\\lucky\\anaconda3\\lib\\site-packages (from onnx->-r requirements/optional.txt (line 6)) (4.1.1)\n",
      "Requirement already satisfied: sympy in c:\\users\\lucky\\anaconda3\\lib\\site-packages (from onnxruntime->-r requirements/optional.txt (line 7)) (1.10.1)\n",
      "Collecting flatbuffers\n",
      "  Using cached flatbuffers-2.0-py2.py3-none-any.whl (26 kB)\n",
      "Collecting coloredlogs\n",
      "  Downloading coloredlogs-15.0.1-py2.py3-none-any.whl (46 kB)\n",
      "     ---------------------------------------- 46.0/46.0 kB ? eta 0:00:00\n",
      "Requirement already satisfied: pyparsing!=3.0.5,>=2.0.2 in c:\\users\\lucky\\anaconda3\\lib\\site-packages (from packaging->-r requirements/optional.txt (line 8)) (3.0.4)\n",
      "Collecting slicerator>=0.9.8\n",
      "  Downloading slicerator-1.1.0-py3-none-any.whl (10 kB)\n",
      "Requirement already satisfied: torch>=1.4 in c:\\users\\lucky\\anaconda3\\lib\\site-packages (from timm->-r requirements/optional.txt (line 11)) (1.9.0+cu111)\n",
      "Requirement already satisfied: torchvision in c:\\users\\lucky\\anaconda3\\lib\\site-packages (from timm->-r requirements/optional.txt (line 11)) (0.10.0+cu111)\n",
      "Requirement already satisfied: llvmlite<0.39,>=0.38.0rc1 in c:\\users\\lucky\\anaconda3\\lib\\site-packages (from numba>=0.45.1->librosa->-r requirements/optional.txt (line 3)) (0.38.0)\n",
      "Requirement already satisfied: setuptools in c:\\users\\lucky\\anaconda3\\lib\\site-packages (from numba>=0.45.1->librosa->-r requirements/optional.txt (line 3)) (61.2.0)\n",
      "Requirement already satisfied: appdirs>=1.3.0 in c:\\users\\lucky\\anaconda3\\lib\\site-packages (from pooch>=1.0->librosa->-r requirements/optional.txt (line 3)) (1.4.4)\n",
      "Requirement already satisfied: charset-normalizer<3,>=2 in c:\\users\\lucky\\anaconda3\\lib\\site-packages (from requests<3.0,>=2.8.1->moviepy->-r requirements/optional.txt (line 5)) (2.0.4)\n",
      "Requirement already satisfied: certifi>=2017.4.17 in c:\\users\\lucky\\anaconda3\\lib\\site-packages (from requests<3.0,>=2.8.1->moviepy->-r requirements/optional.txt (line 5)) (2022.6.15)\n",
      "Requirement already satisfied: urllib3<1.27,>=1.21.1 in c:\\users\\lucky\\anaconda3\\lib\\site-packages (from requests<3.0,>=2.8.1->moviepy->-r requirements/optional.txt (line 5)) (1.26.9)\n",
      "Requirement already satisfied: idna<4,>=2.5 in c:\\users\\lucky\\anaconda3\\lib\\site-packages (from requests<3.0,>=2.8.1->moviepy->-r requirements/optional.txt (line 5)) (3.3)\n",
      "Requirement already satisfied: networkx>=2.2 in c:\\users\\lucky\\anaconda3\\lib\\site-packages (from scikit-image>=0.14.2->imgaug->-r requirements/optional.txt (line 2)) (2.8.4)\n",
      "Requirement already satisfied: PyWavelets>=1.1.1 in c:\\users\\lucky\\anaconda3\\lib\\site-packages (from scikit-image>=0.14.2->imgaug->-r requirements/optional.txt (line 2)) (1.3.0)\n",
      "Requirement already satisfied: tifffile>=2019.7.26 in c:\\users\\lucky\\anaconda3\\lib\\site-packages (from scikit-image>=0.14.2->imgaug->-r requirements/optional.txt (line 2)) (2021.7.2)\n",
      "Requirement already satisfied: threadpoolctl>=2.0.0 in c:\\users\\lucky\\anaconda3\\lib\\site-packages (from scikit-learn>=0.19.1->librosa->-r requirements/optional.txt (line 3)) (2.2.0)\n",
      "Requirement already satisfied: cffi>=1.0 in c:\\users\\lucky\\anaconda3\\lib\\site-packages (from soundfile>=0.10.2->librosa->-r requirements/optional.txt (line 3)) (1.15.0)\n",
      "Requirement already satisfied: colorama in c:\\users\\lucky\\anaconda3\\lib\\site-packages (from tqdm<5.0,>=4.11.2->moviepy->-r requirements/optional.txt (line 5)) (0.4.5)\n",
      "Collecting humanfriendly>=9.1\n",
      "  Downloading humanfriendly-10.0-py2.py3-none-any.whl (86 kB)\n",
      "     ---------------------------------------- 86.8/86.8 kB 5.1 MB/s eta 0:00:00\n",
      "Requirement already satisfied: cycler>=0.10 in c:\\users\\lucky\\anaconda3\\lib\\site-packages (from matplotlib->imgaug->-r requirements/optional.txt (line 2)) (0.11.0)\n",
      "Requirement already satisfied: kiwisolver>=1.0.1 in c:\\users\\lucky\\anaconda3\\lib\\site-packages (from matplotlib->imgaug->-r requirements/optional.txt (line 2)) (1.4.2)\n",
      "Requirement already satisfied: python-dateutil>=2.7 in c:\\users\\lucky\\anaconda3\\lib\\site-packages (from matplotlib->imgaug->-r requirements/optional.txt (line 2)) (2.8.2)\n",
      "Requirement already satisfied: fonttools>=4.22.0 in c:\\users\\lucky\\anaconda3\\lib\\site-packages (from matplotlib->imgaug->-r requirements/optional.txt (line 2)) (4.25.0)\n",
      "Requirement already satisfied: mpmath>=0.19 in c:\\users\\lucky\\anaconda3\\lib\\site-packages (from sympy->onnxruntime->-r requirements/optional.txt (line 7)) (1.2.1)\n",
      "Requirement already satisfied: pycparser in c:\\users\\lucky\\anaconda3\\lib\\site-packages (from cffi>=1.0->soundfile>=0.10.2->librosa->-r requirements/optional.txt (line 3)) (2.21)\n",
      "Collecting pyreadline3\n",
      "  Using cached pyreadline3-3.4.1-py3-none-any.whl (95 kB)\n",
      "Building wheels for collected packages: pims, PyTurboJPEG\n",
      "  Building wheel for pims (setup.py): started\n",
      "  Building wheel for pims (setup.py): finished with status 'done'\n",
      "  Created wheel for pims: filename=PIMS-0.6.1-py3-none-any.whl size=83692 sha256=9ea3bb1e3d6c4c82db7758df860febbaa2045d1d62c6cdb68e5560ee0101e282\n",
      "  Stored in directory: c:\\users\\lucky\\appdata\\local\\pip\\cache\\wheels\\c8\\51\\78\\e8155864f53ff0c9e01fe656f64b55712ba60fb2a451757505\n",
      "  Building wheel for PyTurboJPEG (setup.py): started\n",
      "  Building wheel for PyTurboJPEG (setup.py): finished with status 'done'\n",
      "  Created wheel for PyTurboJPEG: filename=PyTurboJPEG-1.6.7-py3-none-any.whl size=12168 sha256=86d7161580ab46a7c923e6383d2ee17cdf7a191f2d660502fb1a21d039834766\n",
      "  Stored in directory: c:\\users\\lucky\\appdata\\local\\pip\\cache\\wheels\\7d\\c7\\d1\\2fabfb0e772c843b6c83bdc5b2e7adeb3f6a40876f810f88ff\n",
      "Successfully built pims PyTurboJPEG\n",
      "Installing collected packages: slicerator, pyreadline3, lmdb, flatbuffers, av, audioread, Shapely, PyTurboJPEG, onnx, humanfriendly, soundfile, resampy, pooch, pims, coloredlogs, timm, onnxruntime, librosa, imgaug\n",
      "Successfully installed PyTurboJPEG-1.6.7 Shapely-1.8.2 audioread-2.1.9 av-9.2.0 coloredlogs-15.0.1 flatbuffers-2.0 humanfriendly-10.0 imgaug-0.4.0 librosa-0.9.2 lmdb-1.3.0 onnx-1.12.0 onnxruntime-1.12.0 pims-0.6.1 pooch-1.6.0 pyreadline3-3.4.1 resampy-0.3.1 slicerator-1.1.0 soundfile-0.10.3.post1 timm-0.6.5\n",
      "Collecting webcolors\n",
      "  Downloading webcolors-1.12-py3-none-any.whl (9.9 kB)\n",
      "Installing collected packages: webcolors\n",
      "Successfully installed webcolors-1.12\n",
      "Collecting mmpose\n",
      "  Downloading mmpose-0.28.0-py2.py3-none-any.whl (1.6 MB)\n",
      "     ---------------------------------------- 1.6/1.6 MB 8.3 MB/s eta 0:00:00\n",
      "Requirement already satisfied: numpy in c:\\users\\lucky\\anaconda3\\lib\\site-packages (from mmpose) (1.21.5)\n",
      "Requirement already satisfied: matplotlib in c:\\users\\lucky\\anaconda3\\lib\\site-packages (from mmpose) (3.5.1)\n",
      "Requirement already satisfied: pillow in c:\\users\\lucky\\anaconda3\\lib\\site-packages (from mmpose) (9.2.0)\n",
      "Requirement already satisfied: scipy in c:\\users\\lucky\\anaconda3\\lib\\site-packages (from mmpose) (1.7.3)\n",
      "Collecting xtcocotools>=1.12\n",
      "  Downloading xtcocotools-1.12-cp39-cp39-win_amd64.whl (79 kB)\n",
      "     ---------------------------------------- 79.5/79.5 kB 4.6 MB/s eta 0:00:00\n",
      "Requirement already satisfied: munkres in c:\\users\\lucky\\anaconda3\\lib\\site-packages (from mmpose) (1.1.4)\n",
      "Requirement already satisfied: opencv-python in c:\\users\\lucky\\anaconda3\\lib\\site-packages (from mmpose) (4.6.0.66)\n",
      "Collecting json-tricks\n",
      "  Downloading json_tricks-3.15.5-py2.py3-none-any.whl (26 kB)\n",
      "Collecting chumpy\n",
      "  Downloading chumpy-0.70.tar.gz (50 kB)\n",
      "     ---------------------------------------- 50.6/50.6 kB ? eta 0:00:00\n",
      "  Preparing metadata (setup.py): started\n",
      "  Preparing metadata (setup.py): finished with status 'done'\n",
      "Requirement already satisfied: torchvision in c:\\users\\lucky\\anaconda3\\lib\\site-packages (from mmpose) (0.10.0+cu111)\n",
      "Requirement already satisfied: cython>=0.27.3 in c:\\users\\lucky\\anaconda3\\lib\\site-packages (from xtcocotools>=1.12->mmpose) (0.29.30)\n",
      "Requirement already satisfied: setuptools>=18.0 in c:\\users\\lucky\\anaconda3\\lib\\site-packages (from xtcocotools>=1.12->mmpose) (61.2.0)\n",
      "Requirement already satisfied: kiwisolver>=1.0.1 in c:\\users\\lucky\\anaconda3\\lib\\site-packages (from matplotlib->mmpose) (1.4.2)\n",
      "Requirement already satisfied: pyparsing>=2.2.1 in c:\\users\\lucky\\anaconda3\\lib\\site-packages (from matplotlib->mmpose) (3.0.4)\n",
      "Requirement already satisfied: cycler>=0.10 in c:\\users\\lucky\\anaconda3\\lib\\site-packages (from matplotlib->mmpose) (0.11.0)\n",
      "Requirement already satisfied: fonttools>=4.22.0 in c:\\users\\lucky\\anaconda3\\lib\\site-packages (from matplotlib->mmpose) (4.25.0)\n",
      "Requirement already satisfied: packaging>=20.0 in c:\\users\\lucky\\anaconda3\\lib\\site-packages (from matplotlib->mmpose) (21.3)\n",
      "Requirement already satisfied: python-dateutil>=2.7 in c:\\users\\lucky\\anaconda3\\lib\\site-packages (from matplotlib->mmpose) (2.8.2)\n",
      "Requirement already satisfied: six>=1.11.0 in c:\\users\\lucky\\anaconda3\\lib\\site-packages (from chumpy->mmpose) (1.16.0)\n",
      "Requirement already satisfied: torch==1.9.0 in c:\\users\\lucky\\anaconda3\\lib\\site-packages (from torchvision->mmpose) (1.9.0+cu111)\n",
      "Requirement already satisfied: typing-extensions in c:\\users\\lucky\\anaconda3\\lib\\site-packages (from torch==1.9.0->torchvision->mmpose) (4.1.1)\n",
      "Building wheels for collected packages: chumpy\n",
      "  Building wheel for chumpy (setup.py): started\n",
      "  Building wheel for chumpy (setup.py): finished with status 'done'\n",
      "  Created wheel for chumpy: filename=chumpy-0.70-py3-none-any.whl size=58285 sha256=27dbb42c73f2528055d1ad60d88ec7422608f1cd0577080718249a54016cd46f\n",
      "  Stored in directory: c:\\users\\lucky\\appdata\\local\\pip\\cache\\wheels\\71\\b5\\d3\\bbff0d638d797944856371a4ee326f9ffb1829083a383bba77\n",
      "Successfully built chumpy\n",
      "Installing collected packages: json-tricks, chumpy, xtcocotools, mmpose\n",
      "Successfully installed chumpy-0.70 json-tricks-3.15.5 mmpose-0.28.0 xtcocotools-1.12\n"
     ]
    }
   ],
   "source": [
    "#%cd model/mmaction2\n",
    "\n",
    "#!pip install torch==1.9.0+cu111 torchvision==0.10.0+cu111 -f https://download.pytorch.org/whl/torch_stable.html\n",
    "#!pip install mmcv-full -f https://download.openmmlab.com/mmcv/dist/cu111/torch1.9.0/index.html\n",
    "#!pip install -e .\n",
    "#!pip install -r requirements/optional.txt\n",
    "#!pip install webcolors\n",
    "#!pip install mmpose"
   ]
  },
  {
   "cell_type": "code",
   "execution_count": 8,
   "metadata": {},
   "outputs": [
    {
     "name": "stdout",
     "output_type": "stream",
     "text": [
      "using cached model. c:\\Users\\lucky\\DYKK\\.cache\\kobert_v1.zip\n",
      "using cached model. c:\\Users\\lucky\\DYKK\\.cache\\kobert_news_wiki_ko_cased-1087f8699e.spiece\n"
     ]
    }
   ],
   "source": [
    "#from utils import T5\n",
    "from utils import koBERT\n",
    "#from utils import Timesformer"
   ]
  },
  {
   "cell_type": "code",
   "execution_count": 9,
   "metadata": {},
   "outputs": [
    {
     "name": "stdout",
     "output_type": "stream",
     "text": [
      "using cached model. c:\\Users\\lucky\\DYKK\\.cache\\kobert_v1.zip\n",
      "using cached model. c:\\Users\\lucky\\DYKK\\.cache\\kobert_news_wiki_ko_cased-1087f8699e.spiece\n",
      "using cached model. c:\\Users\\lucky\\DYKK\\.cache\\kobert_news_wiki_ko_cased-1087f8699e.spiece\n"
     ]
    },
    {
     "data": {
      "text/plain": [
       "('슬픔', 'Sadness', '염세적인', 'Pessimistic')"
      ]
     },
     "execution_count": 9,
     "metadata": {},
     "output_type": "execute_result"
    }
   ],
   "source": [
    "text1 = \"오늘 하루는 너무 힘들었어 ['SEP'] 무슨일 잇었어? ['SEP'] 하루종일 속도 안좋고 불편했는데 술을 너무 많이 마셨나봐 ['SEP'] 주말 동안 푹 쉬면 나아질거야\"\n",
    "text2 = \"다른 사람이 나를 너무 괴롭혔어 ['SEP'] 어떻게 괴롭혔는데 ? ['SEP'] 나한테 하루종일 말도 안걸고 일만 시켰어 ['SEP'] 그건 좀 너무하네\"\n",
    "model, vocab = koBERT.get_pytorch_kobert_model()\n",
    "koBERT.kobert_sent(text1, vocab, model, './model/koBERT_models/model_0714_Ssent_ml250_ep50.pt')"
   ]
  },
  {
   "cell_type": "markdown",
   "metadata": {},
   "source": []
  },
  {
   "cell_type": "code",
   "execution_count": 3,
   "metadata": {},
   "outputs": [
    {
     "name": "stdout",
     "output_type": "stream",
     "text": [
      "Requirement already satisfied: numpy==1.21.6 in c:\\users\\lucky\\anaconda3\\envs\\dykk\\lib\\site-packages (1.21.6)\n"
     ]
    }
   ],
   "source": [
    "!pip install --user numpy==1.21.6"
   ]
  },
  {
   "cell_type": "code",
   "execution_count": 4,
   "metadata": {},
   "outputs": [
    {
     "name": "stdout",
     "output_type": "stream",
     "text": [
      "Requirement already satisfied: sentencepiece in c:\\users\\lucky\\anaconda3\\envs\\dymd\\lib\\site-packages (0.1.96)\n"
     ]
    }
   ],
   "source": [
    "!pip install --upgrade sentencepiece"
   ]
  },
  {
   "cell_type": "code",
   "execution_count": 1,
   "metadata": {},
   "outputs": [
    {
     "name": "stderr",
     "output_type": "stream",
     "text": [
      "c:\\Users\\lucky\\anaconda3\\envs\\DYMD\\lib\\site-packages\\tqdm\\auto.py:22: TqdmWarning: IProgress not found. Please update jupyter and ipywidgets. See https://ipywidgets.readthedocs.io/en/stable/user_install.html\n",
      "  from .autonotebook import tqdm as notebook_tqdm\n"
     ]
    },
    {
     "name": "stdout",
     "output_type": "stream",
     "text": [
      "using cached model. c:\\Users\\lucky\\DYKK\\.cache\\kobert_v1.zip\n",
      "using cached model. c:\\Users\\lucky\\DYKK\\.cache\\kobert_news_wiki_ko_cased-1087f8699e.spiece\n"
     ]
    },
    {
     "ename": "AttributeError",
     "evalue": "type object 'BERTVocab' has no attribute 'from_sentencepiece'",
     "output_type": "error",
     "traceback": [
      "\u001b[1;31m---------------------------------------------------------------------------\u001b[0m",
      "\u001b[1;31mAttributeError\u001b[0m                            Traceback (most recent call last)",
      "\u001b[1;32m~\\AppData\\Local\\Temp\\ipykernel_16776\\3898190525.py\u001b[0m in \u001b[0;36m<module>\u001b[1;34m\u001b[0m\n\u001b[0;32m      2\u001b[0m \u001b[1;32mimport\u001b[0m \u001b[0msentencepiece\u001b[0m\u001b[1;33m\u001b[0m\u001b[1;33m\u001b[0m\u001b[0m\n\u001b[0;32m      3\u001b[0m \u001b[1;32mfrom\u001b[0m \u001b[0mkobert\u001b[0m\u001b[1;33m.\u001b[0m\u001b[0mpytorch_kobert\u001b[0m \u001b[1;32mimport\u001b[0m \u001b[0mget_pytorch_kobert_model\u001b[0m\u001b[1;33m\u001b[0m\u001b[1;33m\u001b[0m\u001b[0m\n\u001b[1;32m----> 4\u001b[1;33m \u001b[0mmodel\u001b[0m\u001b[1;33m,\u001b[0m \u001b[0mvocab\u001b[0m \u001b[1;33m=\u001b[0m \u001b[0mget_pytorch_kobert_model\u001b[0m\u001b[1;33m(\u001b[0m\u001b[1;33m)\u001b[0m\u001b[1;33m\u001b[0m\u001b[1;33m\u001b[0m\u001b[0m\n\u001b[0m",
      "\u001b[1;32mc:\\Users\\lucky\\anaconda3\\envs\\DYMD\\lib\\site-packages\\kobert-0.2.3-py3.7.egg\\kobert\\pytorch_kobert.py\u001b[0m in \u001b[0;36mget_pytorch_kobert_model\u001b[1;34m(ctx, cachedir)\u001b[0m\n\u001b[0;32m     50\u001b[0m     \u001b[1;31m# download vocab\u001b[0m\u001b[1;33m\u001b[0m\u001b[1;33m\u001b[0m\u001b[1;33m\u001b[0m\u001b[0m\n\u001b[0;32m     51\u001b[0m     \u001b[0mvocab_path\u001b[0m \u001b[1;33m=\u001b[0m \u001b[0mget_tokenizer\u001b[0m\u001b[1;33m(\u001b[0m\u001b[1;33m)\u001b[0m\u001b[1;33m\u001b[0m\u001b[1;33m\u001b[0m\u001b[0m\n\u001b[1;32m---> 52\u001b[1;33m     \u001b[1;32mreturn\u001b[0m \u001b[0mget_kobert_model\u001b[0m\u001b[1;33m(\u001b[0m\u001b[0mmodel_path\u001b[0m\u001b[1;33m,\u001b[0m \u001b[0mvocab_path\u001b[0m\u001b[1;33m,\u001b[0m \u001b[0mctx\u001b[0m\u001b[1;33m)\u001b[0m\u001b[1;33m\u001b[0m\u001b[1;33m\u001b[0m\u001b[0m\n\u001b[0m\u001b[0;32m     53\u001b[0m \u001b[1;33m\u001b[0m\u001b[0m\n\u001b[0;32m     54\u001b[0m \u001b[1;33m\u001b[0m\u001b[0m\n",
      "\u001b[1;32mc:\\Users\\lucky\\anaconda3\\envs\\DYMD\\lib\\site-packages\\kobert-0.2.3-py3.7.egg\\kobert\\pytorch_kobert.py\u001b[0m in \u001b[0;36mget_kobert_model\u001b[1;34m(model_path, vocab_file, ctx)\u001b[0m\n\u001b[0;32m     29\u001b[0m         \u001b[0mbertmodel\u001b[0m\u001b[1;33m.\u001b[0m\u001b[0mto\u001b[0m\u001b[1;33m(\u001b[0m\u001b[0mdevice\u001b[0m\u001b[1;33m)\u001b[0m\u001b[1;33m\u001b[0m\u001b[1;33m\u001b[0m\u001b[0m\n\u001b[0;32m     30\u001b[0m         \u001b[0mbertmodel\u001b[0m\u001b[1;33m.\u001b[0m\u001b[0meval\u001b[0m\u001b[1;33m(\u001b[0m\u001b[1;33m)\u001b[0m\u001b[1;33m\u001b[0m\u001b[1;33m\u001b[0m\u001b[0m\n\u001b[1;32m---> 31\u001b[1;33m         vocab_b_obj = nlp.vocab.BERTVocab.from_sentencepiece(\n\u001b[0m\u001b[0;32m     32\u001b[0m             \u001b[0mvocab_file\u001b[0m\u001b[1;33m,\u001b[0m \u001b[0mpadding_token\u001b[0m\u001b[1;33m=\u001b[0m\u001b[1;34m\"[PAD]\"\u001b[0m\u001b[1;33m\u001b[0m\u001b[1;33m\u001b[0m\u001b[0m\n\u001b[0;32m     33\u001b[0m         )\n",
      "\u001b[1;31mAttributeError\u001b[0m: type object 'BERTVocab' has no attribute 'from_sentencepiece'"
     ]
    }
   ],
   "source": [
    "import gluonnlp as nlp\n",
    "import sentencepiece\n",
    "from kobert.pytorch_kobert import get_pytorch_kobert_model\n",
    "model, vocab = get_pytorch_kobert_model()"
   ]
  },
  {
   "cell_type": "code",
   "execution_count": 1,
   "metadata": {},
   "outputs": [
    {
     "name": "stderr",
     "output_type": "stream",
     "text": [
      "c:\\Users\\lucky\\anaconda3\\envs\\DYMD\\lib\\site-packages\\tqdm\\auto.py:22: TqdmWarning: IProgress not found. Please update jupyter and ipywidgets. See https://ipywidgets.readthedocs.io/en/stable/user_install.html\n",
      "  from .autonotebook import tqdm as notebook_tqdm\n"
     ]
    }
   ],
   "source": [
    "from kobert.utils import get_tokenizer\n",
    "from kobert.pytorch_kobert import get_pytorch_kobert_model\n",
    "from transformers import AdamW\n",
    "from transformers.optimization import get_cosine_schedule_with_warmup\n",
    "import torch\n",
    "from torch import nn\n",
    "import torch.nn.functional as F\n",
    "import torch.optim as optim\n",
    "from torch.utils.data import Dataset, DataLoader\n",
    "import gluonnlp as nlp\n",
    "import pandas as pd\n",
    "import numpy as np"
   ]
  },
  {
   "cell_type": "code",
   "execution_count": 2,
   "metadata": {},
   "outputs": [],
   "source": [
    "class BERTDataset(Dataset):\n",
    "      def __init__(self, dataset, sent_idx, label_idx, bert_tokenizer, max_len,\n",
    "                  pad, pair):\n",
    "          transform = nlp.data.BERTSentenceTransform(\n",
    "              bert_tokenizer, max_seq_length=max_len, pad=pad, pair=pair) \n",
    "\n",
    "          self.sentences = [transform([i[sent_idx]]) for i in dataset]\n",
    "          self.labels = [np.int32(i[label_idx]) for i in dataset]\n",
    "\n",
    "      def __getitem__(self, i):\n",
    "          return (self.sentences[i] + (self.labels[i], ))\n",
    "\n",
    "      def __len__(self):\n",
    "          return (len(self.labels))\n",
    "\n",
    "class BERTClassifier(nn.Module):\n",
    "    def __init__(self,\n",
    "                bert,\n",
    "                hidden_size = 768,\n",
    "                num_classes = 6, # softmax 사용 <- binary일 경우는 2\n",
    "                dr_rate=None,\n",
    "                params=None):\n",
    "        super(BERTClassifier, self).__init__()\n",
    "        self.bert = bert\n",
    "        self.dr_rate = dr_rate\n",
    "                \n",
    "        self.classifier = nn.Linear(hidden_size , num_classes)\n",
    "        if dr_rate:\n",
    "            self.dropout = nn.Dropout(p=dr_rate)\n",
    "    \n",
    "    def gen_attention_mask(self, token_ids, valid_length):\n",
    "        attention_mask = torch.zeros_like(token_ids)\n",
    "        for i, v in enumerate(valid_length):\n",
    "            attention_mask[i][:v] = 1\n",
    "        return attention_mask.float()\n",
    "\n",
    "    def forward(self, token_ids, valid_length, segment_ids):\n",
    "        attention_mask = self.gen_attention_mask(token_ids, valid_length)\n",
    "        \n",
    "        _, pooler = self.bert(input_ids = token_ids, token_type_ids = segment_ids.long(), attention_mask = attention_mask.float().to(token_ids.device))\n",
    "        if self.dr_rate:\n",
    "            out = self.dropout(pooler)\n",
    "        return self.classifier(out)\n",
    "\n",
    "####################################################\n",
    "\n",
    "def kobert_sent(text, vocab, model, model_path):\n",
    "\n",
    "  device = torch.device(\"cuda:0\")\n",
    "  tokenizer = get_tokenizer()\n",
    "  tok = nlp.data.BERTSPTokenizer(tokenizer, vocab, lower=False)\n",
    "\n",
    "  # dict\n",
    "  small_sent_idx_to_dict ={0: '기쁜', 1: '스트레스 받는', 2: '당황', 3: '편안한', 4: '불안', 5: '우울한', 6: '짜증내는', 7: '분노', 8: '상처', 9: '열등감', 10: '죄책감의', 11: '당혹스러운', 12: '두려운', 13: '실망한', 14: '염세적인', 15: '충격 받은', 16: '슬픔', 17: '억울한', 18: '외로운', 19: '괴로워하는', 20: '자신하는', 21: '질투하는', 22: '감사하는', 23: '후회되는', 24: '툴툴대는'}\n",
    "  sm_sent_big_sent_dict = {'기쁜' : '기쁨', '편안한' : '기쁨', '자신하는' : '기쁨', '감사하는' : '기쁨', '외로운' : '당황', '스트레스 받는' : '불안', '열등감' : '당황', '당황' : '당황', '죄책감의' : '당황', '짜증내는' : '분노', '분노' : '분노', '툴툴대는' : '분노', '당혹스러운' : '불안', '불안' : '불안', '두려운' : '불안', '괴로워하는' : '상처', '상처' : '상처', '충격 받은' : '상처', '억울한' : '상처', '질투하는' : '상처', '염세적인' : '슬픔', '슬픔' : '슬픔', '실망한' : '슬픔', '우울한' : '슬픔', '후회되는' : '슬픔'}\n",
    "  sm_en_dic = {'슬픔' : 'Sadness','상처' : 'Hurt',  '툴툴대는' : 'Grumbling',  '자신하는' : 'Confident',  '당혹스러운' : 'Baffling',  '스트레스 받는' : 'Stressed',  '질투하는' : 'Envy',  '편안한' : 'Comfortable',  '실망한' : 'Disappointed',  '죄책감의' : 'Guilty',  '염세적인' : 'Pessimistic',  '기쁜' : 'Happy',  '열등감' : 'Inferiority',  '불안' : 'Anxiety',  '억울한' : 'Unfair',  '감사하는' : 'Grateful',  '괴로워하는' : 'Distressed',  '후회되는' : 'Regretful',  '당황' : 'Emberrassed',  '충격 받은' : 'Shocked',  '우울한' : 'Gloomy',  '분노' : 'Rage',  '짜증내는' : 'Annoying',  '두려운' : 'Scared',  '외로운' : 'Lonely',   '기쁨' : 'Happy',  '슬픔' : 'Sadness'}\n",
    "\n",
    "  # model = BERTClassifier(bertmodel, dr_rate=0.5).to(device)\n",
    "  sent_idx_to_dict_list = []\n",
    "\n",
    "  # 입력값 확인\n",
    "  try :\n",
    "    test_sentence = str(text)\n",
    "  except :\n",
    "    print('문장을 확인하세요')\n",
    "    pass\n",
    "\n",
    "  # 감정 분류 확인 후 max_len, dict 지정\n",
    "  max_len = 25\n",
    "  sent_dict = small_sent_idx_to_dict\n",
    "\n",
    "  # 데이터 형식 처리\n",
    "  unseen_test = pd.DataFrame([[test_sentence, 5]], columns = [['text', 'label']])\n",
    "  unseen_values = unseen_test.values\n",
    "  test_set = BERTDataset(unseen_values, 0, 1, tok, max_len, True, False)\n",
    "  test_input = torch.utils.data.DataLoader(test_set, batch_size=1, num_workers=0)\n",
    "\n",
    "  #load_model\n",
    "  model = model\n",
    "  model = torch.load(model_path)\n",
    "\n",
    "  for batch_id, (token_ids, valid_length, segment_ids, _) in enumerate(test_input):\n",
    "    token_ids = token_ids.long().to(device)\n",
    "    segment_ids = segment_ids.long().to(device)\n",
    "    valid_length= valid_length\n",
    "    out = model(token_ids, valid_length, segment_ids)\n",
    "    # print('예측감정 :', sent_dict[int(out[0].argmax().cpu().numpy())] , '\\n', '실제감정 :', sent_dict[test_label])\n",
    "    sent_idx_to_dict_list.append(sent_dict[int(out[0].argmax().cpu().numpy())])\n",
    "\n",
    "  return sm_sent_big_sent_dict[sent_idx_to_dict_list[0]] , sm_en_dic[sm_sent_big_sent_dict[sent_idx_to_dict_list[0]]] , sent_idx_to_dict_list[0] , sm_en_dic[sent_idx_to_dict_list[0]]"
   ]
  },
  {
   "cell_type": "code",
   "execution_count": 3,
   "metadata": {},
   "outputs": [
    {
     "name": "stdout",
     "output_type": "stream",
     "text": [
      "using cached model. c:\\Users\\lucky\\DYKK\\.cache\\kobert_v1.zip\n",
      "using cached model. c:\\Users\\lucky\\DYKK\\.cache\\kobert_news_wiki_ko_cased-1087f8699e.spiece\n"
     ]
    }
   ],
   "source": [
    "model, vocab = get_pytorch_kobert_model()\n"
   ]
  },
  {
   "cell_type": "code",
   "execution_count": 7,
   "metadata": {},
   "outputs": [
    {
     "name": "stdout",
     "output_type": "stream",
     "text": [
      "using cached model. c:\\Users\\lucky\\DYKK\\.cache\\kobert_news_wiki_ko_cased-1087f8699e.spiece\n"
     ]
    },
    {
     "data": {
      "text/plain": [
       "('슬픔', 'Sadness', '염세적인', 'Pessimistic')"
      ]
     },
     "execution_count": 7,
     "metadata": {},
     "output_type": "execute_result"
    }
   ],
   "source": [
    "text1 = \"오늘 하루는 너무 힘들었어 ['SEP'] 무슨일 있었어? ['SEP'] 하루종일 속도 안좋고 불편했는데 술을 너무 많이 마셨나봐 ['SEP'] 주말 동안 푹 쉬면 나아질거야\"\n",
    "text2 = \"다른 사람이 나를 너무 괴롭혔어 ['SEP'] 어떻게 괴롭혔는데 ? ['SEP'] 나한테 하루종일 말도 안걸고 일만 시켰어 ['SEP'] 그건 좀 너무하네\"\n",
    "\n",
    "kobert_sent(text1, vocab, model, './model/koBERT_models/model_0714_Ssent_ml250_ep50.pt')"
   ]
  },
  {
   "cell_type": "code",
   "execution_count": 5,
   "metadata": {},
   "outputs": [
    {
     "name": "stdout",
     "output_type": "stream",
     "text": [
      "Tue Jul 26 15:15:50 2022       \n",
      "+-----------------------------------------------------------------------------+\n",
      "| NVIDIA-SMI 512.95       Driver Version: 512.95       CUDA Version: 11.6     |\n",
      "|-------------------------------+----------------------+----------------------+\n",
      "| GPU  Name            TCC/WDDM | Bus-Id        Disp.A | Volatile Uncorr. ECC |\n",
      "| Fan  Temp  Perf  Pwr:Usage/Cap|         Memory-Usage | GPU-Util  Compute M. |\n",
      "|                               |                      |               MIG M. |\n",
      "|===============================+======================+======================|\n",
      "|   0  NVIDIA GeForce ... WDDM  | 00000000:01:00.0  On |                  N/A |\n",
      "| N/A   45C    P8     1W /  N/A |   1443MiB /  4096MiB |      4%      Default |\n",
      "|                               |                      |                  N/A |\n",
      "+-------------------------------+----------------------+----------------------+\n",
      "                                                                               \n",
      "+-----------------------------------------------------------------------------+\n",
      "| Processes:                                                                  |\n",
      "|  GPU   GI   CI        PID   Type   Process name                  GPU Memory |\n",
      "|        ID   ID                                                   Usage      |\n",
      "|=============================================================================|\n",
      "|    0   N/A  N/A      6868    C+G   ...erver\\YourPhoneServer.exe    N/A      |\n",
      "|    0   N/A  N/A      8364    C+G   ...ck\\app-4.27.154\\slack.exe    N/A      |\n",
      "|    0   N/A  N/A      9108    C+G   C:\\Windows\\explorer.exe         N/A      |\n",
      "|    0   N/A  N/A     10044    C+G   ...264.71\\msedgewebview2.exe    N/A      |\n",
      "|    0   N/A  N/A     11612      C   ...nda3\\envs\\DYKK\\python.exe    N/A      |\n",
      "|    0   N/A  N/A     12268    C+G   ...artMenuExperienceHost.exe    N/A      |\n",
      "|    0   N/A  N/A     12280    C+G   ...n1h2txyewy\\SearchHost.exe    N/A      |\n",
      "|    0   N/A  N/A     13916    C+G   ...ekyb3d8bbwe\\YourPhone.exe    N/A      |\n",
      "|    0   N/A  N/A     15548    C+G   ...icrosoft VS Code\\Code.exe    N/A      |\n",
      "|    0   N/A  N/A     17128    C+G   ...8wekyb3d8bbwe\\Cortana.exe    N/A      |\n",
      "|    0   N/A  N/A     17248    C+G   ...e\\Current\\LogiOverlay.exe    N/A      |\n",
      "|    0   N/A  N/A     18224    C+G   ...ram Files\\LGHUB\\lghub.exe    N/A      |\n",
      "|    0   N/A  N/A     20684    C+G   ...me\\Application\\chrome.exe    N/A      |\n",
      "|    0   N/A  N/A     22104    C+G   ...264.71\\msedgewebview2.exe    N/A      |\n",
      "+-----------------------------------------------------------------------------+\n"
     ]
    }
   ],
   "source": [
    "!nvidia-smi"
   ]
  },
  {
   "cell_type": "code",
   "execution_count": 1,
   "metadata": {},
   "outputs": [
    {
     "name": "stderr",
     "output_type": "stream",
     "text": [
      "c:\\Users\\lucky\\anaconda3\\envs\\DYKK\\lib\\site-packages\\tqdm\\auto.py:22: TqdmWarning: IProgress not found. Please update jupyter and ipywidgets. See https://ipywidgets.readthedocs.io/en/stable/user_install.html\n",
      "  from .autonotebook import tqdm as notebook_tqdm\n"
     ]
    },
    {
     "data": {
      "text/plain": [
       "True"
      ]
     },
     "execution_count": 1,
     "metadata": {},
     "output_type": "execute_result"
    }
   ],
   "source": [
    "from torch import cuda\n",
    "cuda.is_available()"
   ]
  },
  {
   "cell_type": "code",
   "execution_count": null,
   "metadata": {},
   "outputs": [],
   "source": [
    "!pip install opencv-python-headless \n",
    "!pip install openmim"
   ]
  },
  {
   "cell_type": "code",
   "execution_count": 4,
   "metadata": {},
   "outputs": [
    {
     "name": "stdout",
     "output_type": "stream",
     "text": [
      "Requirement already satisfied: transformers in c:\\users\\lucky\\anaconda3\\envs\\dykk\\lib\\site-packages (4.20.1)\n",
      "Requirement already satisfied: numpy>=1.17 in c:\\users\\lucky\\anaconda3\\envs\\dykk\\lib\\site-packages (from transformers) (1.21.6)\n",
      "Requirement already satisfied: packaging>=20.0 in c:\\users\\lucky\\anaconda3\\envs\\dykk\\lib\\site-packages (from transformers) (21.3)\n",
      "Requirement already satisfied: tokenizers!=0.11.3,<0.13,>=0.11.1 in c:\\users\\lucky\\anaconda3\\envs\\dykk\\lib\\site-packages (from transformers) (0.12.1)\n",
      "Requirement already satisfied: tqdm>=4.27 in c:\\users\\lucky\\anaconda3\\envs\\dykk\\lib\\site-packages (from transformers) (4.64.0)\n",
      "Requirement already satisfied: requests in c:\\users\\lucky\\anaconda3\\envs\\dykk\\lib\\site-packages (from transformers) (2.18.4)\n",
      "Requirement already satisfied: regex!=2019.12.17 in c:\\users\\lucky\\anaconda3\\envs\\dykk\\lib\\site-packages (from transformers) (2022.7.25)\n",
      "Requirement already satisfied: huggingface-hub<1.0,>=0.1.0 in c:\\users\\lucky\\anaconda3\\envs\\dykk\\lib\\site-packages (from transformers) (0.8.1)\n",
      "Requirement already satisfied: pyyaml>=5.1 in c:\\users\\lucky\\anaconda3\\envs\\dykk\\lib\\site-packages (from transformers) (6.0)\n",
      "Requirement already satisfied: filelock in c:\\users\\lucky\\anaconda3\\envs\\dykk\\lib\\site-packages (from transformers) (3.7.1)\n",
      "Requirement already satisfied: typing-extensions>=3.7.4.3 in c:\\users\\lucky\\anaconda3\\envs\\dykk\\lib\\site-packages (from huggingface-hub<1.0,>=0.1.0->transformers) (4.3.0)\n",
      "Requirement already satisfied: pyparsing!=3.0.5,>=2.0.2 in c:\\users\\lucky\\anaconda3\\envs\\dykk\\lib\\site-packages (from packaging>=20.0->transformers) (3.0.9)\n",
      "Requirement already satisfied: colorama in c:\\users\\lucky\\anaconda3\\envs\\dykk\\lib\\site-packages (from tqdm>=4.27->transformers) (0.4.5)\n",
      "Collecting urllib3<1.23,>=1.21.1\n",
      "  Using cached urllib3-1.22-py2.py3-none-any.whl (132 kB)\n",
      "Requirement already satisfied: chardet<3.1.0,>=3.0.2 in c:\\users\\lucky\\anaconda3\\envs\\dykk\\lib\\site-packages (from requests->transformers) (3.0.4)\n",
      "Requirement already satisfied: certifi>=2017.4.17 in c:\\users\\lucky\\anaconda3\\envs\\dykk\\lib\\site-packages (from requests->transformers) (2022.6.15)\n",
      "Requirement already satisfied: idna<2.7,>=2.5 in c:\\users\\lucky\\anaconda3\\envs\\dykk\\lib\\site-packages (from requests->transformers) (2.6)\n",
      "Installing collected packages: urllib3\n",
      "  Attempting uninstall: urllib3\n",
      "    Found existing installation: urllib3 1.26.11\n",
      "    Uninstalling urllib3-1.26.11:\n",
      "      Successfully uninstalled urllib3-1.26.11\n",
      "Successfully installed urllib3-1.22\n"
     ]
    },
    {
     "name": "stderr",
     "output_type": "stream",
     "text": [
      "ERROR: pip's dependency resolver does not currently take into account all the packages that are installed. This behaviour is the source of the following dependency conflicts.\n",
      "botocore 1.27.37 requires urllib3<1.27,>=1.25.4, but you have urllib3 1.22 which is incompatible.\n"
     ]
    }
   ],
   "source": [
    "!pip install transformers"
   ]
  },
  {
   "cell_type": "code",
   "execution_count": null,
   "metadata": {},
   "outputs": [],
   "source": [
    "# 20220726 1400 n_th try\n",
    "pip install botocore\n",
    "pip install urllib3==1.25.11\n",
    "pip install -r requirements.txt\n",
    "pip install --upgrade mxnet\n",
    "pip install --upgrade transformers\n",
    "pip install --upgrade botocore\n",
    "pip install --upgrade requests\n",
    "pip install git+https://git@github.com/SKTBrain/KoBERT.git@master\n",
    "python setup.py install\n",
    "pip install --upgrade urllib3\n",
    "pip install numpy==1.21.6\n",
    "pip install mxnet==1.6.0\n",
    "pip install --upgrade urllib3\n",
    "pip install numpy==1.21.6\n",
    "pip install gluonnlp==0.10.0"
   ]
  },
  {
   "cell_type": "code",
   "execution_count": null,
   "metadata": {},
   "outputs": [],
   "source": [
    "# 20220726 ~1400 2th try\n",
    "pip install torch==1.9.0+cu111 -f https://download.pytorch.org/whl/torch_stable.html\n",
    "\n",
    "conda install pytorch==1.9.0 torchvision==0.10.0 cudatoolkit=11.1 -c pytorch -c conda-forge"
   ]
  },
  {
   "cell_type": "code",
   "execution_count": 1,
   "metadata": {},
   "outputs": [
    {
     "name": "stdout",
     "output_type": "stream",
     "text": [
      "c:\\Users\\lucky\\DYKK\\model\\mmaction2\n"
     ]
    },
    {
     "name": "stderr",
     "output_type": "stream",
     "text": [
      "c:\\Users\\lucky\\anaconda3\\envs\\DYKK\\lib\\site-packages\\tqdm\\auto.py:22: TqdmWarning: IProgress not found. Please update jupyter and ipywidgets. See https://ipywidgets.readthedocs.io/en/stable/user_install.html\n",
      "  from .autonotebook import tqdm as notebook_tqdm\n"
     ]
    }
   ],
   "source": [
    "%cd model/mmaction2\n",
    "import mmaction\n",
    "from mmcv.ops import get_compiling_cuda_version, get_compiler_version\n",
    "import argparse\n",
    "import os.path as osp\n",
    "import decord\n",
    "import webcolors\n",
    "from mmcv import Config, DictAction\n",
    "from mmaction.apis import inference_recognizer, init_recognizer"
   ]
  },
  {
   "cell_type": "code",
   "execution_count": 2,
   "metadata": {},
   "outputs": [],
   "source": [
    "from utils import Timesformer"
   ]
  },
  {
   "cell_type": "code",
   "execution_count": null,
   "metadata": {},
   "outputs": [],
   "source": []
  }
 ],
 "metadata": {
  "kernelspec": {
   "display_name": "Python 3.7.13 ('DYMD')",
   "language": "python",
   "name": "python3"
  },
  "language_info": {
   "codemirror_mode": {
    "name": "ipython",
    "version": 3
   },
   "file_extension": ".py",
   "mimetype": "text/x-python",
   "name": "python",
   "nbconvert_exporter": "python",
   "pygments_lexer": "ipython3",
   "version": "3.7.13"
  },
  "orig_nbformat": 4,
  "vscode": {
   "interpreter": {
    "hash": "2ae8338286a6db2192a4f6cf72e030bdb04df8351538a532d0f3636c88db2b43"
   }
  }
 },
 "nbformat": 4,
 "nbformat_minor": 2
}
