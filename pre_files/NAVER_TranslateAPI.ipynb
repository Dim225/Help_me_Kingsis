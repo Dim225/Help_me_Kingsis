{
 "cells": [
  {
   "cell_type": "markdown",
   "id": "48fe9c17",
   "metadata": {},
   "source": [
    "### 네이버 번역"
   ]
  },
  {
   "cell_type": "code",
   "execution_count": 3,
   "id": "aa1ce832",
   "metadata": {},
   "outputs": [],
   "source": [
    "import os\n",
    "import sys\n",
    "import json\n",
    "import urllib.request"
   ]
  },
  {
   "cell_type": "code",
   "execution_count": 5,
   "id": "5d67ec5d",
   "metadata": {},
   "outputs": [
    {
     "name": "stdout",
     "output_type": "stream",
     "text": [
      "Hello, I am Korean.\n"
     ]
    }
   ],
   "source": [
    "url = \"https://openapi.naver.com/v1/papago/n2mt\"\n",
    "client_id = \"NtKTCbs0KEJz6Y2_mkQr\" # 개발자센터에서 발급받은 Client ID 값\n",
    "client_secret = \"eTSbajZz3H\"       # 개발자센터에서 발급받은 Client Secret 값\n",
    "\n",
    "data = \"source=ko&target=en&text=\" + encText\n",
    "\n",
    "text = \"안녕하세요. 저는 한국인입니다.\"\n",
    "source, target = 'ko', 'en'\n",
    "\n",
    "encText = urllib.parse.quote(text)\n",
    "data = f\"source={source}&target={target}&text=\" + encText\n",
    "request = urllib.request.Request(url)\n",
    "request.add_header(\"X-Naver-Client-Id\",client_id)\n",
    "request.add_header(\"X-Naver-Client-Secret\",client_secret)\n",
    "response = urllib.request.urlopen(request, data=data.encode(\"utf-8\"))\n",
    "rescode = response.getcode()\n",
    "\n",
    "if(rescode==200):\n",
    "    response_body = response.read()\n",
    "    decode = json.loads(response_body.decode('utf-8'))\n",
    "    result = decode['message']['result']['translatedText']\n",
    "    print(result)\n",
    "else:\n",
    "    print(\"Error Code:\" + rescode)"
   ]
  },
  {
   "cell_type": "code",
   "execution_count": null,
   "id": "a41ee351",
   "metadata": {},
   "outputs": [],
   "source": []
  }
 ],
 "metadata": {
  "kernelspec": {
   "display_name": "Python 3.9.6 64-bit",
   "language": "python",
   "name": "python3"
  },
  "language_info": {
   "codemirror_mode": {
    "name": "ipython",
    "version": 3
   },
   "file_extension": ".py",
   "mimetype": "text/x-python",
   "name": "python",
   "nbconvert_exporter": "python",
   "pygments_lexer": "ipython3",
   "version": "3.9.6"
  },
  "vscode": {
   "interpreter": {
    "hash": "0c25dbacbdd954288292924d55d999b1212c7c7979e3b31ce91a91bb44b0533b"
   }
  }
 },
 "nbformat": 4,
 "nbformat_minor": 5
}
