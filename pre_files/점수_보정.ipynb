{
  "nbformat": 4,
  "nbformat_minor": 0,
  "metadata": {
    "colab": {
      "name": "점수_보정.ipynb",
      "provenance": []
    },
    "kernelspec": {
      "name": "python3",
      "display_name": "Python 3"
    },
    "language_info": {
      "name": "python"
    }
  },
  "cells": [
    {
      "cell_type": "code",
      "execution_count": 14,
      "metadata": {
        "colab": {
          "base_uri": "https://localhost:8080/"
        },
        "id": "l7P-JY0ZrAp7",
        "outputId": "7664ea82-e24f-4973-a281-a0adf02f05ef"
      },
      "outputs": [
        {
          "output_type": "execute_result",
          "data": {
            "text/plain": [
              "array([10, 90, 90, 90])"
            ]
          },
          "metadata": {},
          "execution_count": 14
        }
      ],
      "source": [
        "import numpy as np\n",
        "score1 = 10\n",
        "score2 = 90\n",
        "score3 = 90\n",
        "score4 = 90\n"
      ]
    },
    {
      "cell_type": "code",
      "source": [
        "sc_list = [score1, score2, score3, score4]\n",
        "sc_list = np.array(sc_list)\n",
        "sc_mean = np.mean(sc_list)\n",
        "sc_std = np.std(sc_list)\n",
        "sc_mean, sc_std\n",
        "total_score = []\n",
        "for sc in sc_list:\n",
        "  if abs(float(sc) - sc_mean) >= sc_std :\n",
        "    total_score.append(sc_mean)\n",
        "  else :\n",
        "    total_score.append(sc)\n",
        "np.mean(np.array(total_score))"
      ],
      "metadata": {
        "colab": {
          "base_uri": "https://localhost:8080/"
        },
        "id": "nSRpPWKSrBeL",
        "outputId": "c242f0e4-c1c4-4b87-aae8-6704540d64b9"
      },
      "execution_count": 18,
      "outputs": [
        {
          "output_type": "execute_result",
          "data": {
            "text/plain": [
              "85.0"
            ]
          },
          "metadata": {},
          "execution_count": 18
        }
      ]
    },
    {
      "cell_type": "code",
      "source": [
        "np.mean(np.array(sc_list))"
      ],
      "metadata": {
        "colab": {
          "base_uri": "https://localhost:8080/"
        },
        "id": "S_cDw143rDxo",
        "outputId": "8199217f-bbb4-4e4c-f892-001be0913b1f"
      },
      "execution_count": 19,
      "outputs": [
        {
          "output_type": "execute_result",
          "data": {
            "text/plain": [
              "70.0"
            ]
          },
          "metadata": {},
          "execution_count": 19
        }
      ]
    }
  ]
}