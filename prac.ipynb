{
 "cells": [
  {
   "cell_type": "code",
   "execution_count": 1,
   "metadata": {},
   "outputs": [],
   "source": [
    "from utils import CLOVA\n",
    "from utils import contents_select\n",
    "from utils import Frontalize\n",
    "from utils import Lip_motion\n",
    "from utils import Pronounce\n",
    "from utils import visualize\n",
    "from utils import Wave"
   ]
  },
  {
   "cell_type": "markdown",
   "metadata": {},
   "source": [
    "## Analysis inference"
   ]
  },
  {
   "cell_type": "code",
   "execution_count": 5,
   "metadata": {},
   "outputs": [],
   "source": [
    "# CLOVA.ClovaSpeechClient().req_upload('./data/system_video.mp4',completion='sync')"
   ]
  },
  {
   "cell_type": "code",
   "execution_count": 2,
   "metadata": {},
   "outputs": [
    {
     "name": "stdout",
     "output_type": "stream",
     "text": [
      "학습 가능 영상: [0, 1, 2, 3, 4, 5, 7]\n",
      "대본: [{'start_time': '00:00:03.308', 'speaker_id': '구대영', 'end_time': '00:00:10.542', 'dialogue_id': 4109, 'utterance': '어때? 어? 숯의 불향이 깊게 스며들어서 담백하면서도 겉은 바삭하고 속은 촉촉한 환상의 궁합이'}, {'start_time': '00:00:10.597', 'speaker_id': '백수지', 'end_time': '00:00:14.985', 'dialogue_id': 4108, 'utterance': '하..나 진짜 인정하고 싶지 않은데 이것도 맛있다'}, {'start_time': '00:00:14.799', 'speaker_id': '구대영', 'end_time': '00:00:17.978', 'dialogue_id': 4107, 'utterance': '거봐 어? 내가 왜 식샤님이라고 불리겠어'}, {'start_time': '00:00:18.149', 'speaker_id': '백수지', 'end_time': '00:00:24.758', 'dialogue_id': 4106, 'utterance': '식샤님은 개뿔 이건 삼겹살님의 은혜거든? 역시 삼겹살님은 언제나 옳아'}, {'start_time': '00:00:24.799', 'speaker_id': '구대영', 'end_time': '00:00:31.005', 'dialogue_id': 4105, 'utterance': '그렇게 말하면 여기있는 이 소세지님 어? 채소님 조개님 이거 얼마나 섭섭해 하시겠어 안그래?'}, {'start_time': '00:00:30.828', 'speaker_id': '백수지', 'end_time': '00:00:34.257', 'dialogue_id': 4104, 'utterance': '섭섭하셨어요? 흠 제가 곧 먹어드릴께요'}, {'start_time': '00:00:35.221', 'speaker_id': '구대영', 'end_time': '00:00:36.404', 'dialogue_id': 4103, 'utterance': '먹자 씨'}, {'start_time': '00:00:37.498', 'speaker_id': '백수지', 'end_time': '00:00:41.102', 'dialogue_id': 4102, 'utterance': '어휴 야 나 보기만 해도 너무 행복해'}]\n"
     ]
    }
   ],
   "source": [
    "filepath = './data/'\n",
    "videoname = 'system_video'\n",
    "lst, dialogue = contents_select.contents_select(filepath, videoname, exist=True)\n",
    "print('학습 가능 영상:', lst)\n",
    "print('대본:', dialogue)"
   ]
  },
  {
   "cell_type": "code",
   "execution_count": 7,
   "metadata": {},
   "outputs": [],
   "source": [
    "# filepath = './data/'\n",
    "# videoname = 'new_video'\n",
    "# lst, object = contents_select.contents_select(filepath, videoname, exist=False)\n",
    "# print('학습 가능 영상:', lst)\n",
    "# print('대본:', object)"
   ]
  },
  {
   "cell_type": "code",
   "execution_count": null,
   "metadata": {},
   "outputs": [
    {
     "name": "stdout",
     "output_type": "stream",
     "text": [
      "Directory is already existed\n",
      "Directory is already existed\n",
      "Moviepy - Running:\n",
      ">>> \"+ \" \".join(cmd)\n",
      "Moviepy - Command successful\n",
      "0번째 영상 확인을 시작합니다.\n"
     ]
    },
    {
     "ename": "KeyboardInterrupt",
     "evalue": "",
     "output_type": "error",
     "traceback": [
      "\u001b[1;31m---------------------------------------------------------------------------\u001b[0m",
      "\u001b[1;31mKeyboardInterrupt\u001b[0m                         Traceback (most recent call last)",
      "\u001b[1;32mc:\\Users\\lucky\\DYKK\\prac.ipynb 셀 5\u001b[0m in \u001b[0;36m<cell line: 1>\u001b[1;34m()\u001b[0m\n\u001b[1;32m----> <a href='vscode-notebook-cell:/c%3A/Users/lucky/DYKK/prac.ipynb#ch0000004?line=0'>1</a>\u001b[0m lets_study, lets_study_lip_lst \u001b[39m=\u001b[39m contents_select\u001b[39m.\u001b[39;49mcreate_study_dir(videoname, lst, dialogue\u001b[39m=\u001b[39;49mdialogue, \u001b[39mobject\u001b[39;49m\u001b[39m=\u001b[39;49m\u001b[39mNone\u001b[39;49;00m, exist\u001b[39m=\u001b[39;49m\u001b[39mTrue\u001b[39;49;00m)\n\u001b[0;32m      <a href='vscode-notebook-cell:/c%3A/Users/lucky/DYKK/prac.ipynb#ch0000004?line=1'>2</a>\u001b[0m \u001b[39mprint\u001b[39m(\u001b[39m'\u001b[39m\u001b[39m최종 학습 가능 목록:\u001b[39m\u001b[39m'\u001b[39m, lets_study)\n\u001b[0;32m      <a href='vscode-notebook-cell:/c%3A/Users/lucky/DYKK/prac.ipynb#ch0000004?line=2'>3</a>\u001b[0m \u001b[39mprint\u001b[39m(\u001b[39m'\u001b[39m\u001b[39m학습 가능 영상 입술 좌표:\u001b[39m\u001b[39m'\u001b[39m, lets_study_lip_lst)\n",
      "File \u001b[1;32mc:\\Users\\lucky\\DYKK\\utils\\contents_select.py:132\u001b[0m, in \u001b[0;36mcreate_study_dir\u001b[1;34m(video_name, lst, dialogue, object, exist)\u001b[0m\n\u001b[0;32m    129\u001b[0m         \u001b[39mbreak\u001b[39;00m\n\u001b[0;32m    131\u001b[0m \u001b[39melse\u001b[39;00m:\n\u001b[1;32m--> 132\u001b[0m     lm_point, lip_point \u001b[39m=\u001b[39m Lip_motion\u001b[39m.\u001b[39;49mdraw_lipline_on_image(img, faces)\n\u001b[0;32m    133\u001b[0m     valid_frame_lst\u001b[39m.\u001b[39mappend(fidx)\n\u001b[0;32m    134\u001b[0m     lip_point_lst\u001b[39m.\u001b[39mappend(lip_point)\n",
      "File \u001b[1;32mc:\\Users\\lucky\\DYKK\\utils\\Lip_motion.py:21\u001b[0m, in \u001b[0;36mdraw_lipline_on_image\u001b[1;34m(img, faces)\u001b[0m\n\u001b[0;32m     19\u001b[0m         num \u001b[39m=\u001b[39m n\n\u001b[0;32m     20\u001b[0m landmark_model \u001b[39m=\u001b[39m dlib\u001b[39m.\u001b[39mshape_predictor(\u001b[39m'\u001b[39m\u001b[39m.\u001b[39m\u001b[39m\\\u001b[39m\u001b[39mmodel\u001b[39m\u001b[39m\\\u001b[39m\u001b[39mLip_motion\u001b[39m\u001b[39m\\\u001b[39m\u001b[39mshape_predictor_68_face_landmarks.dat\u001b[39m\u001b[39m'\u001b[39m)\n\u001b[1;32m---> 21\u001b[0m lm \u001b[39m=\u001b[39m landmark_model(img, faces[num])\n\u001b[0;32m     22\u001b[0m lm_point \u001b[39m=\u001b[39m [[p\u001b[39m.\u001b[39mx, p\u001b[39m.\u001b[39my] \u001b[39mfor\u001b[39;00m p \u001b[39min\u001b[39;00m lm\u001b[39m.\u001b[39mparts()]\n\u001b[0;32m     23\u001b[0m lm_point \u001b[39m=\u001b[39m np\u001b[39m.\u001b[39marray(lm_point)\n",
      "\u001b[1;31mKeyboardInterrupt\u001b[0m: "
     ]
    },
    {
     "ename": "",
     "evalue": "",
     "output_type": "error",
     "traceback": [
      "\u001b[1;31mnotebook controller is DISPOSED. \n",
      "자세한 내용은 Jupyter <a href='command:jupyter.viewOutput'>로그</a>를 참조하세요."
     ]
    },
    {
     "ename": "",
     "evalue": "",
     "output_type": "error",
     "traceback": [
      "\u001b[1;31mnotebook controller is DISPOSED. \n",
      "자세한 내용은 Jupyter <a href='command:jupyter.viewOutput'>로그</a>를 참조하세요."
     ]
    }
   ],
   "source": [
    "lets_study, lets_study_lip_lst = contents_select.create_study_dir(videoname, lst, dialogue=dialogue, object=None, exist=True)\n",
    "print('최종 학습 가능 목록:', lets_study)\n",
    "print('학습 가능 영상 입술 좌표:', lets_study_lip_lst)"
   ]
  },
  {
   "cell_type": "code",
   "execution_count": 8,
   "metadata": {},
   "outputs": [],
   "source": [
    "lets_study = [3, 5]"
   ]
  },
  {
   "cell_type": "code",
   "execution_count": 9,
   "metadata": {},
   "outputs": [],
   "source": [
    "target_name = 'user_video'\n",
    "# video_index = int(input('Select Directory want to study in lets_stduy lst'))\n",
    "video_index = 0\n",
    "selected_dir = f'./data/Study_Dir/{lets_study[video_index]}th_Study_Dir'"
   ]
  },
  {
   "cell_type": "code",
   "execution_count": null,
   "metadata": {},
   "outputs": [],
   "source": [
    "Lip_motion.make_target_dir(target_name, selected_dir)"
   ]
  },
  {
   "cell_type": "code",
   "execution_count": 11,
   "metadata": {},
   "outputs": [
    {
     "name": "stdout",
     "output_type": "stream",
     "text": [
      "Directory is already existed\n",
      "Frames are already existed\n",
      "원본 영상과 학습자 영상의 프레임 수가 일치합니다.\n",
      "입술 분석 결과: 2624.497336525616\n"
     ]
    },
    {
     "data": {
      "text/plain": [
       "2624.497336525616"
      ]
     },
     "execution_count": 11,
     "metadata": {},
     "output_type": "execute_result"
    }
   ],
   "source": [
    "dir_lst = lets_study\n",
    "target_dir = './data/test'\n",
    "Lip_motion.lip_motion_analysis(video_index, target_dir, dir_lst)"
   ]
  },
  {
   "cell_type": "code",
   "execution_count": 5,
   "metadata": {},
   "outputs": [
    {
     "name": "stdout",
     "output_type": "stream",
     "text": [
      "Directory is already existed\n",
      "Directory is already existed\n"
     ]
    }
   ],
   "source": [
    "filepath = './data/'\n",
    "videoname_2 = 'user_video'\n",
    "Wave.make_wave_file('3th_video', './data/Study_Dir/3th_Study_Dir/')\n",
    "Wave.make_wave_file(videoname=videoname_2, directory=filepath)"
   ]
  },
  {
   "cell_type": "code",
   "execution_count": null,
   "metadata": {},
   "outputs": [],
   "source": [
    "source = './data/Audio/3th_video.wav'\n",
    "target = './data/Audio/user_video.wav'\n",
    "export_dir = './data/Audio/'\n",
    "Wave.MFCC(source, target, export_dir)"
   ]
  },
  {
   "cell_type": "code",
   "execution_count": 2,
   "metadata": {},
   "outputs": [],
   "source": [
    "api_system = './data/Audio/api_system_audio.wav'\n",
    "api_user = './data/Audio/api_user_audio.wav'"
   ]
  },
  {
   "cell_type": "code",
   "execution_count": 3,
   "metadata": {},
   "outputs": [
    {
     "data": {
      "text/plain": [
       "(0.984375,\n",
       " '식한님은 갯불 이건 삼겹살님의 은혜거든 역시 삼겹살님은 언제나 오라',\n",
       " '6시 님은 갯불 이건 삼겹살 님의 은혜거든 역시 삼겹살 님은 언제나 오라')"
      ]
     },
     "execution_count": 3,
     "metadata": {},
     "output_type": "execute_result"
    }
   ],
   "source": [
    "score, sys_text, user_text = Pronounce.text_recognition(api_system, api_user)\n",
    "score, sys_text, user_text"
   ]
  },
  {
   "cell_type": "code",
   "execution_count": 4,
   "metadata": {},
   "outputs": [],
   "source": [
    "audioFilePath = './data/Audio/pronoun.wav'"
   ]
  },
  {
   "cell_type": "code",
   "execution_count": 5,
   "metadata": {},
   "outputs": [
    {
     "name": "stdout",
     "output_type": "stream",
     "text": [
      "original wav sr: 22050, original wav shape: (234212,), resample wav sr: 16000, resmaple shape: (169950,)\n"
     ]
    },
    {
     "data": {
      "text/plain": [
       "'{\"result\":0,\"return_object\":{\"recognized\":\"식한님은 갯불 이건 삼겹살님의 은혜거든 역시 삼겹살님은 언제나 오라\",\"score\":2.8336288928985596}}'"
      ]
     },
     "execution_count": 5,
     "metadata": {},
     "output_type": "execute_result"
    }
   ],
   "source": [
    "Pronounce.prounce_score(audioFilePath, sys_text)"
   ]
  },
  {
   "cell_type": "markdown",
   "metadata": {},
   "source": [
    "## Model inference"
   ]
  },
  {
   "cell_type": "code",
   "execution_count": 18,
   "metadata": {},
   "outputs": [
    {
     "ename": "ModuleNotFoundError",
     "evalue": "No module named 'torch'",
     "output_type": "error",
     "traceback": [
      "\u001b[1;31m---------------------------------------------------------------------------\u001b[0m",
      "\u001b[1;31mModuleNotFoundError\u001b[0m                       Traceback (most recent call last)",
      "\u001b[1;32mc:\\Users\\lucky\\DYKK\\prac.ipynb 셀 18\u001b[0m in \u001b[0;36m<cell line: 1>\u001b[1;34m()\u001b[0m\n\u001b[1;32m----> <a href='vscode-notebook-cell:/c%3A/Users/lucky/DYKK/prac.ipynb#ch0000016?line=0'>1</a>\u001b[0m \u001b[39mfrom\u001b[39;00m \u001b[39mutils\u001b[39;00m \u001b[39mimport\u001b[39;00m T5\n",
      "File \u001b[1;32mc:\\Users\\lucky\\DYKK\\utils\\T5.py:2\u001b[0m, in \u001b[0;36m<module>\u001b[1;34m\u001b[0m\n\u001b[0;32m      1\u001b[0m \u001b[39mfrom\u001b[39;00m \u001b[39mtransformers\u001b[39;00m \u001b[39mimport\u001b[39;00m T5Tokenizer, TFMT5ForConditionalGeneration\n\u001b[1;32m----> 2\u001b[0m \u001b[39mfrom\u001b[39;00m \u001b[39mtorch\u001b[39;00m \u001b[39mimport\u001b[39;00m cuda\n\u001b[0;32m      4\u001b[0m t5_tokenizer \u001b[39m=\u001b[39m T5Tokenizer\u001b[39m.\u001b[39mfrom_pretrained(\u001b[39m'\u001b[39m\u001b[39mgoogle/mt5-small\u001b[39m\u001b[39m'\u001b[39m)\n\u001b[0;32m      5\u001b[0m t5_model \u001b[39m=\u001b[39m TFMT5ForConditionalGeneration\u001b[39m.\u001b[39mfrom_pretrained(\u001b[39m'\u001b[39m\u001b[39m/content/drive/MyDrive/models/model_files/\u001b[39m\u001b[39m'\u001b[39m, from_pt\u001b[39m=\u001b[39m\u001b[39mTrue\u001b[39;00m)\n",
      "\u001b[1;31mModuleNotFoundError\u001b[0m: No module named 'torch'"
     ]
    }
   ],
   "source": [
    "from utils import T5 "
   ]
  },
  {
   "cell_type": "code",
   "execution_count": 14,
   "metadata": {},
   "outputs": [],
   "source": [
    "import transformers"
   ]
  },
  {
   "cell_type": "code",
   "execution_count": 17,
   "metadata": {},
   "outputs": [
    {
     "name": "stdout",
     "output_type": "stream",
     "text": [
      "Collecting package metadata (current_repodata.json): ...working... done"
     ]
    },
    {
     "name": "stderr",
     "output_type": "stream",
     "text": [
      "\n",
      "Building graph of deps:   0%|          | 0/62 [00:00<?, ?it/s]\n",
      "Examining tzdata:   0%|          | 0/62 [00:00<?, ?it/s]      \n",
      "Examining openssl:   2%|▏         | 1/62 [00:00<?, ?it/s]\n",
      "Examining dlib:   3%|▎         | 2/62 [00:00<00:00, 167.08it/s]\n",
      "Examining sqlite:   5%|▍         | 3/62 [00:00<00:00, 167.12it/s]\n",
      "Examining libzlib:   6%|▋         | 4/62 [00:00<00:00, 148.53it/s]\n",
      "Examining jpeg:   8%|▊         | 5/62 [00:00<00:00, 185.67it/s]   \n",
      "Examining ipykernel:  10%|▉         | 6/62 [00:00<00:00, 215.19it/s]\n",
      "Examining pyzmq:  11%|█▏        | 7/62 [00:02<00:17,  3.17it/s]     \n",
      "Examining pyzmq:  13%|█▎        | 8/62 [00:02<00:14,  3.62it/s]\n",
      "Examining jupyter_client:  13%|█▎        | 8/62 [00:02<00:14,  3.62it/s]\n",
      "Examining jupyter_client:  15%|█▍        | 9/62 [00:02<00:13,  4.00it/s]\n",
      "Examining stack_data:  15%|█▍        | 9/62 [00:02<00:13,  4.00it/s]    \n",
      "Examining stack_data:  16%|█▌        | 10/62 [00:02<00:16,  3.15it/s]\n",
      "Examining @/win-64::__cuda==11.6=0:  16%|█▌        | 10/62 [00:02<00:16,  3.15it/s]\n",
      "Examining python_abi:  18%|█▊        | 11/62 [00:02<00:16,  3.15it/s]              \n",
      "Examining libblas:  19%|█▉        | 12/62 [00:02<00:15,  3.15it/s]   \n",
      "Examining torchvision=0.10.0:  21%|██        | 13/62 [00:02<00:15,  3.15it/s]\n",
      "Examining certifi:  23%|██▎       | 14/62 [00:03<00:15,  3.15it/s]           \n",
      "Examining certifi:  24%|██▍       | 15/62 [00:03<00:07,  6.13it/s]\n",
      "Examining jpype1:  24%|██▍       | 15/62 [00:03<00:07,  6.13it/s] \n",
      "Examining jedi:  26%|██▌       | 16/62 [00:03<00:07,  6.13it/s]  \n",
      "Examining jedi:  27%|██▋       | 17/62 [00:03<00:06,  6.75it/s]\n",
      "Examining vs2015_runtime:  27%|██▋       | 17/62 [00:03<00:06,  6.75it/s]\n"
     ]
    },
    {
     "name": "stdout",
     "output_type": "stream",
     "text": [
      "\n",
      "Solving environment: ...working... failed with initial frozen solve. Retrying with flexible solve.\n",
      "Solving environment: ...working... failed with repodata from current_repodata.json, will retry with next repodata source.\n",
      "Collecting package metadata (repodata.json): ...working... done\n",
      "Solving environment: ...working... failed with initial frozen solve. Retrying with flexible solve.\n",
      "Solving environment: ...working... \n",
      "Found conflicts! Looking for incompatible packages.\n",
      "This can take several minutes.  Press CTRL-C to abort.\n",
      "failed\n"
     ]
    },
    {
     "name": "stderr",
     "output_type": "stream",
     "text": [
      "Examining pywin32:  29%|██▉       | 18/62 [00:03<00:06,  6.75it/s]       \n",
      "Examining pywin32:  31%|███       | 19/62 [00:03<00:05,  7.94it/s]\n",
      "Examining zeromq:  31%|███       | 19/62 [00:03<00:05,  7.94it/s] \n",
      "Examining intel-openmp:  32%|███▏      | 20/62 [00:03<00:05,  7.94it/s]\n",
      "Examining tbb:  34%|███▍      | 21/62 [00:03<00:05,  7.94it/s]         \n",
      "Examining pytorch=1.9.0:  35%|███▌      | 22/62 [00:03<00:05,  7.94it/s]\n",
      "Examining wcwidth:  37%|███▋      | 23/62 [00:03<00:04,  7.94it/s]      \n",
      "Examining wcwidth:  39%|███▊      | 24/62 [00:03<00:02, 13.20it/s]\n",
      "Examining wheel:  39%|███▊      | 24/62 [00:03<00:02, 13.20it/s]  \n",
      "Examining jupyter_core:  40%|████      | 25/62 [00:04<00:02, 13.20it/s]\n",
      "Examining setuptools:  42%|████▏     | 26/62 [00:04<00:02, 13.20it/s]  \n",
      "Examining setuptools:  44%|████▎     | 27/62 [00:04<00:04,  7.30it/s]\n",
      "Examining torchaudio:  44%|████▎     | 27/62 [00:05<00:04,  7.30it/s]\n",
      "Examining debugpy:  45%|████▌     | 28/62 [00:08<00:04,  7.30it/s]   \n",
      "Examining debugpy:  47%|████▋     | 29/62 [00:08<00:17,  1.92it/s]\n",
      "Examining six:  47%|████▋     | 29/62 [00:08<00:17,  1.92it/s]    \n",
      "Examining python-dateutil:  48%|████▊     | 30/62 [00:08<00:16,  1.92it/s]\n",
      "Examining liblapack:  50%|█████     | 31/62 [00:08<00:16,  1.92it/s]      \n",
      "Examining liblapack:  52%|█████▏    | 32/62 [00:08<00:11,  2.70it/s]\n",
      "Examining numpy:  52%|█████▏    | 32/62 [00:08<00:11,  2.70it/s]    \n",
      "Examining ca-certificates:  53%|█████▎    | 33/62 [00:10<00:10,  2.70it/s]\n",
      "Examining ca-certificates:  55%|█████▍    | 34/62 [00:10<00:16,  1.74it/s]\n",
      "Examining vc:  55%|█████▍    | 34/62 [00:10<00:16,  1.74it/s]             \n",
      "Examining nest-asyncio:  56%|█████▋    | 35/62 [00:10<00:15,  1.74it/s]\n",
      "Examining @/win-64::__archspec==1=x86_64:  58%|█████▊    | 36/62 [00:10<00:14,  1.74it/s]\n",
      "Examining ipython:  60%|█████▉    | 37/62 [00:10<00:14,  1.74it/s]                       \n",
      "Examining executing:  61%|██████▏   | 38/62 [00:12<00:13,  1.74it/s]\n",
      "Examining executing:  63%|██████▎   | 39/62 [00:12<00:10,  2.11it/s]\n",
      "Examining colorama:  63%|██████▎   | 39/62 [00:12<00:10,  2.11it/s] \n",
      "Examining libpng:  65%|██████▍   | 40/62 [00:12<00:10,  2.11it/s]  \n",
      "Examining decorator:  66%|██████▌   | 41/62 [00:12<00:09,  2.11it/s]\n",
      "Examining mkl:  68%|██████▊   | 42/62 [00:12<00:09,  2.11it/s]      \n",
      "Examining mkl:  69%|██████▉   | 43/62 [00:12<00:06,  3.03it/s]\n",
      "Examining zlib:  69%|██████▉   | 43/62 [00:12<00:06,  3.03it/s]\n",
      "Examining backcall:  71%|███████   | 44/62 [00:12<00:05,  3.03it/s]\n",
      "Examining pickleshare:  73%|███████▎  | 45/62 [00:12<00:05,  3.03it/s]\n",
      "Examining matplotlib-inline:  74%|███████▍  | 46/62 [00:12<00:05,  3.03it/s]\n",
      "Examining tornado:  76%|███████▌  | 47/62 [00:12<00:04,  3.03it/s]          \n",
      "Examining wincertstore:  77%|███████▋  | 48/62 [00:13<00:04,  3.03it/s]\n",
      "Examining wincertstore:  79%|███████▉  | 49/62 [00:13<00:02,  4.98it/s]\n",
      "Examining pip:  79%|███████▉  | 49/62 [00:13<00:02,  4.98it/s]         \n",
      "Examining @/win-64::__win==0=0:  81%|████████  | 50/62 [00:14<00:02,  4.98it/s]\n",
      "Examining asttokens:  82%|████████▏ | 51/62 [00:14<00:02,  4.98it/s]           \n",
      "Examining asttokens:  84%|████████▍ | 52/62 [00:14<00:03,  3.26it/s]\n",
      "Examining libcblas:  84%|████████▍ | 52/62 [00:14<00:03,  3.26it/s] \n",
      "Examining pure_eval:  85%|████████▌ | 53/62 [00:14<00:02,  3.26it/s]\n",
      "Examining pygments:  87%|████████▋ | 54/62 [00:15<00:02,  3.26it/s] \n",
      "Examining prompt-toolkit:  89%|████████▊ | 55/62 [00:15<00:02,  3.26it/s]\n",
      "Examining prompt-toolkit:  90%|█████████ | 56/62 [00:15<00:01,  4.12it/s]\n",
      "Examining parso:  90%|█████████ | 56/62 [00:15<00:01,  4.12it/s]         \n",
      "Examining entrypoints:  92%|█████████▏| 57/62 [00:15<00:01,  4.12it/s]\n",
      "Examining entrypoints:  94%|█████████▎| 58/62 [00:15<00:00,  4.60it/s]\n",
      "Examining cudatoolkit=11.3:  94%|█████████▎| 58/62 [00:15<00:00,  4.60it/s]\n",
      "Examining libsodium:  95%|█████████▌| 59/62 [00:15<00:00,  4.60it/s]       \n",
      "Examining traitlets:  97%|█████████▋| 60/62 [00:15<00:00,  4.60it/s]\n",
      "Examining python=3.9:  98%|█████████▊| 61/62 [00:15<00:00,  4.60it/s]\n",
      "                                                                     \n",
      "\n",
      "Determining conflicts:   0%|          | 0/62 [00:00<?, ?it/s]\n",
      "Examining conflict for tzdata dlib ipykernel pyzmq jupyter_client stack_data python_abi torchvision certifi jpype1 jedi pywin32 pytorch wheel wcwidth jupyter_core setuptools torchaudio debugpy six python-dateutil numpy nest-asyncio ipython executing colorama decorator backcall pickleshare matplotlib-inline tornado wincertstore pip asttokens pure_eval pygments prompt-toolkit parso entrypoints traitlets python:   0%|          | 0/62 [00:00<?, ?it/s]\n",
      "Examining conflict for openssl dlib ipykernel pyzmq jupyter_client stack_data python_abi torchvision certifi jpype1 jedi pywin32 pytorch wheel wcwidth jupyter_core setuptools torchaudio debugpy six python-dateutil numpy nest-asyncio ipython executing colorama decorator backcall pickleshare matplotlib-inline tornado wincertstore pip asttokens pure_eval pygments prompt-toolkit parso entrypoints traitlets python:   2%|▏         | 1/62 [00:01<01:45,  1.73s/it]\n",
      "Examining conflict for openssl dlib ipykernel pyzmq jupyter_client stack_data python_abi torchvision certifi jpype1 jedi pywin32 pytorch wheel wcwidth jupyter_core setuptools torchaudio debugpy six python-dateutil numpy nest-asyncio ipython executing colorama decorator backcall pickleshare matplotlib-inline tornado wincertstore pip asttokens pure_eval pygments prompt-toolkit parso entrypoints traitlets python:   3%|▎         | 2/62 [00:01<00:51,  1.15it/s]\n",
      "Examining conflict for openssl dlib sqlite libzlib jpeg ipykernel pyzmq jupyter_client stack_data python_abi torchvision certifi jpype1 jedi pywin32 zeromq tbb pytorch wcwidth wheel jupyter_core setuptools torchaudio debugpy six python-dateutil numpy nest-asyncio vc ipython executing colorama libpng decorator mkl zlib backcall pickleshare matplotlib-inline tornado wincertstore pip asttokens pure_eval pygments prompt-toolkit parso entrypoints cudatoolkit libsodium traitlets python:   3%|▎         | 2/62 [00:03<00:51,  1.15it/s]\n",
      "Examining conflict for openssl dlib sqlite libzlib jpeg ipykernel pyzmq jupyter_client stack_data python_abi torchvision certifi jpype1 jedi pywin32 zeromq tbb pytorch wcwidth wheel jupyter_core setuptools torchaudio debugpy six python-dateutil numpy nest-asyncio vc ipython executing colorama libpng decorator mkl zlib backcall pickleshare matplotlib-inline tornado wincertstore pip asttokens pure_eval pygments prompt-toolkit parso entrypoints cudatoolkit libsodium traitlets python:   5%|▍         | 3/62 [00:03<01:12,  1.23s/it]\n",
      "Examining conflict for openssl dlib sqlite libzlib jpeg ipykernel pyzmq jupyter_client stack_data python_abi torchvision certifi jpype1 jedi vs2015_runtime pywin32 zeromq tbb pytorch wcwidth wheel jupyter_core setuptools torchaudio debugpy six python-dateutil numpy nest-asyncio vc ipython executing colorama libpng decorator mkl zlib backcall pickleshare matplotlib-inline tornado wincertstore pip asttokens pure_eval pygments prompt-toolkit parso entrypoints cudatoolkit libsodium traitlets python:   5%|▍         | 3/62 [00:05<01:12,  1.23s/it]\n",
      "Examining conflict for openssl dlib sqlite libzlib jpeg ipykernel pyzmq jupyter_client stack_data python_abi torchvision certifi jpype1 jedi vs2015_runtime pywin32 zeromq tbb pytorch wcwidth wheel jupyter_core setuptools torchaudio debugpy six python-dateutil numpy nest-asyncio vc ipython executing colorama libpng decorator mkl zlib backcall pickleshare matplotlib-inline tornado wincertstore pip asttokens pure_eval pygments prompt-toolkit parso entrypoints cudatoolkit libsodium traitlets python:   6%|▋         | 4/62 [00:05<01:22,  1.42s/it]\n",
      "Examining conflict for openssl ipykernel pyzmq jupyter_client certifi jedi pywin32 wheel wcwidth jupyter_core setuptools six python-dateutil numpy ca-certificates ipython executing colorama decorator backcall pickleshare tornado wincertstore pip pygments prompt-toolkit parso entrypoints traitlets python:   6%|▋         | 4/62 [00:07<01:22,  1.42s/it]                                                                                                                                                                                                   \n",
      "Examining conflict for openssl ipykernel pyzmq jupyter_client certifi jedi pywin32 wheel wcwidth jupyter_core setuptools six python-dateutil numpy ca-certificates ipython executing colorama decorator backcall pickleshare tornado wincertstore pip pygments prompt-toolkit parso entrypoints traitlets python:   8%|▊         | 5/62 [00:07<01:28,  1.56s/it]\n",
      "Examining conflict for openssl sqlite jpeg ipykernel pyzmq jupyter_client certifi jedi pywin32 zeromq tbb wheel wcwidth jupyter_core setuptools six python-dateutil numpy vc ipython executing colorama libpng decorator zlib backcall pickleshare tornado wincertstore pip pygments prompt-toolkit parso entrypoints libsodium traitlets:   8%|▊         | 5/62 [00:08<01:28,  1.56s/it]\n",
      "Examining conflict for openssl sqlite jpeg ipykernel pyzmq jupyter_client certifi jedi pywin32 zeromq tbb wheel wcwidth jupyter_core setuptools six python-dateutil numpy vc ipython executing colorama libpng decorator zlib backcall pickleshare tornado wincertstore pip pygments prompt-toolkit parso entrypoints libsodium traitlets:  10%|▉         | 6/62 [00:08<01:23,  1.49s/it]\n",
      "Examining conflict for liblapack torchaudio dlib numpy:  10%|▉         | 6/62 [00:09<01:23,  1.49s/it]                                                                                                                                                                                                                                                                                   \n",
      "Examining conflict for liblapack torchaudio dlib numpy:  11%|█▏        | 7/62 [00:09<01:17,  1.41s/it]\n",
      "Examining conflict for torchaudio dlib numpy:  11%|█▏        | 7/62 [00:09<01:17,  1.41s/it]          \n",
      "Examining conflict for torchaudio dlib numpy:  13%|█▎        | 8/62 [00:09<00:58,  1.08s/it]\n",
      "Examining conflict for dlib sqlite ipykernel pyzmq jupyter_client stack_data torchvision certifi jpype1 jedi pywin32 wheel wcwidth jupyter_core setuptools torchaudio debugpy six python-dateutil numpy nest-asyncio ipython executing colorama libpng decorator zlib backcall pickleshare matplotlib-inline tornado wincertstore pip asttokens pure_eval pygments prompt-toolkit parso entrypoints traitlets python:  13%|█▎        | 8/62 [00:10<00:58,  1.08s/it]\n",
      "Examining conflict for dlib sqlite ipykernel pyzmq jupyter_client stack_data torchvision certifi jpype1 jedi pywin32 wheel wcwidth jupyter_core setuptools torchaudio debugpy six python-dateutil numpy nest-asyncio ipython executing colorama libpng decorator zlib backcall pickleshare matplotlib-inline tornado wincertstore pip asttokens pure_eval pygments prompt-toolkit parso entrypoints traitlets python:  15%|█▍        | 9/62 [00:10<00:44,  1.18it/s]\n",
      "Examining conflict for dlib sqlite ipykernel pyzmq jupyter_client stack_data python_abi torchvision certifi jpype1 jedi pywin32 pytorch wheel wcwidth jupyter_core setuptools torchaudio debugpy six python-dateutil numpy nest-asyncio ipython executing colorama decorator backcall pickleshare matplotlib-inline tornado wincertstore pip asttokens pure_eval pygments prompt-toolkit parso entrypoints traitlets python:  15%|█▍        | 9/62 [00:11<00:44,  1.18it/s]\n",
      "Examining conflict for dlib sqlite ipykernel pyzmq jupyter_client stack_data python_abi torchvision certifi jpype1 jedi pywin32 pytorch wheel wcwidth jupyter_core setuptools torchaudio debugpy six python-dateutil numpy nest-asyncio ipython executing colorama decorator backcall pickleshare matplotlib-inline tornado wincertstore pip asttokens pure_eval pygments prompt-toolkit parso entrypoints traitlets python:  16%|█▌        | 10/62 [00:11<00:57,  1.10s/it]\n",
      "Examining conflict for torchaudio libblas torchvision liblapack dlib numpy libcblas mkl pytorch:  16%|█▌        | 10/62 [00:13<00:57,  1.10s/it]                                                                                                                                                                                                                                                                                                                            \n",
      "Examining conflict for torchaudio libblas torchvision liblapack dlib numpy libcblas mkl pytorch:  18%|█▊        | 11/62 [00:13<01:08,  1.34s/it]\n",
      "Examining conflict for torchaudio torchvision dlib numpy pytorch:  18%|█▊        | 11/62 [00:14<01:08,  1.34s/it]                               \n",
      "Examining conflict for torchaudio torchvision dlib numpy pytorch:  19%|█▉        | 12/62 [00:14<01:03,  1.27s/it]\n",
      "Examining conflict for dlib ipykernel pyzmq jupyter_client stack_data python_abi torchvision certifi jpype1 jedi pywin32 pytorch wheel wcwidth jupyter_core setuptools torchaudio debugpy six python-dateutil numpy nest-asyncio ipython executing colorama decorator backcall pickleshare matplotlib-inline tornado wincertstore pip asttokens pure_eval pygments prompt-toolkit parso entrypoints traitlets python:  19%|█▉        | 12/62 [00:15<01:03,  1.27s/it]\n",
      "Examining conflict for dlib ipykernel pyzmq jupyter_client stack_data python_abi torchvision certifi jpype1 jedi pywin32 pytorch wheel wcwidth jupyter_core setuptools torchaudio debugpy six python-dateutil numpy nest-asyncio ipython executing colorama decorator backcall pickleshare matplotlib-inline tornado wincertstore pip asttokens pure_eval pygments prompt-toolkit parso entrypoints traitlets python:  21%|██        | 13/62 [00:15<00:57,  1.18s/it]\n",
      "Examining conflict for torchaudio dlib numpy libcblas:  21%|██        | 13/62 [00:17<00:57,  1.18s/it]                                                                                                                                                                                                                                                                                                                                                               \n",
      "Examining conflict for torchaudio dlib numpy libcblas:  23%|██▎       | 14/62 [00:17<01:04,  1.34s/it]\n",
      "Examining conflict for dlib libpng torchvision:  23%|██▎       | 14/62 [00:17<01:04,  1.34s/it]       \n",
      "Examining conflict for dlib libpng torchvision:  24%|██▍       | 15/62 [00:17<00:48,  1.04s/it]\n",
      "Examining conflict for dlib jpeg torchvision:  24%|██▍       | 15/62 [00:17<00:48,  1.04s/it]  \n",
      "Examining conflict for torchvision dlib sqlite libzlib libpng zlib:  26%|██▌       | 16/62 [00:18<00:47,  1.04s/it]\n",
      "Examining conflict for torchaudio libblas liblapack dlib numpy libcblas:  27%|██▋       | 17/62 [00:18<00:46,  1.04s/it]\n",
      "Examining conflict for setuptools torchaudio tornado certifi dlib jpype1 numpy python_abi:  29%|██▉       | 18/62 [00:19<00:45,  1.04s/it]\n",
      "Examining conflict for setuptools torchaudio tornado certifi dlib jpype1 numpy python_abi:  31%|███       | 19/62 [00:19<00:23,  1.81it/s]\n",
      "Examining conflict for matplotlib-inline ipykernel ipython:  31%|███       | 19/62 [00:19<00:23,  1.81it/s]                               \n",
      "Examining conflict for ipykernel ipython prompt-toolkit:  32%|███▏      | 20/62 [00:19<00:23,  1.81it/s]   \n",
      "Examining conflict for ipykernel ipython prompt-toolkit:  34%|███▍      | 21/62 [00:19<00:16,  2.49it/s]\n",
      "Examining conflict for jupyter_core matplotlib-inline ipykernel ipython jupyter_client traitlets:  34%|███▍      | 21/62 [00:19<00:16,  2.49it/s]\n",
      "Examining conflict for jupyter_core matplotlib-inline ipykernel ipython jupyter_client traitlets:  35%|███▌      | 22/62 [00:19<00:14,  2.78it/s]\n",
      "Examining conflict for ipykernel python-dateutil jupyter_client:  35%|███▌      | 22/62 [00:19<00:14,  2.78it/s]                                 \n",
      "Examining conflict for ipykernel python-dateutil jupyter_client:  37%|███▋      | 23/62 [00:19<00:12,  3.18it/s]\n",
      "Examining conflict for ipykernel jupyter_client:  37%|███▋      | 23/62 [00:19<00:12,  3.18it/s]                \n",
      "Examining conflict for ipykernel jupyter_client:  39%|███▊      | 24/62 [00:19<00:10,  3.49it/s]\n",
      "Examining conflict for ipykernel tornado jupyter_client:  39%|███▊      | 24/62 [00:19<00:10,  3.49it/s]\n",
      "Examining conflict for ipykernel tornado jupyter_client:  40%|████      | 25/62 [00:19<00:09,  3.99it/s]\n",
      "Examining conflict for ipykernel ipython prompt-toolkit pygments:  40%|████      | 25/62 [00:20<00:09,  3.99it/s]\n",
      "Examining conflict for ipykernel ipython prompt-toolkit pygments:  42%|████▏     | 26/62 [00:20<00:08,  4.47it/s]\n",
      "Examining conflict for ipykernel debugpy:  42%|████▏     | 26/62 [00:20<00:08,  4.47it/s]                        \n",
      "Examining conflict for ipykernel debugpy:  44%|████▎     | 27/62 [00:20<00:07,  4.85it/s]\n",
      "Examining conflict for ipykernel ipython:  44%|████▎     | 27/62 [00:20<00:07,  4.85it/s]\n",
      "Examining conflict for ipykernel ipython jedi:  45%|████▌     | 28/62 [00:20<00:07,  4.85it/s]\n",
      "Examining conflict for ipykernel ipython jedi:  47%|████▋     | 29/62 [00:20<00:05,  6.40it/s]\n",
      "Examining conflict for jupyter_core pickleshare matplotlib-inline six tornado python-dateutil pip numpy asttokens ipykernel ipython prompt-toolkit jupyter_client stack_data traitlets:  47%|████▋     | 29/62 [00:20<00:05,  6.40it/s]\n",
      "Examining conflict for jupyter_core pickleshare matplotlib-inline six tornado python-dateutil pip numpy asttokens ipykernel ipython prompt-toolkit jupyter_client stack_data traitlets:  48%|████▊     | 30/62 [00:20<00:05,  6.31it/s]\n",
      "Examining conflict for ipykernel pyzmq jupyter_client stack_data torchvision certifi jpype1 jedi pywin32 wheel wcwidth jupyter_core setuptools torchaudio debugpy six python-dateutil numpy nest-asyncio ipython executing colorama decorator backcall pickleshare matplotlib-inline tornado wincertstore pip asttokens pure_eval pygments prompt-toolkit parso entrypoints traitlets:  48%|████▊     | 30/62 [00:21<00:05,  6.31it/s]\n",
      "Examining conflict for ipykernel pyzmq jupyter_client stack_data torchvision certifi jpype1 jedi pywin32 wheel wcwidth jupyter_core setuptools torchaudio debugpy six python-dateutil numpy nest-asyncio ipython executing colorama decorator backcall pickleshare matplotlib-inline tornado wincertstore pip asttokens pure_eval pygments prompt-toolkit parso entrypoints traitlets:  50%|█████     | 31/62 [00:21<00:12,  2.52it/s]\n",
      "Examining conflict for ipykernel pyzmq jupyter_client:  50%|█████     | 31/62 [00:23<00:12,  2.52it/s]                                                                                                                                                                                                                                                                                                                                \n",
      "Examining conflict for ipykernel pyzmq jupyter_client:  52%|█████▏    | 32/62 [00:23<00:22,  1.31it/s]\n",
      "Examining conflict for ipykernel nest-asyncio jupyter_client:  52%|█████▏    | 32/62 [00:23<00:22,  1.31it/s]\n",
      "Examining conflict for ipykernel nest-asyncio jupyter_client:  53%|█████▎    | 33/62 [00:23<00:17,  1.67it/s]\n",
      "Examining conflict for ipykernel pyzmq jupyter_client stack_data certifi jpype1 jedi pywin32 wheel wcwidth jupyter_core setuptools torchaudio debugpy six python-dateutil numpy nest-asyncio ipython executing colorama decorator backcall pickleshare matplotlib-inline tornado wincertstore pip asttokens pure_eval pygments prompt-toolkit parso entrypoints traitlets:  53%|█████▎    | 33/62 [00:23<00:17,  1.67it/s]\n",
      "Examining conflict for ipykernel pyzmq jupyter_client stack_data certifi jpype1 jedi pywin32 wheel wcwidth jupyter_core setuptools torchaudio debugpy six python-dateutil numpy nest-asyncio ipython executing colorama decorator backcall pickleshare matplotlib-inline tornado wincertstore pip asttokens pure_eval pygments prompt-toolkit parso entrypoints traitlets:  55%|█████▍    | 34/62 [00:23<00:13,  2.10it/s]\n",
      "Examining conflict for pickleshare ipykernel ipython:  55%|█████▍    | 34/62 [00:25<00:13,  2.10it/s]                                                                                                                                                                                                                                                                                                                     \n",
      "Examining conflict for pickleshare ipykernel ipython:  56%|█████▋    | 35/62 [00:25<00:25,  1.07it/s]\n",
      "Examining conflict for jupyter_core matplotlib-inline jupyter_client ipykernel ipython decorator traitlets:  56%|█████▋    | 35/62 [00:25<00:25,  1.07it/s]\n",
      "Examining conflict for jupyter_core matplotlib-inline jupyter_client ipykernel ipython decorator traitlets:  58%|█████▊    | 36/62 [00:25<00:18,  1.43it/s]\n",
      "Examining conflict for setuptools tornado pip certifi ipykernel ipython pygments jupyter_client wheel:  58%|█████▊    | 36/62 [00:26<00:18,  1.43it/s]     \n",
      "Examining conflict for setuptools tornado pip certifi ipykernel ipython pygments jupyter_client wheel:  60%|█████▉    | 37/62 [00:26<00:13,  1.79it/s]\n",
      "Examining conflict for ipykernel entrypoints jupyter_client:  60%|█████▉    | 37/62 [00:26<00:13,  1.79it/s]                                          \n",
      "Examining conflict for ipykernel entrypoints jupyter_client:  61%|██████▏   | 38/62 [00:26<00:11,  2.04it/s]\n",
      "Examining conflict for stack_data ipykernel ipython:  61%|██████▏   | 38/62 [00:26<00:11,  2.04it/s]        \n",
      "Examining conflict for stack_data ipykernel ipython:  63%|██████▎   | 39/62 [00:26<00:08,  2.63it/s]\n",
      "Examining conflict for jupyter_core ipykernel jupyter_client:  63%|██████▎   | 39/62 [00:26<00:08,  2.63it/s]\n",
      "Examining conflict for pip ipykernel ipython colorama python:  65%|██████▍   | 40/62 [00:26<00:08,  2.63it/s]\n",
      "Examining conflict for pip ipykernel ipython colorama python:  66%|██████▌   | 41/62 [00:26<00:05,  3.70it/s]\n",
      "Examining conflict for ipykernel ipython backcall:  66%|██████▌   | 41/62 [00:26<00:05,  3.70it/s]           \n",
      "Examining conflict for ipykernel ipython backcall:  68%|██████▊   | 42/62 [00:26<00:04,  4.29it/s]\n",
      "Examining conflict for torchaudio torchvision jpype1 ipykernel pytorch:  68%|██████▊   | 42/62 [00:27<00:04,  4.29it/s]\n",
      "Examining conflict for torchaudio torchvision jpype1 ipykernel pytorch:  69%|██████▉   | 43/62 [00:27<00:03,  4.94it/s]\n",
      "Examining conflict for jupyter_core ipykernel pywin32 jupyter_client:  69%|██████▉   | 43/62 [00:27<00:03,  4.94it/s]  \n",
      "Examining conflict for jupyter_core ipykernel pywin32 jupyter_client:  71%|███████   | 44/62 [00:27<00:04,  3.60it/s]\n",
      "Examining conflict for setuptools pip ipykernel ipython pygments prompt-toolkit wheel python:  71%|███████   | 44/62 [00:27<00:04,  3.60it/s]\n",
      "Examining conflict for setuptools pip ipykernel ipython pygments prompt-toolkit wheel python:  73%|███████▎  | 45/62 [00:27<00:04,  4.05it/s]\n",
      "Examining conflict for zeromq pyzmq jupyter_client:  73%|███████▎  | 45/62 [00:27<00:04,  4.05it/s]                                          \n",
      "Examining conflict for zeromq pyzmq jupyter_client:  74%|███████▍  | 46/62 [00:27<00:03,  4.29it/s]\n",
      "Examining conflict for zeromq pyzmq libsodium jupyter_client:  74%|███████▍  | 46/62 [00:28<00:03,  4.29it/s]\n",
      "Examining conflict for entrypoints jupyter_client:  76%|███████▌  | 47/62 [00:28<00:03,  4.29it/s]           \n",
      "Examining conflict for entrypoints jupyter_client:  77%|███████▋  | 48/62 [00:28<00:02,  5.94it/s]\n",
      "Examining conflict for stack_data ipython executing:  77%|███████▋  | 48/62 [00:28<00:02,  5.94it/s]\n",
      "Examining conflict for stack_data ipython asttokens:  79%|███████▉  | 49/62 [00:28<00:02,  5.94it/s]\n",
      "Examining conflict for stack_data ipython asttokens:  81%|████████  | 50/62 [00:28<00:01,  7.75it/s]\n",
      "Examining conflict for stack_data pure_eval ipython:  81%|████████  | 50/62 [00:28<00:01,  7.75it/s]\n",
      "Examining conflict for torchaudio libblas torchvision pytorch numpy mkl intel-openmp:  82%|████████▏ | 51/62 [00:28<00:01,  7.75it/s]\n",
      "Examining conflict for torchaudio libblas torchvision pytorch numpy mkl intel-openmp:  84%|████████▍ | 52/62 [00:28<00:01,  9.46it/s]\n",
      "Examining conflict for libblas numpy pytorch mkl tbb:  84%|████████▍ | 52/62 [00:29<00:01,  9.46it/s]                                \n",
      "Examining conflict for cudatoolkit pytorch torchaudio torchvision:  85%|████████▌ | 53/62 [00:30<00:00,  9.46it/s]\n",
      "Examining conflict for cudatoolkit pytorch torchaudio torchvision:  87%|████████▋ | 54/62 [00:30<00:03,  2.59it/s]\n",
      "Examining conflict for pytorch torchaudio torchvision:  87%|████████▋ | 54/62 [00:30<00:03,  2.59it/s]            \n",
      "Examining conflict for pytorch torchaudio torchvision:  89%|████████▊ | 55/62 [00:30<00:02,  2.57it/s]\n",
      "Examining conflict for pytorch jpype1:  89%|████████▊ | 55/62 [00:31<00:02,  2.57it/s]                \n",
      "Examining conflict for pytorch jpype1:  90%|█████████ | 56/62 [00:31<00:02,  2.61it/s]\n",
      "Examining conflict for ipython parso jedi:  90%|█████████ | 56/62 [00:31<00:02,  2.61it/s]\n",
      "Examining conflict for ipython jedi:  92%|█████████▏| 57/62 [00:31<00:01,  2.61it/s]      \n",
      "Examining conflict for ipython jedi:  94%|█████████▎| 58/62 [00:31<00:01,  3.88it/s]\n",
      "Examining conflict for ipython prompt-toolkit wcwidth:  94%|█████████▎| 58/62 [00:31<00:01,  3.88it/s]\n",
      "Examining conflict for pip wheel python:  95%|█████████▌| 59/62 [00:31<00:00,  3.88it/s]              \n",
      "Examining conflict for pip wheel python:  97%|█████████▋| 60/62 [00:31<00:00,  5.34it/s]\n",
      "Examining conflict for setuptools wincertstore pip ipython pygments wheel:  97%|█████████▋| 60/62 [00:31<00:00,  5.34it/s]\n",
      "Examining conflict for torchaudio numpy:  98%|█████████▊| 61/62 [00:31<00:00,  5.34it/s]                                  \n",
      "Examining conflict for torchaudio numpy: 100%|██████████| 62/62 [00:31<00:00,  6.63it/s]\n",
      "Examining conflict for pickleshare ipython: 100%|██████████| 62/62 [00:32<00:00,  6.63it/s]\n",
      "Examining conflict for ipython tornado entrypoints: : 63it [00:32,  6.63it/s]              \n",
      "Examining conflict for ipython tornado entrypoints: : 64it [00:32,  3.45it/s]\n",
      "Examining conflict for pip python: : 64it [00:32,  3.45it/s]                 \n",
      "Examining conflict for pip python: : 65it [00:32,  3.91it/s]\n",
      "                                                            \n",
      "\n",
      "UnsatisfiableError: The following specifications were found to be incompatible with a past\n",
      "explicit spec that is not an explicit spec in this operation (vs2015_runtime):\n",
      "\n",
      "  - cudatoolkit=11.3 -> vc[version='>=14.1,<15.0a0'] -> vs2015_runtime[version='>=14.15.26706|>=14.27.29016|>=14.16.27012']\n",
      "  - cudatoolkit=11.3 -> vs2015_runtime[version='>=14.16.27012,<15.0a0']\n",
      "  - pytorch=1.9.0 -> libuv[version='>=1.40.0,<2.0a0'] -> vc[version='14.*|9.*|>=14.1,<15.0a0']\n",
      "  - pytorch=1.9.0 -> libuv[version='>=1.40.0,<2.0a0'] -> vs2015_runtime[version='>=14.16.27012,<15.0a0']\n",
      "  - pytorch=1.9.0 -> python[version='>=3.9,<3.10.0a0'] -> openssl[version='>=1.1.1a,<1.1.2a|>=1.1.1b,<1.1.2a|>=1.1.1c,<1.1.2a|>=1.1.1d,<1.1.2a|>=1.1.1e,<1.1.2a|>=1.1.1f,<1.1.2a|>=1.1.1g,<1.1.2a|>=1.1.1h,<1.1.2a|>=1.1.1i,<1.1.2a|>=1.1.1j,<1.1.2a|>=1.1.1k,<1.1.2a|>=1.1.1l,<1.1.2a|>=1.1.1n,<1.1.2a']\n",
      "  - pytorch=1.9.0 -> python[version='>=3.9,<3.10.0a0'] -> pip\n",
      "  - pytorch=1.9.0 -> python[version='>=3.9,<3.10.0a0'] -> sqlite[version='>=3.25.3,<4.0a0|>=3.26.0,<4.0a0|>=3.27.2,<4.0a0|>=3.28.0,<4.0a0|>=3.29.0,<4.0a0|>=3.30.0,<4.0a0|>=3.30.1,<4.0a0|>=3.31.1,<4.0a0|>=3.32.3,<4.0a0|>=3.33.0,<4.0a0|>=3.35.4,<4.0a0|>=3.36.0,<4.0a0|>=3.38.0,<4.0a0|>=3.38.2,<4.0a0|>=3.35.1,<4.0a0']\n",
      "  - pytorch=1.9.0 -> python[version='>=3.9,<3.10.0a0'] -> tzdata\n",
      "  - torchaudio -> numpy[version='>=1.11'] -> vc[version='14.*|9.*|>=14.1,<15|>=14.2,<15.0a0']\n",
      "  - torchaudio -> numpy[version='>=1.11'] -> vs2015_runtime[version='>=14.15.26706|>=14.16.27033|>=14.27.29016,<15.0a0|>=14.27.29016']\n",
      "  - torchaudio -> python[version='>=3.9,<3.10.0a0'] -> openssl[version='>=1.1.1a,<1.1.2a|>=1.1.1b,<1.1.2a|>=1.1.1c,<1.1.2a|>=1.1.1d,<1.1.2a|>=1.1.1e,<1.1.2a|>=1.1.1f,<1.1.2a|>=1.1.1g,<1.1.2a|>=1.1.1h,<1.1.2a|>=1.1.1i,<1.1.2a|>=1.1.1j,<1.1.2a|>=1.1.1k,<1.1.2a|>=1.1.1l,<1.1.2a|>=1.1.1n,<1.1.2a']\n",
      "  - torchaudio -> python[version='>=3.9,<3.10.0a0'] -> pip\n",
      "  - torchaudio -> python[version='>=3.9,<3.10.0a0'] -> sqlite[version='>=3.25.3,<4.0a0|>=3.26.0,<4.0a0|>=3.27.2,<4.0a0|>=3.28.0,<4.0a0|>=3.29.0,<4.0a0|>=3.30.0,<4.0a0|>=3.30.1,<4.0a0|>=3.31.1,<4.0a0|>=3.32.3,<4.0a0|>=3.33.0,<4.0a0|>=3.35.4,<4.0a0|>=3.36.0,<4.0a0|>=3.38.0,<4.0a0|>=3.38.2,<4.0a0|>=3.35.1,<4.0a0']\n",
      "  - torchaudio -> python[version='>=3.9,<3.10.0a0'] -> tzdata\n",
      "  - torchaudio -> vc[version='>=14.1,<15.0a0']\n",
      "  - torchaudio -> vs2015_runtime[version='>=14.16.27012|>=14.16.27012,<15.0a0']\n",
      "  - torchvision=0.10.0 -> jpeg[version='<=9b'] -> vc[version='14.*|9.*|>=14.1,<15|>=14.1,<15.0a0']\n",
      "  - torchvision=0.10.0 -> libpng -> vs2015_runtime[version='>=14.16.27012,<15.0a0|>=14.16.27033']\n",
      "  - torchvision=0.10.0 -> python[version='>=3.6,<3.7.0a0'] -> pip\n",
      "  - torchvision=0.10.0 -> python[version='>=3.6,<3.7.0a0'] -> sqlite[version='>=3.25.3,<4.0a0|>=3.26.0,<4.0a0|>=3.29.0,<4.0a0|>=3.30.1,<4.0a0|>=3.31.1,<4.0a0|>=3.33.0,<4.0a0|>=3.35.1,<4.0a0|>=3.38.2,<4.0a0|>=3.38.0,<4.0a0|>=3.36.0,<4.0a0|>=3.35.4,<4.0a0|>=3.32.3,<4.0a0|>=3.30.0,<4.0a0|>=3.28.0,<4.0a0|>=3.27.2,<4.0a0']\n",
      "  - torchvision=0.10.0 -> python[version='>=3.9,<3.10.0a0'] -> openssl[version='>=1.1.1a,<1.1.2a|>=1.1.1b,<1.1.2a|>=1.1.1c,<1.1.2a|>=1.1.1d,<1.1.2a|>=1.1.1e,<1.1.2a|>=1.1.1f,<1.1.2a|>=1.1.1g,<1.1.2a|>=1.1.1h,<1.1.2a|>=1.1.1i,<1.1.2a|>=1.1.1j,<1.1.2a|>=1.1.1k,<1.1.2a|>=1.1.1l,<1.1.2a|>=1.1.1n,<1.1.2a']\n",
      "  - torchvision=0.10.0 -> python[version='>=3.9,<3.10.0a0'] -> tzdata\n",
      "\n",
      "The following specifications were found to be incompatible with each other:\n",
      "\n",
      "Output in format: Requested package -> Available versions\n",
      "\n",
      "Package zlib conflicts for:\n",
      "torchvision=0.10.0 -> libpng -> zlib[version='>=1.2.11,<1.3.0a0|>=1.2.12,<1.3.0a0']\n",
      "six -> python -> zlib[version='>=1.2.11,<1.3.0a0']\n",
      "pygments -> python[version='>=3.5'] -> zlib[version='>=1.2.11,<1.3.0a0']\n",
      "pickleshare -> python[version='>=3'] -> zlib[version='>=1.2.11,<1.3.0a0']\n",
      "python-dateutil -> python -> zlib[version='>=1.2.11,<1.3.0a0']\n",
      "traitlets -> python[version='>=3.7'] -> zlib[version='>=1.2.11,<1.3.0a0']\n",
      "zlib\n",
      "jupyter_core -> python[version='>=3.10,<3.11.0a0'] -> zlib[version='>=1.2.11,<1.3.0a0']\n",
      "executing -> python[version='>=2.7'] -> zlib[version='>=1.2.11,<1.3.0a0']\n",
      "numpy -> python[version='>=3.10,<3.11.0a0'] -> zlib[version='>=1.2.11,<1.3.0a0']\n",
      "decorator -> python[version='>=3.5'] -> zlib[version='>=1.2.11,<1.3.0a0']\n",
      "pip -> python[version='>=3.10,<3.11.0a0'] -> zlib[version='>=1.2.11,<1.3.0a0']\n",
      "pywin32 -> python[version='>=3.10,<3.11.0a0'] -> zlib[version='>=1.2.11,<1.3.0a0']\n",
      "backcall -> python -> zlib[version='>=1.2.11,<1.3.0a0']\n",
      "certifi -> python[version='>=3.10,<3.11.0a0'] -> zlib[version='>=1.2.11,<1.3.0a0']\n",
      "ipython -> python[version='>=3.10,<3.11.0a0'] -> zlib[version='>=1.2.11,<1.3.0a0']\n",
      "libpng -> zlib[version='>=1.2.11,<1.3.0a0|>=1.2.12,<1.3.0a0']\n",
      "parso -> python[version='>=3.6'] -> zlib[version='>=1.2.11,<1.3.0a0']\n",
      "matplotlib-inline -> python[version='>=3.6'] -> zlib[version='>=1.2.11,<1.3.0a0']\n",
      "python=3.9 -> sqlite[version='>=3.33.0,<4.0a0'] -> zlib[version='>=1.2.11,<1.3.0a0']\n",
      "colorama -> python[version='>=3.10,<3.11.0a0'] -> zlib[version='>=1.2.11,<1.3.0a0']\n",
      "prompt-toolkit -> python -> zlib[version='>=1.2.11,<1.3.0a0']\n",
      "nest-asyncio -> python[version='>=3.10,<3.11.0a0'] -> zlib[version='>=1.2.11,<1.3.0a0']\n",
      "pure_eval -> python[version='>=3.5'] -> zlib[version='>=1.2.11,<1.3.0a0']\n",
      "dlib -> libpng[version='>=1.6.37,<1.7.0a0'] -> zlib[version='>=1.2.11,<1.3.0a0|>=1.2.12,<1.3.0a0']\n",
      "pyzmq -> python[version='>=3.10,<3.11.0a0'] -> zlib[version='>=1.2.11,<1.3.0a0']\n",
      "tornado -> python[version='>=3.10,<3.11.0a0'] -> zlib[version='>=1.2.11,<1.3.0a0']\n",
      "jupyter_client -> python[version='>=3.10,<3.11.0a0'] -> zlib[version='>=1.2.11,<1.3.0a0']\n",
      "wheel -> python -> zlib[version='>=1.2.11,<1.3.0a0']\n",
      "wincertstore -> python[version='>=3.10,<3.11.0a0'] -> zlib[version='>=1.2.11,<1.3.0a0']\n",
      "wcwidth -> python -> zlib[version='>=1.2.11,<1.3.0a0']\n",
      "stack_data -> python[version='>=3.5'] -> zlib[version='>=1.2.11,<1.3.0a0']\n",
      "sqlite -> zlib[version='>=1.2.11,<1.3.0a0']\n",
      "jpype1 -> python[version='>=3.10,<3.11.0a0'] -> zlib[version='>=1.2.11,<1.3.0a0']\n",
      "jedi -> python[version='>=3.10,<3.11.0a0'] -> zlib[version='>=1.2.11,<1.3.0a0']\n",
      "debugpy -> python[version='>=3.10,<3.11.0a0'] -> zlib[version='>=1.2.11,<1.3.0a0']\n",
      "ipykernel -> python[version='>=3.10,<3.11.0a0'] -> zlib[version='>=1.2.11,<1.3.0a0']\n",
      "asttokens -> python[version='>=3.5'] -> zlib[version='>=1.2.11,<1.3.0a0']\n",
      "entrypoints -> python[version='>=3.10,<3.11.0a0'] -> zlib[version='>=1.2.11,<1.3.0a0']\n",
      "torchaudio -> python[version='>=3.10,<3.11.0a0'] -> zlib[version='>=1.2.11,<1.3.0a0']\n",
      "setuptools -> python[version='>=3.10,<3.11.0a0'] -> zlib[version='>=1.2.11,<1.3.0a0']\n",
      "\n",
      "Package tzdata conflicts for:\n",
      "ipython -> python[version='>=3.10,<3.11.0a0'] -> tzdata\n",
      "certifi -> python[version='>=3.9,<3.10.0a0'] -> tzdata\n",
      "matplotlib-inline -> python[version='>=3.6'] -> tzdata\n",
      "python_abi -> python=3.9 -> tzdata\n",
      "debugpy -> python[version='>=3.10,<3.11.0a0'] -> tzdata\n",
      "pyzmq -> python[version='>=3.10,<3.11.0a0'] -> tzdata\n",
      "pygments -> python[version='>=3.5'] -> tzdata\n",
      "wincertstore -> python[version='>=3.9,<3.10.0a0'] -> tzdata\n",
      "executing -> python[version='>=2.7'] -> tzdata\n",
      "jupyter_core -> python[version='>=3.9,<3.10.0a0'] -> tzdata\n",
      "tornado -> python[version='>=3.10,<3.11.0a0'] -> tzdata\n",
      "entrypoints -> python[version='>=3.10,<3.11.0a0'] -> tzdata\n",
      "stack_data -> python[version='>=3.5'] -> tzdata\n",
      "wheel -> python -> tzdata\n",
      "wcwidth -> python -> tzdata\n",
      "setuptools -> python[version='>=3.10,<3.11.0a0'] -> tzdata\n",
      "jpype1 -> python[version='>=3.9,<3.10.0a0'] -> tzdata\n",
      "pywin32 -> python[version='>=3.10,<3.11.0a0'] -> tzdata\n",
      "six -> python -> tzdata\n",
      "ipykernel -> python[version='>=3.10,<3.11.0a0'] -> tzdata\n",
      "pickleshare -> python[version='>=3'] -> tzdata\n",
      "asttokens -> python[version='>=3.5'] -> tzdata\n",
      "numpy -> python[version='>=3.9,<3.10.0a0'] -> tzdata\n",
      "prompt-toolkit -> python -> tzdata\n",
      "pip -> python[version='>=3.9,<3.10.0a0'] -> tzdata\n",
      "tzdata\n",
      "backcall -> python -> tzdata\n",
      "jupyter_client -> python[version='>=3.10,<3.11.0a0'] -> tzdata\n",
      "traitlets -> python[version='>=3.7'] -> tzdata\n",
      "jedi -> python[version='>=3.10,<3.11.0a0'] -> tzdata\n",
      "python-dateutil -> python -> tzdata\n",
      "nest-asyncio -> python[version='>=3.10,<3.11.0a0'] -> tzdata\n",
      "parso -> python[version='>=3.6'] -> tzdata\n",
      "colorama -> python[version='>=3.9,<3.10.0a0'] -> tzdata\n",
      "dlib -> python[version='>=3.9,<3.10.0a0'] -> tzdata\n",
      "decorator -> python[version='>=3.5'] -> tzdata\n",
      "python=3.9 -> tzdata\n",
      "pure_eval -> python[version='>=3.5'] -> tzdata\n",
      "\n",
      "Package sqlite conflicts for:\n",
      "colorama -> python[version='>=3.9,<3.10.0a0'] -> sqlite[version='>=3.25.3,<4.0a0|>=3.26.0,<4.0a0|>=3.27.2,<4.0a0|>=3.28.0,<4.0a0|>=3.29.0,<4.0a0|>=3.30.0,<4.0a0|>=3.30.1,<4.0a0|>=3.31.1,<4.0a0|>=3.32.3,<4.0a0|>=3.33.0,<4.0a0|>=3.35.4,<4.0a0|>=3.36.0,<4.0a0|>=3.38.0,<4.0a0|>=3.38.2,<4.0a0|>=3.35.1,<4.0a0']\n",
      "python=3.9 -> sqlite[version='>=3.33.0,<4.0a0|>=3.35.4,<4.0a0|>=3.36.0,<4.0a0|>=3.38.0,<4.0a0|>=3.38.2,<4.0a0']\n",
      "pure_eval -> python[version='>=3.5'] -> sqlite[version='>=3.25.3,<4.0a0|>=3.26.0,<4.0a0|>=3.27.2,<4.0a0|>=3.28.0,<4.0a0|>=3.29.0,<4.0a0|>=3.30.0,<4.0a0|>=3.30.1,<4.0a0|>=3.31.1,<4.0a0|>=3.32.3,<4.0a0|>=3.33.0,<4.0a0|>=3.35.4,<4.0a0|>=3.36.0,<4.0a0|>=3.38.0,<4.0a0|>=3.38.2,<4.0a0|>=3.35.1,<4.0a0']\n",
      "debugpy -> python[version='>=3.10,<3.11.0a0'] -> sqlite[version='>=3.25.3,<4.0a0|>=3.26.0,<4.0a0|>=3.27.2,<4.0a0|>=3.28.0,<4.0a0|>=3.29.0,<4.0a0|>=3.30.1,<4.0a0|>=3.31.1,<4.0a0|>=3.33.0,<4.0a0|>=3.35.4,<4.0a0|>=3.36.0,<4.0a0|>=3.38.0,<4.0a0|>=3.38.2,<4.0a0|>=3.32.3,<4.0a0|>=3.30.0,<4.0a0|>=3.35.1,<4.0a0']\n",
      "pip -> python[version='>=3.8,<3.9.0a0'] -> sqlite[version='>=3.25.3,<4.0a0|>=3.26.0,<4.0a0|>=3.27.2,<4.0a0|>=3.28.0,<4.0a0|>=3.29.0,<4.0a0|>=3.30.0,<4.0a0|>=3.30.1,<4.0a0|>=3.31.1,<4.0a0|>=3.32.3,<4.0a0|>=3.33.0,<4.0a0|>=3.35.4,<4.0a0|>=3.36.0,<4.0a0|>=3.38.0,<4.0a0|>=3.38.2,<4.0a0|>=3.35.1,<4.0a0']\n",
      "ipykernel -> python[version='>=3.10,<3.11.0a0'] -> sqlite[version='>=3.25.3,<4.0a0|>=3.26.0,<4.0a0|>=3.27.2,<4.0a0|>=3.28.0,<4.0a0|>=3.29.0,<4.0a0|>=3.30.1,<4.0a0|>=3.31.1,<4.0a0|>=3.33.0,<4.0a0|>=3.36.0,<4.0a0|>=3.38.0,<4.0a0|>=3.35.4,<4.0a0|>=3.32.3,<4.0a0|>=3.30.0,<4.0a0|>=3.38.2,<4.0a0|>=3.35.1,<4.0a0']\n",
      "pywin32 -> python[version='>=3.8,<3.9.0a0'] -> sqlite[version='>=3.25.3,<4.0a0|>=3.26.0,<4.0a0|>=3.27.2,<4.0a0|>=3.28.0,<4.0a0|>=3.29.0,<4.0a0|>=3.30.0,<4.0a0|>=3.30.1,<4.0a0|>=3.31.1,<4.0a0|>=3.32.3,<4.0a0|>=3.33.0,<4.0a0|>=3.35.4,<4.0a0|>=3.36.0,<4.0a0|>=3.38.0,<4.0a0|>=3.38.2,<4.0a0|>=3.35.1,<4.0a0']\n",
      "python_abi -> python=3.9 -> sqlite[version='>=3.33.0,<4.0a0|>=3.35.4,<4.0a0|>=3.36.0,<4.0a0|>=3.38.0,<4.0a0|>=3.38.2,<4.0a0']\n",
      "stack_data -> python[version='>=3.5'] -> sqlite[version='>=3.25.3,<4.0a0|>=3.26.0,<4.0a0|>=3.27.2,<4.0a0|>=3.28.0,<4.0a0|>=3.29.0,<4.0a0|>=3.30.0,<4.0a0|>=3.30.1,<4.0a0|>=3.31.1,<4.0a0|>=3.32.3,<4.0a0|>=3.33.0,<4.0a0|>=3.35.4,<4.0a0|>=3.36.0,<4.0a0|>=3.38.0,<4.0a0|>=3.38.2,<4.0a0|>=3.35.1,<4.0a0']\n",
      "six -> python -> sqlite[version='>=3.25.3,<4.0a0|>=3.26.0,<4.0a0|>=3.27.2,<4.0a0|>=3.28.0,<4.0a0|>=3.29.0,<4.0a0|>=3.30.0,<4.0a0|>=3.30.1,<4.0a0|>=3.31.1,<4.0a0|>=3.32.3,<4.0a0|>=3.33.0,<4.0a0|>=3.35.4,<4.0a0|>=3.36.0,<4.0a0|>=3.38.0,<4.0a0|>=3.38.2,<4.0a0|>=3.35.1,<4.0a0']\n",
      "tornado -> python[version='>=3.10,<3.11.0a0'] -> sqlite[version='>=3.25.3,<4.0a0|>=3.26.0,<4.0a0|>=3.29.0,<4.0a0|>=3.30.0,<4.0a0|>=3.30.1,<4.0a0|>=3.31.1,<4.0a0|>=3.32.3,<4.0a0|>=3.33.0,<4.0a0|>=3.35.4,<4.0a0|>=3.36.0,<4.0a0|>=3.38.0,<4.0a0|>=3.35.1,<4.0a0|>=3.28.0,<4.0a0|>=3.27.2,<4.0a0|>=3.38.2,<4.0a0']\n",
      "jupyter_core -> python[version='>=3.9,<3.10.0a0'] -> sqlite[version='>=3.25.3,<4.0a0|>=3.26.0,<4.0a0|>=3.27.2,<4.0a0|>=3.28.0,<4.0a0|>=3.29.0,<4.0a0|>=3.30.0,<4.0a0|>=3.30.1,<4.0a0|>=3.31.1,<4.0a0|>=3.32.3,<4.0a0|>=3.33.0,<4.0a0|>=3.35.4,<4.0a0|>=3.36.0,<4.0a0|>=3.38.0,<4.0a0|>=3.38.2,<4.0a0|>=3.35.1,<4.0a0']\n",
      "pyzmq -> python[version='>=3.10,<3.11.0a0'] -> sqlite[version='>=3.25.3,<4.0a0|>=3.26.0,<4.0a0|>=3.27.2,<4.0a0|>=3.28.0,<4.0a0|>=3.29.0,<4.0a0|>=3.30.0,<4.0a0|>=3.30.1,<4.0a0|>=3.31.1,<4.0a0|>=3.32.3,<4.0a0|>=3.33.0,<4.0a0|>=3.35.4,<4.0a0|>=3.36.0,<4.0a0|>=3.38.0,<4.0a0|>=3.38.2,<4.0a0|>=3.35.1,<4.0a0']\n",
      "wheel -> python -> sqlite[version='>=3.25.3,<4.0a0|>=3.26.0,<4.0a0|>=3.27.2,<4.0a0|>=3.28.0,<4.0a0|>=3.29.0,<4.0a0|>=3.30.0,<4.0a0|>=3.30.1,<4.0a0|>=3.31.1,<4.0a0|>=3.32.3,<4.0a0|>=3.33.0,<4.0a0|>=3.35.4,<4.0a0|>=3.36.0,<4.0a0|>=3.38.0,<4.0a0|>=3.38.2,<4.0a0|>=3.35.1,<4.0a0']\n",
      "executing -> python[version='>=2.7'] -> sqlite[version='>=3.25.3,<4.0a0|>=3.26.0,<4.0a0|>=3.27.2,<4.0a0|>=3.28.0,<4.0a0|>=3.29.0,<4.0a0|>=3.30.0,<4.0a0|>=3.30.1,<4.0a0|>=3.31.1,<4.0a0|>=3.32.3,<4.0a0|>=3.33.0,<4.0a0|>=3.35.4,<4.0a0|>=3.36.0,<4.0a0|>=3.38.0,<4.0a0|>=3.38.2,<4.0a0|>=3.35.1,<4.0a0']\n",
      "certifi -> python[version='>=3.8,<3.9.0a0'] -> sqlite[version='>=3.25.3,<4.0a0|>=3.26.0,<4.0a0|>=3.27.2,<4.0a0|>=3.28.0,<4.0a0|>=3.29.0,<4.0a0|>=3.30.0,<4.0a0|>=3.30.1,<4.0a0|>=3.31.1,<4.0a0|>=3.32.3,<4.0a0|>=3.33.0,<4.0a0|>=3.35.4,<4.0a0|>=3.36.0,<4.0a0|>=3.38.0,<4.0a0|>=3.38.2,<4.0a0|>=3.35.1,<4.0a0']\n",
      "jpype1 -> python[version='>=3.9,<3.10.0a0'] -> sqlite[version='>=3.25.3,<4.0a0|>=3.26.0,<4.0a0|>=3.29.0,<4.0a0|>=3.30.1,<4.0a0|>=3.31.1,<4.0a0|>=3.33.0,<4.0a0|>=3.35.4,<4.0a0|>=3.36.0,<4.0a0|>=3.38.0,<4.0a0|>=3.38.2,<4.0a0|>=3.35.1,<4.0a0|>=3.32.3,<4.0a0|>=3.30.0,<4.0a0|>=3.28.0,<4.0a0|>=3.27.2,<4.0a0']\n",
      "numpy -> python[version='>=3.9,<3.10.0a0'] -> sqlite[version='>=3.25.3,<4.0a0|>=3.26.0,<4.0a0|>=3.27.2,<4.0a0|>=3.28.0,<4.0a0|>=3.29.0,<4.0a0|>=3.30.0,<4.0a0|>=3.30.1,<4.0a0|>=3.31.1,<4.0a0|>=3.32.3,<4.0a0|>=3.33.0,<4.0a0|>=3.35.4,<4.0a0|>=3.36.0,<4.0a0|>=3.38.0,<4.0a0|>=3.38.2,<4.0a0|>=3.35.1,<4.0a0']\n",
      "asttokens -> python[version='>=3.5'] -> sqlite[version='>=3.25.3,<4.0a0|>=3.26.0,<4.0a0|>=3.27.2,<4.0a0|>=3.28.0,<4.0a0|>=3.29.0,<4.0a0|>=3.30.0,<4.0a0|>=3.30.1,<4.0a0|>=3.31.1,<4.0a0|>=3.32.3,<4.0a0|>=3.33.0,<4.0a0|>=3.35.4,<4.0a0|>=3.36.0,<4.0a0|>=3.38.0,<4.0a0|>=3.38.2,<4.0a0|>=3.35.1,<4.0a0']\n",
      "wcwidth -> python -> sqlite[version='>=3.25.3,<4.0a0|>=3.26.0,<4.0a0|>=3.27.2,<4.0a0|>=3.28.0,<4.0a0|>=3.29.0,<4.0a0|>=3.30.0,<4.0a0|>=3.30.1,<4.0a0|>=3.31.1,<4.0a0|>=3.32.3,<4.0a0|>=3.33.0,<4.0a0|>=3.35.4,<4.0a0|>=3.36.0,<4.0a0|>=3.38.0,<4.0a0|>=3.38.2,<4.0a0|>=3.35.1,<4.0a0']\n",
      "backcall -> python -> sqlite[version='>=3.25.3,<4.0a0|>=3.26.0,<4.0a0|>=3.27.2,<4.0a0|>=3.28.0,<4.0a0|>=3.29.0,<4.0a0|>=3.30.0,<4.0a0|>=3.30.1,<4.0a0|>=3.31.1,<4.0a0|>=3.32.3,<4.0a0|>=3.33.0,<4.0a0|>=3.35.4,<4.0a0|>=3.36.0,<4.0a0|>=3.38.0,<4.0a0|>=3.38.2,<4.0a0|>=3.35.1,<4.0a0']\n",
      "setuptools -> python[version='>=3.10,<3.11.0a0'] -> sqlite[version='>=3.25.3,<4.0a0|>=3.26.0,<4.0a0|>=3.27.2,<4.0a0|>=3.28.0,<4.0a0|>=3.29.0,<4.0a0|>=3.30.1,<4.0a0|>=3.31.1,<4.0a0|>=3.33.0,<4.0a0|>=3.35.4,<4.0a0|>=3.36.0,<4.0a0|>=3.38.0,<4.0a0|>=3.38.2,<4.0a0|>=3.32.3,<4.0a0|>=3.30.0,<4.0a0|>=3.35.1,<4.0a0']\n",
      "pygments -> python[version='>=3.5'] -> sqlite[version='>=3.25.3,<4.0a0|>=3.26.0,<4.0a0|>=3.27.2,<4.0a0|>=3.28.0,<4.0a0|>=3.29.0,<4.0a0|>=3.30.0,<4.0a0|>=3.30.1,<4.0a0|>=3.31.1,<4.0a0|>=3.32.3,<4.0a0|>=3.33.0,<4.0a0|>=3.35.4,<4.0a0|>=3.36.0,<4.0a0|>=3.38.0,<4.0a0|>=3.38.2,<4.0a0|>=3.35.1,<4.0a0']\n",
      "parso -> python[version='>=3.6'] -> sqlite[version='>=3.25.3,<4.0a0|>=3.26.0,<4.0a0|>=3.27.2,<4.0a0|>=3.28.0,<4.0a0|>=3.29.0,<4.0a0|>=3.30.0,<4.0a0|>=3.30.1,<4.0a0|>=3.31.1,<4.0a0|>=3.32.3,<4.0a0|>=3.33.0,<4.0a0|>=3.35.4,<4.0a0|>=3.36.0,<4.0a0|>=3.38.0,<4.0a0|>=3.38.2,<4.0a0|>=3.35.1,<4.0a0']\n",
      "traitlets -> python[version='>=3.7'] -> sqlite[version='>=3.25.3,<4.0a0|>=3.26.0,<4.0a0|>=3.27.2,<4.0a0|>=3.28.0,<4.0a0|>=3.29.0,<4.0a0|>=3.30.0,<4.0a0|>=3.30.1,<4.0a0|>=3.31.1,<4.0a0|>=3.32.3,<4.0a0|>=3.33.0,<4.0a0|>=3.35.4,<4.0a0|>=3.36.0,<4.0a0|>=3.38.0,<4.0a0|>=3.38.2,<4.0a0|>=3.35.1,<4.0a0']\n",
      "pickleshare -> python[version='>=3'] -> sqlite[version='>=3.25.3,<4.0a0|>=3.26.0,<4.0a0|>=3.27.2,<4.0a0|>=3.28.0,<4.0a0|>=3.29.0,<4.0a0|>=3.30.0,<4.0a0|>=3.30.1,<4.0a0|>=3.31.1,<4.0a0|>=3.32.3,<4.0a0|>=3.33.0,<4.0a0|>=3.35.4,<4.0a0|>=3.36.0,<4.0a0|>=3.38.0,<4.0a0|>=3.38.2,<4.0a0|>=3.35.1,<4.0a0']\n",
      "ipython -> python[version='>=3.8,<3.9.0a0'] -> sqlite[version='>=3.25.3,<4.0a0|>=3.26.0,<4.0a0|>=3.27.2,<4.0a0|>=3.28.0,<4.0a0|>=3.29.0,<4.0a0|>=3.30.0,<4.0a0|>=3.30.1,<4.0a0|>=3.31.1,<4.0a0|>=3.32.3,<4.0a0|>=3.33.0,<4.0a0|>=3.35.4,<4.0a0|>=3.36.0,<4.0a0|>=3.38.0,<4.0a0|>=3.38.2,<4.0a0|>=3.35.1,<4.0a0']\n",
      "python-dateutil -> python -> sqlite[version='>=3.25.3,<4.0a0|>=3.26.0,<4.0a0|>=3.27.2,<4.0a0|>=3.28.0,<4.0a0|>=3.29.0,<4.0a0|>=3.30.0,<4.0a0|>=3.30.1,<4.0a0|>=3.31.1,<4.0a0|>=3.32.3,<4.0a0|>=3.33.0,<4.0a0|>=3.35.4,<4.0a0|>=3.36.0,<4.0a0|>=3.38.0,<4.0a0|>=3.38.2,<4.0a0|>=3.35.1,<4.0a0']\n",
      "sqlite\n",
      "jupyter_client -> python[version='>=3.8,<3.9.0a0'] -> sqlite[version='>=3.25.3,<4.0a0|>=3.26.0,<4.0a0|>=3.27.2,<4.0a0|>=3.28.0,<4.0a0|>=3.29.0,<4.0a0|>=3.30.0,<4.0a0|>=3.30.1,<4.0a0|>=3.31.1,<4.0a0|>=3.32.3,<4.0a0|>=3.33.0,<4.0a0|>=3.35.4,<4.0a0|>=3.36.0,<4.0a0|>=3.38.0,<4.0a0|>=3.38.2,<4.0a0|>=3.35.1,<4.0a0']\n",
      "prompt-toolkit -> python -> sqlite[version='>=3.25.3,<4.0a0|>=3.26.0,<4.0a0|>=3.27.2,<4.0a0|>=3.28.0,<4.0a0|>=3.29.0,<4.0a0|>=3.30.0,<4.0a0|>=3.30.1,<4.0a0|>=3.31.1,<4.0a0|>=3.32.3,<4.0a0|>=3.33.0,<4.0a0|>=3.35.4,<4.0a0|>=3.36.0,<4.0a0|>=3.38.0,<4.0a0|>=3.38.2,<4.0a0|>=3.35.1,<4.0a0']\n",
      "entrypoints -> python[version='>=3.10,<3.11.0a0'] -> sqlite[version='>=3.25.3,<4.0a0|>=3.26.0,<4.0a0|>=3.27.2,<4.0a0|>=3.28.0,<4.0a0|>=3.29.0,<4.0a0|>=3.30.1,<4.0a0|>=3.31.1,<4.0a0|>=3.33.0,<4.0a0|>=3.36.0,<4.0a0|>=3.38.0,<4.0a0|>=3.38.2,<4.0a0|>=3.35.4,<4.0a0|>=3.32.3,<4.0a0|>=3.30.0,<4.0a0|>=3.35.1,<4.0a0']\n",
      "decorator -> python[version='>=3.5'] -> sqlite[version='>=3.25.3,<4.0a0|>=3.26.0,<4.0a0|>=3.27.2,<4.0a0|>=3.28.0,<4.0a0|>=3.29.0,<4.0a0|>=3.30.0,<4.0a0|>=3.30.1,<4.0a0|>=3.31.1,<4.0a0|>=3.32.3,<4.0a0|>=3.33.0,<4.0a0|>=3.35.4,<4.0a0|>=3.36.0,<4.0a0|>=3.38.0,<4.0a0|>=3.38.2,<4.0a0|>=3.35.1,<4.0a0']\n",
      "nest-asyncio -> python[version='>=3.10,<3.11.0a0'] -> sqlite[version='>=3.25.3,<4.0a0|>=3.26.0,<4.0a0|>=3.27.2,<4.0a0|>=3.28.0,<4.0a0|>=3.29.0,<4.0a0|>=3.30.1,<4.0a0|>=3.31.1,<4.0a0|>=3.33.0,<4.0a0|>=3.36.0,<4.0a0|>=3.38.0,<4.0a0|>=3.35.4,<4.0a0|>=3.32.3,<4.0a0|>=3.30.0,<4.0a0|>=3.38.2,<4.0a0|>=3.35.1,<4.0a0']\n",
      "wincertstore -> python[version='>=3.7,<3.8.0a0'] -> sqlite[version='>=3.25.3,<4.0a0|>=3.26.0,<4.0a0|>=3.27.2,<4.0a0|>=3.28.0,<4.0a0|>=3.29.0,<4.0a0|>=3.30.1,<4.0a0|>=3.31.1,<4.0a0|>=3.33.0,<4.0a0|>=3.36.0,<4.0a0|>=3.38.0,<4.0a0|>=3.38.2,<4.0a0|>=3.35.4,<4.0a0|>=3.32.3,<4.0a0|>=3.30.0,<4.0a0|>=3.35.1,<4.0a0']\n",
      "dlib -> python[version='>=3.9,<3.10.0a0'] -> sqlite[version='>=3.33.0,<4.0a0|>=3.35.4,<4.0a0|>=3.36.0,<4.0a0|>=3.38.0,<4.0a0|>=3.38.2,<4.0a0']\n",
      "matplotlib-inline -> python[version='>=3.6'] -> sqlite[version='>=3.25.3,<4.0a0|>=3.26.0,<4.0a0|>=3.27.2,<4.0a0|>=3.28.0,<4.0a0|>=3.29.0,<4.0a0|>=3.30.0,<4.0a0|>=3.30.1,<4.0a0|>=3.31.1,<4.0a0|>=3.32.3,<4.0a0|>=3.33.0,<4.0a0|>=3.35.4,<4.0a0|>=3.36.0,<4.0a0|>=3.38.0,<4.0a0|>=3.38.2,<4.0a0|>=3.35.1,<4.0a0']\n",
      "jedi -> python[version='>=3.10,<3.11.0a0'] -> sqlite[version='>=3.25.3,<4.0a0|>=3.26.0,<4.0a0|>=3.27.2,<4.0a0|>=3.28.0,<4.0a0|>=3.29.0,<4.0a0|>=3.30.0,<4.0a0|>=3.30.1,<4.0a0|>=3.31.1,<4.0a0|>=3.32.3,<4.0a0|>=3.33.0,<4.0a0|>=3.35.4,<4.0a0|>=3.36.0,<4.0a0|>=3.38.0,<4.0a0|>=3.38.2,<4.0a0|>=3.35.1,<4.0a0']\n",
      "\n",
      "Package python-dateutil conflicts for:\n",
      "jupyter_client -> python-dateutil[version='>=2.1|>=2.8.2']\n",
      "ipykernel -> jupyter_client[version='<8.0'] -> python-dateutil[version='>=2.1|>=2.8.2']\n",
      "python-dateutil\n",
      "\n",
      "Package libblas conflicts for:\n",
      "liblapack -> libblas==3.9.0=15_win64_mkl\n",
      "libcblas -> libblas==3.9.0=15_win64_mkl\n",
      "libblas\n",
      "numpy -> libblas[version='>=3.9.0,<4.0a0']\n",
      "numpy -> libcblas[version='>=3.9.0,<4.0a0'] -> libblas==3.9.0=15_win64_mkl\n",
      "torchaudio -> numpy[version='>=1.11'] -> libblas[version='>=3.9.0,<4.0a0']\n",
      "dlib -> numpy[version='>=1.19.5,<2.0a0'] -> libblas[version='>=3.9.0,<4.0a0']\n",
      "\n",
      "Package vc conflicts for:\n",
      "numpy -> vc[version='14.*|9.*|>=14.1,<15|>=14.1,<15.0a0']\n",
      "pure_eval -> python[version='>=3.5'] -> vc[version='14.*|>=14.1,<15.0a0']\n",
      "jpeg -> vc[version='14.*|>=14.1,<15|>=14.1,<15.0a0|9.*']\n",
      "nest-asyncio -> python[version='>=3.10,<3.11.0a0'] -> vc[version='14.*|>=14.1,<15.0a0']\n",
      "six -> python -> vc[version='14.*|>=14.1,<15.0a0|9.*']\n",
      "sqlite -> vc[version='14.*|9.*|>=14.1,<15.0a0']\n",
      "libzlib -> vc[version='>=14.1,<15']\n",
      "pickleshare -> python[version='>=3'] -> vc[version='14.*|>=14.1,<15.0a0|9.*']\n",
      "vc\n",
      "jupyter_core -> python[version='>=3.9,<3.10.0a0'] -> vc[version='14.*|9.*|>=14.1,<15.0a0|>=14.2,<15.0a0']\n",
      "debugpy -> python[version='>=3.7,<3.8.0a0'] -> vc=14\n",
      "wincertstore -> vc[version='>=14.1,<15.0a0']\n",
      "jpype1 -> vc[version='>=14.1,<15|>=14.1,<15.0a0']\n",
      "stack_data -> python[version='>=3.5'] -> vc[version='14.*|>=14.1,<15.0a0']\n",
      "entrypoints -> python[version='>=3.10,<3.11.0a0'] -> vc[version='14.*|>=14.1,<15.0a0|9.*']\n",
      "wcwidth -> python -> vc[version='14.*|>=14.1,<15.0a0|9.*']\n",
      "tbb -> vc[version='14.*|9.*|>=14.1,<15|>=14.1,<15.0a0']\n",
      "mkl -> tbb=2021 -> vc[version='>=14.1,<15|>=14.1,<15.0a0']\n",
      "setuptools -> python[version='>=3.10,<3.11.0a0'] -> vc[version='14.*|>=14.1,<15.0a0|9.*']\n",
      "tornado -> vc[version='14.*|>=14.1,<15.0a0|9.*']\n",
      "dlib -> vc[version='>=14.1,<15']\n",
      "python=3.9 -> openssl[version='>=1.1.1n,<1.1.2a'] -> vc[version='>=14.1,<15']\n",
      "traitlets -> python[version='>=3.7'] -> vc[version='14.*|>=14.1,<15.0a0|9.*']\n",
      "certifi -> python[version='>=3.8,<3.9.0a0'] -> vc[version='14.*|>=14.1,<15.0a0|9.*']\n",
      "pygments -> python[version='>=3.5'] -> vc[version='14.*|>=14.1,<15.0a0|9.*']\n",
      "python-dateutil -> python -> vc[version='14.*|>=14.1,<15.0a0|9.*']\n",
      "pywin32 -> vc[version='14.*|9.*|>=14.1,<15.0a0|>=14.2,<15.0a0']\n",
      "asttokens -> python[version='>=3.5'] -> vc[version='14.*|>=14.1,<15.0a0']\n",
      "ipython -> python[version='>=3.8,<3.9.0a0'] -> vc[version='14.*|>=14.1,<15.0a0|9.*']\n",
      "executing -> python[version='>=2.7'] -> vc[version='14.*|>=14.1,<15.0a0|9.*']\n",
      "decorator -> python[version='>=3.5'] -> vc[version='14.*|>=14.1,<15.0a0|9.*']\n",
      "backcall -> python -> vc[version='14.*|>=14.1,<15.0a0|9.*']\n",
      "python=3.9 -> vc[version='>=14.1,<15.0a0']\n",
      "ipykernel -> debugpy[version='>=1.0.0,<2.0'] -> vc[version='14.*|>=14.1,<15.0a0|9.*']\n",
      "jupyter_client -> python[version='>=3.8,<3.9.0a0'] -> vc[version='14.*|>=14.1,<15.0a0|9.*|>=14.2,<15.0a0']\n",
      "pyzmq -> vc[version='14.*|9.*|>=14.1,<15.0a0']\n",
      "debugpy -> vc[version='>=14.1,<15.0a0']\n",
      "openssl -> vc[version='14.*|9.*|>=14.1,<15|>=14.1,<15.0a0']\n",
      "zlib -> vc[version='14.*|9.*|>=14.1,<15|>=14.1,<15.0a0']\n",
      "wincertstore -> python[version='>=3.7,<3.8.0a0'] -> vc[version='14.*|9.*']\n",
      "jedi -> python[version='>=3.10,<3.11.0a0'] -> vc[version='14.*|>=14.1,<15.0a0|9.*']\n",
      "jpype1 -> python[version='>=3.6,<3.7.0a0'] -> vc=14\n",
      "python_abi -> python=3.9 -> vc[version='>=14.1,<15.0a0']\n",
      "colorama -> python[version='>=3.9,<3.10.0a0'] -> vc[version='14.*|>=14.1,<15.0a0|9.*']\n",
      "zeromq -> vc[version='14.*|9.*|>=14.1,<15.0a0']\n",
      "parso -> python[version='>=3.6'] -> vc[version='14.*|>=14.1,<15.0a0|9.*']\n",
      "dlib -> jpeg[version='>=9e,<10a'] -> vc[version='9.*|>=14.1,<15.0a0']\n",
      "prompt-toolkit -> python -> vc[version='14.*|>=14.1,<15.0a0|9.*']\n",
      "pip -> python[version='>=3.8,<3.9.0a0'] -> vc[version='14.*|>=14.1,<15.0a0|9.*']\n",
      "libsodium -> vc[version='14.*|9.*|>=14.1,<15.0a0']\n",
      "libpng -> vc[version='14.*|9.*|>=14.1,<15|>=14.1,<15.0a0']\n",
      "sqlite -> zlib[version='>=1.2.11,<1.3.0a0'] -> vc[version='>=14.1,<15']\n",
      "wheel -> python -> vc[version='14.*|>=14.1,<15.0a0|9.*']\n",
      "matplotlib-inline -> python[version='>=3.6'] -> vc[version='14.*|>=14.1,<15.0a0']\n",
      "\n",
      "Package libffi conflicts for:\n",
      "nest-asyncio -> python[version='>=3.10,<3.11.0a0'] -> libffi[version='>=3.4,<4.0a0']\n",
      "entrypoints -> python[version='>=3.10,<3.11.0a0'] -> libffi[version='>=3.4,<4.0a0']\n",
      "stack_data -> python[version='>=3.5'] -> libffi[version='>=3.4,<4.0a0']\n",
      "debugpy -> python[version='>=3.10,<3.11.0a0'] -> libffi[version='>=3.4,<4.0a0']\n",
      "six -> python -> libffi[version='>=3.4,<4.0a0']\n",
      "ipykernel -> python[version='>=3.10,<3.11.0a0'] -> libffi[version='>=3.4,<4.0a0']\n",
      "jupyter_core -> python[version='>=3.10,<3.11.0a0'] -> libffi[version='>=3.4,<4.0a0']\n",
      "executing -> python[version='>=2.7'] -> libffi[version='>=3.4,<4.0a0']\n",
      "pyzmq -> python[version='>=3.10,<3.11.0a0'] -> libffi[version='>=3.4,<4.0a0']\n",
      "wheel -> python -> libffi[version='>=3.4,<4.0a0']\n",
      "tornado -> python[version='>=3.10,<3.11.0a0'] -> libffi[version='>=3.4,<4.0a0']\n",
      "wcwidth -> python -> libffi[version='>=3.4,<4.0a0']\n",
      "torchaudio -> python[version='>=3.10,<3.11.0a0'] -> libffi[version='>=3.4,<4.0a0']\n",
      "asttokens -> python[version='>=3.5'] -> libffi[version='>=3.4,<4.0a0']\n",
      "backcall -> python -> libffi[version='>=3.4,<4.0a0']\n",
      "jpype1 -> python[version='>=3.10,<3.11.0a0'] -> libffi[version='>=3.4,<4.0a0']\n",
      "pickleshare -> python[version='>=3'] -> libffi[version='>=3.4,<4.0a0']\n",
      "traitlets -> python[version='>=3.7'] -> libffi[version='>=3.4,<4.0a0']\n",
      "pygments -> python[version='>=3.5'] -> libffi[version='>=3.4,<4.0a0']\n",
      "python-dateutil -> python -> libffi[version='>=3.4,<4.0a0']\n",
      "parso -> python[version='>=3.6'] -> libffi[version='>=3.4,<4.0a0']\n",
      "prompt-toolkit -> python -> libffi[version='>=3.4,<4.0a0']\n",
      "numpy -> python[version='>=3.10,<3.11.0a0'] -> libffi[version='>=3.4,<4.0a0']\n",
      "pip -> python[version='>=3.10,<3.11.0a0'] -> libffi[version='>=3.4,<4.0a0']\n",
      "decorator -> python[version='>=3.5'] -> libffi[version='>=3.4,<4.0a0']\n",
      "certifi -> python[version='>=3.10,<3.11.0a0'] -> libffi[version='>=3.4,<4.0a0']\n",
      "setuptools -> python[version='>=3.10,<3.11.0a0'] -> libffi[version='>=3.4,<4.0a0']\n",
      "jupyter_client -> python[version='>=3.10,<3.11.0a0'] -> libffi[version='>=3.4,<4.0a0']\n",
      "wincertstore -> python[version='>=3.10,<3.11.0a0'] -> libffi[version='>=3.4,<4.0a0']\n",
      "pywin32 -> python[version='>=3.10,<3.11.0a0'] -> libffi[version='>=3.4,<4.0a0']\n",
      "ipython -> python[version='>=3.10,<3.11.0a0'] -> libffi[version='>=3.4,<4.0a0']\n",
      "matplotlib-inline -> python[version='>=3.6'] -> libffi[version='>=3.4,<4.0a0']\n",
      "jedi -> python[version='>=3.10,<3.11.0a0'] -> libffi[version='>=3.4,<4.0a0']\n",
      "pure_eval -> python[version='>=3.5'] -> libffi[version='>=3.4,<4.0a0']\n",
      "colorama -> python[version='>=3.10,<3.11.0a0'] -> libffi[version='>=3.4,<4.0a0']\n",
      "\n",
      "Package openssl conflicts for:\n",
      "jedi -> python[version='>=3.10,<3.11.0a0'] -> openssl[version='>=1.1.1a,<1.1.2a|>=1.1.1b,<1.1.2a|>=1.1.1c,<1.1.2a|>=1.1.1d,<1.1.2a|>=1.1.1e,<1.1.2a|>=1.1.1f,<1.1.2a|>=1.1.1g,<1.1.2a|>=1.1.1h,<1.1.2a|>=1.1.1i,<1.1.2a|>=1.1.1j,<1.1.2a|>=1.1.1k,<1.1.2a|>=1.1.1l,<1.1.2a|>=1.1.1n,<1.1.2a']\n",
      "matplotlib-inline -> python[version='>=3.6'] -> openssl[version='>=1.1.1a,<1.1.2a|>=1.1.1b,<1.1.2a|>=1.1.1c,<1.1.2a|>=1.1.1d,<1.1.2a|>=1.1.1e,<1.1.2a|>=1.1.1f,<1.1.2a|>=1.1.1g,<1.1.2a|>=1.1.1h,<1.1.2a|>=1.1.1i,<1.1.2a|>=1.1.1j,<1.1.2a|>=1.1.1k,<1.1.2a|>=1.1.1l,<1.1.2a|>=1.1.1n,<1.1.2a']\n",
      "colorama -> python[version='>=3.9,<3.10.0a0'] -> openssl[version='>=1.1.1a,<1.1.2a|>=1.1.1b,<1.1.2a|>=1.1.1c,<1.1.2a|>=1.1.1d,<1.1.2a|>=1.1.1e,<1.1.2a|>=1.1.1f,<1.1.2a|>=1.1.1g,<1.1.2a|>=1.1.1h,<1.1.2a|>=1.1.1i,<1.1.2a|>=1.1.1j,<1.1.2a|>=1.1.1k,<1.1.2a|>=1.1.1l,<1.1.2a|>=1.1.1n,<1.1.2a']\n",
      "debugpy -> python[version='>=3.10,<3.11.0a0'] -> openssl[version='>=1.1.1a,<1.1.2a|>=1.1.1b,<1.1.2a|>=1.1.1c,<1.1.2a|>=1.1.1d,<1.1.2a|>=1.1.1e,<1.1.2a|>=1.1.1f,<1.1.2a|>=1.1.1g,<1.1.2a|>=1.1.1h,<1.1.2a|>=1.1.1i,<1.1.2a|>=1.1.1j,<1.1.2a|>=1.1.1k,<1.1.2a|>=1.1.1l,<1.1.2a|>=1.1.1n,<1.1.2a']\n",
      "pure_eval -> python[version='>=3.5'] -> openssl[version='>=1.1.1a,<1.1.2a|>=1.1.1b,<1.1.2a|>=1.1.1c,<1.1.2a|>=1.1.1d,<1.1.2a|>=1.1.1e,<1.1.2a|>=1.1.1f,<1.1.2a|>=1.1.1g,<1.1.2a|>=1.1.1h,<1.1.2a|>=1.1.1i,<1.1.2a|>=1.1.1j,<1.1.2a|>=1.1.1k,<1.1.2a|>=1.1.1l,<1.1.2a|>=1.1.1n,<1.1.2a']\n",
      "certifi -> python[version='>=3.8,<3.9.0a0'] -> openssl[version='>=1.1.1a,<1.1.2a|>=1.1.1b,<1.1.2a|>=1.1.1c,<1.1.2a|>=1.1.1d,<1.1.2a|>=1.1.1e,<1.1.2a|>=1.1.1f,<1.1.2a|>=1.1.1g,<1.1.2a|>=1.1.1j,<1.1.2a|>=1.1.1k,<1.1.2a|>=1.1.1l,<1.1.2a|>=1.1.1n,<1.1.2a|>=1.1.1i,<1.1.2a|>=1.1.1h,<1.1.2a']\n",
      "ipython -> python[version='>=3.8,<3.9.0a0'] -> openssl[version='>=1.1.1a,<1.1.2a|>=1.1.1b,<1.1.2a|>=1.1.1c,<1.1.2a|>=1.1.1d,<1.1.2a|>=1.1.1e,<1.1.2a|>=1.1.1f,<1.1.2a|>=1.1.1g,<1.1.2a|>=1.1.1j,<1.1.2a|>=1.1.1k,<1.1.2a|>=1.1.1l,<1.1.2a|>=1.1.1n,<1.1.2a|>=1.1.1i,<1.1.2a|>=1.1.1h,<1.1.2a']\n",
      "jupyter_client -> python[version='>=3.8,<3.9.0a0'] -> openssl[version='>=1.1.1a,<1.1.2a|>=1.1.1b,<1.1.2a|>=1.1.1c,<1.1.2a|>=1.1.1d,<1.1.2a|>=1.1.1e,<1.1.2a|>=1.1.1f,<1.1.2a|>=1.1.1g,<1.1.2a|>=1.1.1j,<1.1.2a|>=1.1.1k,<1.1.2a|>=1.1.1l,<1.1.2a|>=1.1.1n,<1.1.2a|>=1.1.1i,<1.1.2a|>=1.1.1h,<1.1.2a']\n",
      "openssl\n",
      "six -> python -> openssl[version='>=1.1.1a,<1.1.2a|>=1.1.1b,<1.1.2a|>=1.1.1c,<1.1.2a|>=1.1.1d,<1.1.2a|>=1.1.1e,<1.1.2a|>=1.1.1f,<1.1.2a|>=1.1.1g,<1.1.2a|>=1.1.1h,<1.1.2a|>=1.1.1i,<1.1.2a|>=1.1.1j,<1.1.2a|>=1.1.1k,<1.1.2a|>=1.1.1l,<1.1.2a|>=1.1.1n,<1.1.2a']\n",
      "jupyter_core -> python[version='>=3.9,<3.10.0a0'] -> openssl[version='>=1.1.1a,<1.1.2a|>=1.1.1b,<1.1.2a|>=1.1.1c,<1.1.2a|>=1.1.1d,<1.1.2a|>=1.1.1e,<1.1.2a|>=1.1.1f,<1.1.2a|>=1.1.1g,<1.1.2a|>=1.1.1h,<1.1.2a|>=1.1.1i,<1.1.2a|>=1.1.1j,<1.1.2a|>=1.1.1k,<1.1.2a|>=1.1.1l,<1.1.2a|>=1.1.1n,<1.1.2a']\n",
      "executing -> python[version='>=2.7'] -> openssl[version='>=1.1.1a,<1.1.2a|>=1.1.1b,<1.1.2a|>=1.1.1c,<1.1.2a|>=1.1.1d,<1.1.2a|>=1.1.1e,<1.1.2a|>=1.1.1f,<1.1.2a|>=1.1.1g,<1.1.2a|>=1.1.1h,<1.1.2a|>=1.1.1i,<1.1.2a|>=1.1.1j,<1.1.2a|>=1.1.1k,<1.1.2a|>=1.1.1l,<1.1.2a|>=1.1.1n,<1.1.2a']\n",
      "dlib -> python[version='>=3.9,<3.10.0a0'] -> openssl[version='>=1.1.1h,<1.1.2a|>=1.1.1i,<1.1.2a|>=1.1.1j,<1.1.2a|>=1.1.1k,<1.1.2a|>=1.1.1l,<1.1.2a|>=1.1.1n,<1.1.2a']\n",
      "wheel -> python -> openssl[version='>=1.1.1a,<1.1.2a|>=1.1.1b,<1.1.2a|>=1.1.1c,<1.1.2a|>=1.1.1d,<1.1.2a|>=1.1.1e,<1.1.2a|>=1.1.1f,<1.1.2a|>=1.1.1g,<1.1.2a|>=1.1.1h,<1.1.2a|>=1.1.1i,<1.1.2a|>=1.1.1j,<1.1.2a|>=1.1.1k,<1.1.2a|>=1.1.1l,<1.1.2a|>=1.1.1n,<1.1.2a']\n",
      "nest-asyncio -> python[version='>=3.10,<3.11.0a0'] -> openssl[version='>=1.1.1a,<1.1.2a|>=1.1.1b,<1.1.2a|>=1.1.1c,<1.1.2a|>=1.1.1d,<1.1.2a|>=1.1.1e,<1.1.2a|>=1.1.1f,<1.1.2a|>=1.1.1g,<1.1.2a|>=1.1.1j,<1.1.2a|>=1.1.1k,<1.1.2a|>=1.1.1l,<1.1.2a|>=1.1.1n,<1.1.2a|>=1.1.1i,<1.1.2a|>=1.1.1h,<1.1.2a']\n",
      "wcwidth -> python -> openssl[version='>=1.1.1a,<1.1.2a|>=1.1.1b,<1.1.2a|>=1.1.1c,<1.1.2a|>=1.1.1d,<1.1.2a|>=1.1.1e,<1.1.2a|>=1.1.1f,<1.1.2a|>=1.1.1g,<1.1.2a|>=1.1.1h,<1.1.2a|>=1.1.1i,<1.1.2a|>=1.1.1j,<1.1.2a|>=1.1.1k,<1.1.2a|>=1.1.1l,<1.1.2a|>=1.1.1n,<1.1.2a']\n",
      "asttokens -> python[version='>=3.5'] -> openssl[version='>=1.1.1a,<1.1.2a|>=1.1.1b,<1.1.2a|>=1.1.1c,<1.1.2a|>=1.1.1d,<1.1.2a|>=1.1.1e,<1.1.2a|>=1.1.1f,<1.1.2a|>=1.1.1g,<1.1.2a|>=1.1.1h,<1.1.2a|>=1.1.1i,<1.1.2a|>=1.1.1j,<1.1.2a|>=1.1.1k,<1.1.2a|>=1.1.1l,<1.1.2a|>=1.1.1n,<1.1.2a']\n",
      "stack_data -> python[version='>=3.5'] -> openssl[version='>=1.1.1a,<1.1.2a|>=1.1.1b,<1.1.2a|>=1.1.1c,<1.1.2a|>=1.1.1d,<1.1.2a|>=1.1.1e,<1.1.2a|>=1.1.1f,<1.1.2a|>=1.1.1g,<1.1.2a|>=1.1.1h,<1.1.2a|>=1.1.1i,<1.1.2a|>=1.1.1j,<1.1.2a|>=1.1.1k,<1.1.2a|>=1.1.1l,<1.1.2a|>=1.1.1n,<1.1.2a']\n",
      "numpy -> python[version='>=3.9,<3.10.0a0'] -> openssl[version='>=1.1.1a,<1.1.2a|>=1.1.1b,<1.1.2a|>=1.1.1c,<1.1.2a|>=1.1.1d,<1.1.2a|>=1.1.1e,<1.1.2a|>=1.1.1f,<1.1.2a|>=1.1.1g,<1.1.2a|>=1.1.1h,<1.1.2a|>=1.1.1i,<1.1.2a|>=1.1.1j,<1.1.2a|>=1.1.1k,<1.1.2a|>=1.1.1l,<1.1.2a|>=1.1.1n,<1.1.2a']\n",
      "backcall -> python -> openssl[version='>=1.1.1a,<1.1.2a|>=1.1.1b,<1.1.2a|>=1.1.1c,<1.1.2a|>=1.1.1d,<1.1.2a|>=1.1.1e,<1.1.2a|>=1.1.1f,<1.1.2a|>=1.1.1g,<1.1.2a|>=1.1.1h,<1.1.2a|>=1.1.1i,<1.1.2a|>=1.1.1j,<1.1.2a|>=1.1.1k,<1.1.2a|>=1.1.1l,<1.1.2a|>=1.1.1n,<1.1.2a']\n"
     ]
    }
   ],
   "source": [
    "!conda install pytorch=1.9.0 torchvision=0.10.0 torchaudio cudatoolkit=11.3 -c pytorch"
   ]
  },
  {
   "cell_type": "code",
   "execution_count": null,
   "metadata": {},
   "outputs": [],
   "source": []
  }
 ],
 "metadata": {
  "kernelspec": {
   "display_name": "Python 3.9.12 ('DYKK')",
   "language": "python",
   "name": "python3"
  },
  "language_info": {
   "codemirror_mode": {
    "name": "ipython",
    "version": 3
   },
   "file_extension": ".py",
   "mimetype": "text/x-python",
   "name": "python",
   "nbconvert_exporter": "python",
   "pygments_lexer": "ipython3",
   "version": "3.9.12"
  },
  "orig_nbformat": 4,
  "vscode": {
   "interpreter": {
    "hash": "e511d4faf69bee0056e33addf033598a2ee3776aac5110cba70288989677c2e9"
   }
  }
 },
 "nbformat": 4,
 "nbformat_minor": 2
}
