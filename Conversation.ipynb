{
 "cells": [
  {
   "cell_type": "markdown",
   "metadata": {},
   "source": [
    "### Error Analysis of koBERT"
   ]
  },
  {
   "cell_type": "code",
   "execution_count": 1,
   "metadata": {},
   "outputs": [],
   "source": [
    "import json\n",
    "import pandas as pd"
   ]
  },
  {
   "cell_type": "code",
   "execution_count": 2,
   "metadata": {},
   "outputs": [
    {
     "data": {
      "text/html": [
       "<div>\n",
       "<style scoped>\n",
       "    .dataframe tbody tr th:only-of-type {\n",
       "        vertical-align: middle;\n",
       "    }\n",
       "\n",
       "    .dataframe tbody tr th {\n",
       "        vertical-align: top;\n",
       "    }\n",
       "\n",
       "    .dataframe thead th {\n",
       "        text-align: right;\n",
       "    }\n",
       "</style>\n",
       "<table border=\"1\" class=\"dataframe\">\n",
       "  <thead>\n",
       "    <tr style=\"text-align: right;\">\n",
       "      <th></th>\n",
       "      <th>pred</th>\n",
       "      <th>label</th>\n",
       "      <th>big_sent</th>\n",
       "    </tr>\n",
       "  </thead>\n",
       "  <tbody>\n",
       "    <tr>\n",
       "      <th>0</th>\n",
       "      <td>가난한, 불우한</td>\n",
       "      <td>가난한, 불우한</td>\n",
       "      <td>상처</td>\n",
       "    </tr>\n",
       "    <tr>\n",
       "      <th>1</th>\n",
       "      <td>한심한</td>\n",
       "      <td>가난한, 불우한</td>\n",
       "      <td>상처</td>\n",
       "    </tr>\n",
       "    <tr>\n",
       "      <th>2</th>\n",
       "      <td>가난한, 불우한</td>\n",
       "      <td>가난한, 불우한</td>\n",
       "      <td>상처</td>\n",
       "    </tr>\n",
       "    <tr>\n",
       "      <th>3</th>\n",
       "      <td>두려운</td>\n",
       "      <td>가난한, 불우한</td>\n",
       "      <td>상처</td>\n",
       "    </tr>\n",
       "    <tr>\n",
       "      <th>4</th>\n",
       "      <td>가난한, 불우한</td>\n",
       "      <td>가난한, 불우한</td>\n",
       "      <td>상처</td>\n",
       "    </tr>\n",
       "    <tr>\n",
       "      <th>...</th>\n",
       "      <td>...</td>\n",
       "      <td>...</td>\n",
       "      <td>...</td>\n",
       "    </tr>\n",
       "    <tr>\n",
       "      <th>5125</th>\n",
       "      <td>희생된</td>\n",
       "      <td>희생된</td>\n",
       "      <td>상처</td>\n",
       "    </tr>\n",
       "    <tr>\n",
       "      <th>5126</th>\n",
       "      <td>상처</td>\n",
       "      <td>희생된</td>\n",
       "      <td>상처</td>\n",
       "    </tr>\n",
       "    <tr>\n",
       "      <th>5127</th>\n",
       "      <td>불안</td>\n",
       "      <td>희생된</td>\n",
       "      <td>상처</td>\n",
       "    </tr>\n",
       "    <tr>\n",
       "      <th>5128</th>\n",
       "      <td>희생된</td>\n",
       "      <td>희생된</td>\n",
       "      <td>상처</td>\n",
       "    </tr>\n",
       "    <tr>\n",
       "      <th>5129</th>\n",
       "      <td>후회되는</td>\n",
       "      <td>희생된</td>\n",
       "      <td>상처</td>\n",
       "    </tr>\n",
       "  </tbody>\n",
       "</table>\n",
       "<p>5130 rows × 3 columns</p>\n",
       "</div>"
      ],
      "text/plain": [
       "          pred     label big_sent\n",
       "0     가난한, 불우한  가난한, 불우한       상처\n",
       "1          한심한  가난한, 불우한       상처\n",
       "2     가난한, 불우한  가난한, 불우한       상처\n",
       "3          두려운  가난한, 불우한       상처\n",
       "4     가난한, 불우한  가난한, 불우한       상처\n",
       "...        ...       ...      ...\n",
       "5125       희생된       희생된       상처\n",
       "5126        상처       희생된       상처\n",
       "5127        불안       희생된       상처\n",
       "5128       희생된       희생된       상처\n",
       "5129      후회되는       희생된       상처\n",
       "\n",
       "[5130 rows x 3 columns]"
      ]
     },
     "execution_count": 2,
     "metadata": {},
     "output_type": "execute_result"
    }
   ],
   "source": [
    "data = pd.read_csv('./data/sent_pred_label.csv')\n",
    "data"
   ]
  },
  {
   "cell_type": "code",
   "execution_count": 3,
   "metadata": {},
   "outputs": [],
   "source": [
    "idx_to_sent = {0: '가난한, 불우한',\n",
    " 1: '감사하는',\n",
    " 2: '걱정스러운',\n",
    " 3: '고립된',\n",
    " 4: '괴로워하는',\n",
    " 5: '구역질 나는',\n",
    " 6: '기쁨',\n",
    " 7: '낙담한',\n",
    " 8: '남의 시선을 의식하는',\n",
    " 9: '노여워하는',\n",
    " 10: '눈물이 나는',\n",
    " 11: '느긋',\n",
    " 12: '당혹스러운',\n",
    " 13: '당황',\n",
    " 14: '두려운',\n",
    " 15: '마비된',\n",
    " 16: '만족스러운',\n",
    " 17: '방어적인',\n",
    " 18: '배신당한',\n",
    " 19: '버려진',\n",
    " 20: '부끄러운',\n",
    " 21: '분노',\n",
    " 22: '불안',\n",
    " 23: '비통한',\n",
    " 24: '상처',\n",
    " 25: '성가신',\n",
    " 26: '스트레스 받는',\n",
    " 27: '슬픔',\n",
    " 28: '신뢰하는',\n",
    " 29: '신이 난',\n",
    " 30: '실망한',\n",
    " 31: '악의적인',\n",
    " 32: '안달하는',\n",
    " 33: '안도',\n",
    " 34: '억울한',\n",
    " 35: '열등감',\n",
    " 36: '염세적인',\n",
    " 37: '외로운',\n",
    " 38: '우울한',\n",
    " 39: '자신하는',\n",
    " 40: '조심스러운',\n",
    " 41: '좌절한',\n",
    " 42: '죄책감의',\n",
    " 43: '질투하는',\n",
    " 44: '짜증내는',\n",
    " 45: '초조한',\n",
    " 46: '충격 받은',\n",
    " 47: '취약한',\n",
    " 48: '툴툴대는',\n",
    " 49: '편안한',\n",
    " 50: '한심한',\n",
    " 51: '혐오스러운',\n",
    " 52: '혼란스러운',\n",
    " 53: '환멸을 느끼는',\n",
    " 54: '회의적인',\n",
    " 55: '후회되는',\n",
    " 56: '흥분',\n",
    " 57: '희생된'}"
   ]
  },
  {
   "cell_type": "code",
   "execution_count": 4,
   "metadata": {},
   "outputs": [
    {
     "data": {
      "text/plain": [
       "{'가난한, 불우한': 0,\n",
       " '감사하는': 1,\n",
       " '걱정스러운': 2,\n",
       " '고립된': 3,\n",
       " '괴로워하는': 4,\n",
       " '구역질 나는': 5,\n",
       " '기쁨': 6,\n",
       " '낙담한': 7,\n",
       " '남의 시선을 의식하는': 8,\n",
       " '노여워하는': 9,\n",
       " '눈물이 나는': 10,\n",
       " '느긋': 11,\n",
       " '당혹스러운': 12,\n",
       " '당황': 13,\n",
       " '두려운': 14,\n",
       " '마비된': 15,\n",
       " '만족스러운': 16,\n",
       " '방어적인': 17,\n",
       " '배신당한': 18,\n",
       " '버려진': 19,\n",
       " '부끄러운': 20,\n",
       " '분노': 21,\n",
       " '불안': 22,\n",
       " '비통한': 23,\n",
       " '상처': 24,\n",
       " '성가신': 25,\n",
       " '스트레스 받는': 26,\n",
       " '슬픔': 27,\n",
       " '신뢰하는': 28,\n",
       " '신이 난': 29,\n",
       " '실망한': 30,\n",
       " '악의적인': 31,\n",
       " '안달하는': 32,\n",
       " '안도': 33,\n",
       " '억울한': 34,\n",
       " '열등감': 35,\n",
       " '염세적인': 36,\n",
       " '외로운': 37,\n",
       " '우울한': 38,\n",
       " '자신하는': 39,\n",
       " '조심스러운': 40,\n",
       " '좌절한': 41,\n",
       " '죄책감의': 42,\n",
       " '질투하는': 43,\n",
       " '짜증내는': 44,\n",
       " '초조한': 45,\n",
       " '충격 받은': 46,\n",
       " '취약한': 47,\n",
       " '툴툴대는': 48,\n",
       " '편안한': 49,\n",
       " '한심한': 50,\n",
       " '혐오스러운': 51,\n",
       " '혼란스러운': 52,\n",
       " '환멸을 느끼는': 53,\n",
       " '회의적인': 54,\n",
       " '후회되는': 55,\n",
       " '흥분': 56,\n",
       " '희생된': 57}"
      ]
     },
     "execution_count": 4,
     "metadata": {},
     "output_type": "execute_result"
    }
   ],
   "source": [
    "sent_to_idx = {}\n",
    "\n",
    "for k, v in idx_to_sent.items():\n",
    "    sent_to_idx[v] = k\n",
    "sent_to_idx"
   ]
  },
  {
   "cell_type": "code",
   "execution_count": 5,
   "metadata": {},
   "outputs": [],
   "source": [
    "idx_pred = []\n",
    "idx_label = []\n",
    "\n",
    "for pred in data['pred']:\n",
    "    idx_pred.append(sent_to_idx[pred])\n",
    "\n",
    "for label in data['label']:\n",
    "    idx_label.append(sent_to_idx[label])"
   ]
  },
  {
   "cell_type": "code",
   "execution_count": 6,
   "metadata": {},
   "outputs": [
    {
     "data": {
      "image/png": "[encoded data removed]",
      "text/plain": [
       "<Figure size 1152x1152 with 1 Axes>"
      ]
     },
     "metadata": {
      "needs_background": "light"
     },
     "output_type": "display_data"
    }
   ],
   "source": [
    "from sklearn.metrics import confusion_matrix\n",
    "import matplotlib.pyplot as plt\n",
    "\n",
    "conf_mx = confusion_matrix(idx_pred, idx_label)\n",
    "\n",
    "plt.rcParams['figure.figsize'] = (20, 20)\n",
    "plt.matshow(conf_mx, cmap=plt.cm.gray)\n",
    "plt.show()"
   ]
  },
  {
   "cell_type": "code",
   "execution_count": 7,
   "metadata": {},
   "outputs": [
    {
     "data": {
      "image/png": "[encoded data removed]",
      "text/plain": [
       "<Figure size 1152x1152 with 1 Axes>"
      ]
     },
     "metadata": {
      "needs_background": "light"
     },
     "output_type": "display_data"
    }
   ],
   "source": [
    "from matplotlib.pyplot import axes\n",
    "import numpy as np\n",
    "row_sums = conf_mx.sum(axis=1, keepdims=True)\n",
    "norm_conf_mx = conf_mx / row_sums\n",
    "\n",
    "np.fill_diagonal(norm_conf_mx, 0) # 다른 항목은 그대로 유지하고, 주대각선만 0으로 채움\n",
    "plt.matshow(norm_conf_mx, cmap=plt.cm.gray)\n",
    "plt.show()"
   ]
  },
  {
   "cell_type": "code",
   "execution_count": 8,
   "metadata": {},
   "outputs": [
    {
     "name": "stdout",
     "output_type": "stream",
     "text": [
      "낙담한\n",
      "남의 시선을 의식하는\n",
      "취약한\n"
     ]
    }
   ],
   "source": [
    "print(idx_to_sent[7])\n",
    "print(idx_to_sent[8])\n",
    "print(idx_to_sent[47])"
   ]
  },
  {
   "cell_type": "code",
   "execution_count": 9,
   "metadata": {},
   "outputs": [
    {
     "data": {
      "text/html": [
       "<div>\n",
       "<style scoped>\n",
       "    .dataframe tbody tr th:only-of-type {\n",
       "        vertical-align: middle;\n",
       "    }\n",
       "\n",
       "    .dataframe tbody tr th {\n",
       "        vertical-align: top;\n",
       "    }\n",
       "\n",
       "    .dataframe thead th {\n",
       "        text-align: right;\n",
       "    }\n",
       "</style>\n",
       "<table border=\"1\" class=\"dataframe\">\n",
       "  <thead>\n",
       "    <tr style=\"text-align: right;\">\n",
       "      <th></th>\n",
       "      <th>big_sent</th>\n",
       "      <th>sent</th>\n",
       "      <th>acc</th>\n",
       "      <th>total</th>\n",
       "      <th>score</th>\n",
       "    </tr>\n",
       "  </thead>\n",
       "  <tbody>\n",
       "    <tr>\n",
       "      <th>0</th>\n",
       "      <td>기쁨</td>\n",
       "      <td>흥분</td>\n",
       "      <td>18.0</td>\n",
       "      <td>61.0</td>\n",
       "      <td>0.295082</td>\n",
       "    </tr>\n",
       "    <tr>\n",
       "      <th>1</th>\n",
       "      <td>기쁨</td>\n",
       "      <td>기쁨</td>\n",
       "      <td>45.0</td>\n",
       "      <td>102.0</td>\n",
       "      <td>0.441176</td>\n",
       "    </tr>\n",
       "    <tr>\n",
       "      <th>2</th>\n",
       "      <td>기쁨</td>\n",
       "      <td>신이 난</td>\n",
       "      <td>41.0</td>\n",
       "      <td>91.0</td>\n",
       "      <td>0.450549</td>\n",
       "    </tr>\n",
       "    <tr>\n",
       "      <th>10</th>\n",
       "      <td>당황</td>\n",
       "      <td>혐오스러운</td>\n",
       "      <td>32.0</td>\n",
       "      <td>67.0</td>\n",
       "      <td>0.477612</td>\n",
       "    </tr>\n",
       "    <tr>\n",
       "      <th>11</th>\n",
       "      <td>당황</td>\n",
       "      <td>고립된</td>\n",
       "      <td>76.0</td>\n",
       "      <td>152.0</td>\n",
       "      <td>0.500000</td>\n",
       "    </tr>\n",
       "    <tr>\n",
       "      <th>12</th>\n",
       "      <td>당황</td>\n",
       "      <td>외로운</td>\n",
       "      <td>41.0</td>\n",
       "      <td>80.0</td>\n",
       "      <td>0.512500</td>\n",
       "    </tr>\n",
       "    <tr>\n",
       "      <th>19</th>\n",
       "      <td>분노</td>\n",
       "      <td>툴툴대는</td>\n",
       "      <td>27.0</td>\n",
       "      <td>95.0</td>\n",
       "      <td>0.284211</td>\n",
       "    </tr>\n",
       "    <tr>\n",
       "      <th>20</th>\n",
       "      <td>분노</td>\n",
       "      <td>방어적인</td>\n",
       "      <td>28.0</td>\n",
       "      <td>73.0</td>\n",
       "      <td>0.383562</td>\n",
       "    </tr>\n",
       "    <tr>\n",
       "      <th>21</th>\n",
       "      <td>분노</td>\n",
       "      <td>노여워하는</td>\n",
       "      <td>40.0</td>\n",
       "      <td>103.0</td>\n",
       "      <td>0.388350</td>\n",
       "    </tr>\n",
       "    <tr>\n",
       "      <th>22</th>\n",
       "      <td>분노</td>\n",
       "      <td>분노</td>\n",
       "      <td>34.0</td>\n",
       "      <td>86.0</td>\n",
       "      <td>0.395349</td>\n",
       "    </tr>\n",
       "    <tr>\n",
       "      <th>23</th>\n",
       "      <td>분노</td>\n",
       "      <td>안달하는</td>\n",
       "      <td>41.0</td>\n",
       "      <td>93.0</td>\n",
       "      <td>0.440860</td>\n",
       "    </tr>\n",
       "    <tr>\n",
       "      <th>24</th>\n",
       "      <td>분노</td>\n",
       "      <td>악의적인</td>\n",
       "      <td>33.0</td>\n",
       "      <td>70.0</td>\n",
       "      <td>0.471429</td>\n",
       "    </tr>\n",
       "    <tr>\n",
       "      <th>25</th>\n",
       "      <td>분노</td>\n",
       "      <td>좌절한</td>\n",
       "      <td>47.0</td>\n",
       "      <td>94.0</td>\n",
       "      <td>0.500000</td>\n",
       "    </tr>\n",
       "    <tr>\n",
       "      <th>29</th>\n",
       "      <td>불안</td>\n",
       "      <td>취약한</td>\n",
       "      <td>21.0</td>\n",
       "      <td>76.0</td>\n",
       "      <td>0.276316</td>\n",
       "    </tr>\n",
       "    <tr>\n",
       "      <th>30</th>\n",
       "      <td>불안</td>\n",
       "      <td>회의적인</td>\n",
       "      <td>37.0</td>\n",
       "      <td>83.0</td>\n",
       "      <td>0.445783</td>\n",
       "    </tr>\n",
       "    <tr>\n",
       "      <th>31</th>\n",
       "      <td>불안</td>\n",
       "      <td>걱정스러운</td>\n",
       "      <td>48.0</td>\n",
       "      <td>107.0</td>\n",
       "      <td>0.448598</td>\n",
       "    </tr>\n",
       "    <tr>\n",
       "      <th>32</th>\n",
       "      <td>불안</td>\n",
       "      <td>초조한</td>\n",
       "      <td>42.0</td>\n",
       "      <td>84.0</td>\n",
       "      <td>0.500000</td>\n",
       "    </tr>\n",
       "    <tr>\n",
       "      <th>33</th>\n",
       "      <td>불안</td>\n",
       "      <td>당혹스러운</td>\n",
       "      <td>47.0</td>\n",
       "      <td>87.0</td>\n",
       "      <td>0.540230</td>\n",
       "    </tr>\n",
       "    <tr>\n",
       "      <th>39</th>\n",
       "      <td>상처</td>\n",
       "      <td>가난한, 불우한</td>\n",
       "      <td>25.0</td>\n",
       "      <td>68.0</td>\n",
       "      <td>0.367647</td>\n",
       "    </tr>\n",
       "    <tr>\n",
       "      <th>40</th>\n",
       "      <td>상처</td>\n",
       "      <td>상처</td>\n",
       "      <td>40.0</td>\n",
       "      <td>95.0</td>\n",
       "      <td>0.421053</td>\n",
       "    </tr>\n",
       "    <tr>\n",
       "      <th>41</th>\n",
       "      <td>상처</td>\n",
       "      <td>버려진</td>\n",
       "      <td>32.0</td>\n",
       "      <td>70.0</td>\n",
       "      <td>0.457143</td>\n",
       "    </tr>\n",
       "    <tr>\n",
       "      <th>42</th>\n",
       "      <td>상처</td>\n",
       "      <td>괴로워하는</td>\n",
       "      <td>53.0</td>\n",
       "      <td>99.0</td>\n",
       "      <td>0.535354</td>\n",
       "    </tr>\n",
       "    <tr>\n",
       "      <th>48</th>\n",
       "      <td>슬픔</td>\n",
       "      <td>염세적인</td>\n",
       "      <td>26.0</td>\n",
       "      <td>82.0</td>\n",
       "      <td>0.317073</td>\n",
       "    </tr>\n",
       "    <tr>\n",
       "      <th>49</th>\n",
       "      <td>슬픔</td>\n",
       "      <td>슬픔</td>\n",
       "      <td>30.0</td>\n",
       "      <td>86.0</td>\n",
       "      <td>0.348837</td>\n",
       "    </tr>\n",
       "    <tr>\n",
       "      <th>50</th>\n",
       "      <td>슬픔</td>\n",
       "      <td>비통한</td>\n",
       "      <td>28.0</td>\n",
       "      <td>71.0</td>\n",
       "      <td>0.394366</td>\n",
       "    </tr>\n",
       "    <tr>\n",
       "      <th>51</th>\n",
       "      <td>슬픔</td>\n",
       "      <td>낙담한</td>\n",
       "      <td>34.0</td>\n",
       "      <td>85.0</td>\n",
       "      <td>0.400000</td>\n",
       "    </tr>\n",
       "    <tr>\n",
       "      <th>52</th>\n",
       "      <td>슬픔</td>\n",
       "      <td>마비된</td>\n",
       "      <td>37.0</td>\n",
       "      <td>75.0</td>\n",
       "      <td>0.493333</td>\n",
       "    </tr>\n",
       "    <tr>\n",
       "      <th>53</th>\n",
       "      <td>슬픔</td>\n",
       "      <td>환멸을 느끼는</td>\n",
       "      <td>43.0</td>\n",
       "      <td>84.0</td>\n",
       "      <td>0.511905</td>\n",
       "    </tr>\n",
       "  </tbody>\n",
       "</table>\n",
       "</div>"
      ],
      "text/plain": [
       "   big_sent      sent   acc  total     score\n",
       "0        기쁨        흥분  18.0   61.0  0.295082\n",
       "1        기쁨        기쁨  45.0  102.0  0.441176\n",
       "2        기쁨      신이 난  41.0   91.0  0.450549\n",
       "10       당황     혐오스러운  32.0   67.0  0.477612\n",
       "11       당황       고립된  76.0  152.0  0.500000\n",
       "12       당황       외로운  41.0   80.0  0.512500\n",
       "19       분노      툴툴대는  27.0   95.0  0.284211\n",
       "20       분노      방어적인  28.0   73.0  0.383562\n",
       "21       분노     노여워하는  40.0  103.0  0.388350\n",
       "22       분노        분노  34.0   86.0  0.395349\n",
       "23       분노      안달하는  41.0   93.0  0.440860\n",
       "24       분노      악의적인  33.0   70.0  0.471429\n",
       "25       분노       좌절한  47.0   94.0  0.500000\n",
       "29       불안       취약한  21.0   76.0  0.276316\n",
       "30       불안      회의적인  37.0   83.0  0.445783\n",
       "31       불안     걱정스러운  48.0  107.0  0.448598\n",
       "32       불안       초조한  42.0   84.0  0.500000\n",
       "33       불안     당혹스러운  47.0   87.0  0.540230\n",
       "39       상처  가난한, 불우한  25.0   68.0  0.367647\n",
       "40       상처        상처  40.0   95.0  0.421053\n",
       "41       상처       버려진  32.0   70.0  0.457143\n",
       "42       상처     괴로워하는  53.0   99.0  0.535354\n",
       "48       슬픔      염세적인  26.0   82.0  0.317073\n",
       "49       슬픔        슬픔  30.0   86.0  0.348837\n",
       "50       슬픔       비통한  28.0   71.0  0.394366\n",
       "51       슬픔       낙담한  34.0   85.0  0.400000\n",
       "52       슬픔       마비된  37.0   75.0  0.493333\n",
       "53       슬픔   환멸을 느끼는  43.0   84.0  0.511905"
      ]
     },
     "execution_count": 9,
     "metadata": {},
     "output_type": "execute_result"
    }
   ],
   "source": [
    "score = pd.read_csv('./data/acc_score.csv')\n",
    "target = score[score['score'] < score['score'].mean()]\n",
    "target"
   ]
  },
  {
   "cell_type": "code",
   "execution_count": 10,
   "metadata": {},
   "outputs": [
    {
     "name": "stdout",
     "output_type": "stream",
     "text": [
      "sent: 흥분 id: 56\n",
      "sent: 기쁨 id: 6\n",
      "sent: 신이 난 id: 29\n",
      "sent: 혐오스러운 id: 51\n",
      "sent: 고립된 id: 3\n",
      "sent: 외로운 id: 37\n",
      "sent: 툴툴대는 id: 48\n",
      "sent: 방어적인 id: 17\n",
      "sent: 노여워하는 id: 9\n",
      "sent: 분노 id: 21\n",
      "sent: 안달하는 id: 32\n",
      "sent: 악의적인 id: 31\n",
      "sent: 좌절한 id: 41\n",
      "sent: 취약한 id: 47\n",
      "sent: 회의적인 id: 54\n",
      "sent: 걱정스러운 id: 2\n",
      "sent: 초조한 id: 45\n",
      "sent: 당혹스러운 id: 12\n",
      "sent: 가난한, 불우한 id: 0\n",
      "sent: 상처 id: 24\n",
      "sent: 버려진 id: 19\n",
      "sent: 괴로워하는 id: 4\n",
      "sent: 염세적인 id: 36\n",
      "sent: 슬픔 id: 27\n",
      "sent: 비통한 id: 23\n",
      "sent: 낙담한 id: 7\n",
      "sent: 마비된 id: 15\n",
      "sent: 환멸을 느끼는 id: 53\n"
     ]
    }
   ],
   "source": [
    "for target in target['sent']:\n",
    "    print('sent:', target, 'id:', sent_to_idx[target])"
   ]
  },
  {
   "cell_type": "markdown",
   "metadata": {},
   "source": [
    "#### Conversation To ChatBot Dataset"
   ]
  },
  {
   "cell_type": "code",
   "execution_count": 75,
   "metadata": {},
   "outputs": [
    {
     "data": {
      "text/plain": [
       "['A 음식점(15,726)_new.xlsx',\n",
       " 'B 의류(15,826)_new.xlsx',\n",
       " 'C 학원(4,773)_new.xlsx',\n",
       " 'D 소매점(14,949)_new.xlsx',\n",
       " 'E 생활서비스(11,087)_new.xlsx',\n",
       " 'F 카페(7,859)_new.xlsx',\n",
       " 'G 숙박업(7,113)_new.xlsx',\n",
       " 'H 관광여가오락(4,949)_new.xlsx',\n",
       " 'I 부동산(8,131)_new.xlsx']"
      ]
     },
     "execution_count": 75,
     "metadata": {},
     "output_type": "execute_result"
    }
   ],
   "source": [
    "import os\n",
    "path = './data/Conversation'\n",
    "filenames = os.listdir(path)\n",
    "\n",
    "find_word = '.xlsx'\n",
    "lst = [s for s in filenames if find_word in s]\n",
    "lst"
   ]
  },
  {
   "cell_type": "code",
   "execution_count": 82,
   "metadata": {},
   "outputs": [],
   "source": [
    "Q = []\n",
    "A = []\n",
    "\n",
    "for file in lst:\n",
    "    data = pd.read_excel(path + '/' + file)\n",
    "    for i in range(len(data)):\n",
    "        try:\n",
    "            if (data.loc[i]['QA'] == 'Q') & (data.loc[i+1]['QA'] == 'A'):\n",
    "                Q.append(data.loc[i]['SENTENCE'])\n",
    "                A.append(data.loc[i+1]['SENTENCE'])\n",
    "        except:\n",
    "            pass"
   ]
  },
  {
   "cell_type": "code",
   "execution_count": 83,
   "metadata": {},
   "outputs": [
    {
     "data": {
      "text/plain": [
       "(36454, 36454)"
      ]
     },
     "execution_count": 83,
     "metadata": {},
     "output_type": "execute_result"
    }
   ],
   "source": [
    "len(Q), len(A)"
   ]
  },
  {
   "cell_type": "code",
   "execution_count": 88,
   "metadata": {},
   "outputs": [
    {
     "data": {
      "text/plain": [
       "['교통_최종본(0416).xlsx',\n",
       " '상수도_최종본(0416).xlsx',\n",
       " '여권 최종본(0416).xlsx',\n",
       " '차량등록_최종본(0429).xlsx']"
      ]
     },
     "execution_count": 88,
     "metadata": {},
     "output_type": "execute_result"
    }
   ],
   "source": [
    "import os\n",
    "path = './data/Conversation/J 민원/'\n",
    "filenames = os.listdir(path)\n",
    "filenames"
   ]
  },
  {
   "cell_type": "code",
   "execution_count": 97,
   "metadata": {},
   "outputs": [
    {
     "name": "stdout",
     "output_type": "stream",
     "text": [
      "667\n",
      "726\n",
      "403\n",
      "3746\n"
     ]
    }
   ],
   "source": [
    "data = pd.DataFrame()\n",
    "for file in filenames:\n",
    "    temp = pd.read_excel(path + '/' + file)\n",
    "    print(len(temp))\n",
    "    data = pd.concat([data, temp] , axis=0)"
   ]
  },
  {
   "cell_type": "code",
   "execution_count": 100,
   "metadata": {},
   "outputs": [],
   "source": [
    "for question in data['question']:\n",
    "    Q.append(question)\n",
    "\n",
    "for answer in data['answer']:\n",
    "    A.append(answer)"
   ]
  },
  {
   "cell_type": "code",
   "execution_count": 101,
   "metadata": {},
   "outputs": [
    {
     "data": {
      "text/plain": [
       "(41996, 41996)"
      ]
     },
     "execution_count": 101,
     "metadata": {},
     "output_type": "execute_result"
    }
   ],
   "source": [
    "len(Q), len(A)"
   ]
  },
  {
   "cell_type": "code",
   "execution_count": 150,
   "metadata": {},
   "outputs": [],
   "source": [
    "import os\n",
    "temp_Q = []\n",
    "temp_A = []\n",
    "\n",
    "path = './data/Talk'\n",
    "dirlst = os.listdir(path)\n",
    "for dir in dirlst:\n",
    "    ddirlst = os.listdir(path + '/' + dir)\n",
    "    for ddir in ddirlst:\n",
    "        dddirlst = os.listdir(path + '/' + dir + '/' + ddir)\n",
    "        for dddir in dddirlst:\n",
    "            files = os.listdir(path + '/' + dir + '/' + ddir + '/' + dddir)\n",
    "            for file in files:\n",
    "                data = pd.read_table(path+'/'+dir+'/'+ddir+'/'+dddir+'/'+file, header=None)\n",
    "                SENTENCES = data[0]\n",
    "                for idx, sen in enumerate(SENTENCES):\n",
    "                    try:\n",
    "                        temp = sen.split(':')[1][1:]\n",
    "                    except:\n",
    "                        pass\n",
    "                    if (len(SENTENCES)%2 == 1) & (idx==len(SENTENCES)-1):\n",
    "                        pass\n",
    "                    elif (idx % 2 == 1):\n",
    "                        Q.append(temp)\n",
    "                    elif (idx % 2 == 0):\n",
    "                        A.append(temp)"
   ]
  },
  {
   "cell_type": "code",
   "execution_count": 121,
   "metadata": {},
   "outputs": [
    {
     "data": {
      "text/plain": [
       "'이번에 캘리포니아에 산불 난 거 보셨어요?'"
      ]
     },
     "execution_count": 121,
     "metadata": {},
     "output_type": "execute_result"
    }
   ],
   "source": [
    "data = pd.read_table('./data/Talk/1.Training/원천데이터/TS_01. KAKAO/KAKAO_898_15.txt', header=None)\n",
    "# data[0][0][0] == SPEAKER\n",
    "\n",
    "# SENTENCE STARTING POINT\n",
    "data[0][0].split(':')[1][1:]"
   ]
  },
  {
   "cell_type": "code",
   "execution_count": 135,
   "metadata": {},
   "outputs": [
    {
     "data": {
      "text/plain": [
       "'나도 다른 나라는 모르겠는데 우리나라도 뭐 꾸준히 방송계 블랙리스트나 방송국 편파 방송 이런 게 있었잖아.'"
      ]
     },
     "execution_count": 135,
     "metadata": {},
     "output_type": "execute_result"
    }
   ],
   "source": [
    "data[0][0].split(':')[1][1:]"
   ]
  },
  {
   "cell_type": "code",
   "execution_count": 139,
   "metadata": {},
   "outputs": [
    {
     "name": "stdout",
     "output_type": "stream",
     "text": [
      "열차 타니고\n"
     ]
    }
   ],
   "source": [
    "for idx, i in enumerate(SENTENCES):\n",
    "    try:\n",
    "        i.split(':')[1][1:]\n",
    "    except:\n",
    "        print(i)"
   ]
  },
  {
   "cell_type": "code",
   "execution_count": 140,
   "metadata": {},
   "outputs": [
    {
     "data": {
      "text/plain": [
       "0     1 : 나도 다른 나라는 모르겠는데 우리나라도 뭐 꾸준히 방송계 블랙리스트나 방송국...\n",
       "1                             3 : 일본은 어떤데 일본은 아예 모른다 진짜\n",
       "2                 1 : 나두... 외국은 진짜 잘 모르는데 특히 일본은 처음 들어봄\n",
       "3                    2 : 에바야 일본 진짜 사람들 거의 진실을 모름 답답해 죽어\n",
       "4                                 3 : 일본은 그거 현금쓰는 이유 아냐\n",
       "5                             1 : 현금? 카드 못써...? 가봤어야 알지\n",
       "6                                   2 : 키키 뭔데 뭘까 뭘까나 몰라\n",
       "7         3 : 하도 일본에서 은행으로 뭔 짓 해서 사람들이 은행 못 믿고 현금 쓰는 거래\n",
       "8                          1 : 일본 정부에서 은행 돈으로 조작하고 그래서?\n",
       "9                       2 : 맞아 들은 적 있음 사람들이 카드 못 믿는데 키키\n",
       "10                                2 : 처음엔 어이없었는데 알 거 같음\n",
       "11                      3 : 은행에 돈을 넣었는데 내 맘대로 돈을 못 빼는 거\n",
       "12         1 : 엥 왜요...? 난 그럼 은행 불지름 돈미새라 내 돈 건드는 거 못 참지\n",
       "13                             2 : 일본 부채도 엄청난데 사람들 잘 모름\n",
       "14                     3 : 일본에서 태어나는 게 소원이었는데 실상을 잘 몰랐군\n",
       "15              1 : 난 우리나라에 만족하고 사는 편이라... 그냥 앞으로도 만족할래\n",
       "16                            2 : 일본에서 태어나는 게 왜 소원이야 키키\n",
       "17                                3 : 그 일본 감성이 너무 좋아 예뻐\n",
       "18                 1 : 아 그건 맞아 자전거 타고 여유롭게 지나가는 시골길 갬성 \n",
       "19                                               열차 타니고\n",
       "20                       2 : 그건 인정 일본 갬성이 있지 근데 갬성 뿐...\n",
       "21                               2 : 우리 성격은 그냥 한국 살아야 함\n",
       "22                                   3 : 그건 맞아 이미 적응해버림\n",
       "23                            1 : 난 느긋함? 그런 거 절대 없는 사람임\n",
       "24                     2 : 키키 아 근데 우리나라는 진짜 여유가 없는 듯 ㅠㅠ\n",
       "25                                   3 : 여유가 나태가 된 이 사회\n",
       "Name: 0, dtype: object"
      ]
     },
     "execution_count": 140,
     "metadata": {},
     "output_type": "execute_result"
    }
   ],
   "source": [
    "SENTENCES"
   ]
  },
  {
   "cell_type": "code",
   "execution_count": 141,
   "metadata": {},
   "outputs": [
    {
     "data": {
      "text/html": [
       "<div>\n",
       "<style scoped>\n",
       "    .dataframe tbody tr th:only-of-type {\n",
       "        vertical-align: middle;\n",
       "    }\n",
       "\n",
       "    .dataframe tbody tr th {\n",
       "        vertical-align: top;\n",
       "    }\n",
       "\n",
       "    .dataframe thead th {\n",
       "        text-align: right;\n",
       "    }\n",
       "</style>\n",
       "<table border=\"1\" class=\"dataframe\">\n",
       "  <thead>\n",
       "    <tr style=\"text-align: right;\">\n",
       "      <th></th>\n",
       "      <th>0</th>\n",
       "    </tr>\n",
       "  </thead>\n",
       "  <tbody>\n",
       "    <tr>\n",
       "      <th>0</th>\n",
       "      <td>1 : 나도 다른 나라는 모르겠는데 우리나라도 뭐 꾸준히 방송계 블랙리스트나 방송국...</td>\n",
       "    </tr>\n",
       "    <tr>\n",
       "      <th>1</th>\n",
       "      <td>3 : 일본은 어떤데 일본은 아예 모른다 진짜</td>\n",
       "    </tr>\n",
       "    <tr>\n",
       "      <th>2</th>\n",
       "      <td>1 : 나두... 외국은 진짜 잘 모르는데 특히 일본은 처음 들어봄</td>\n",
       "    </tr>\n",
       "    <tr>\n",
       "      <th>3</th>\n",
       "      <td>2 : 에바야 일본 진짜 사람들 거의 진실을 모름 답답해 죽어</td>\n",
       "    </tr>\n",
       "    <tr>\n",
       "      <th>4</th>\n",
       "      <td>3 : 일본은 그거 현금쓰는 이유 아냐</td>\n",
       "    </tr>\n",
       "    <tr>\n",
       "      <th>5</th>\n",
       "      <td>1 : 현금? 카드 못써...? 가봤어야 알지</td>\n",
       "    </tr>\n",
       "    <tr>\n",
       "      <th>6</th>\n",
       "      <td>2 : 키키 뭔데 뭘까 뭘까나 몰라</td>\n",
       "    </tr>\n",
       "    <tr>\n",
       "      <th>7</th>\n",
       "      <td>3 : 하도 일본에서 은행으로 뭔 짓 해서 사람들이 은행 못 믿고 현금 쓰는 거래</td>\n",
       "    </tr>\n",
       "    <tr>\n",
       "      <th>8</th>\n",
       "      <td>1 : 일본 정부에서 은행 돈으로 조작하고 그래서?</td>\n",
       "    </tr>\n",
       "    <tr>\n",
       "      <th>9</th>\n",
       "      <td>2 : 맞아 들은 적 있음 사람들이 카드 못 믿는데 키키</td>\n",
       "    </tr>\n",
       "    <tr>\n",
       "      <th>10</th>\n",
       "      <td>2 : 처음엔 어이없었는데 알 거 같음</td>\n",
       "    </tr>\n",
       "    <tr>\n",
       "      <th>11</th>\n",
       "      <td>3 : 은행에 돈을 넣었는데 내 맘대로 돈을 못 빼는 거</td>\n",
       "    </tr>\n",
       "    <tr>\n",
       "      <th>12</th>\n",
       "      <td>1 : 엥 왜요...? 난 그럼 은행 불지름 돈미새라 내 돈 건드는 거 못 참지</td>\n",
       "    </tr>\n",
       "    <tr>\n",
       "      <th>13</th>\n",
       "      <td>2 : 일본 부채도 엄청난데 사람들 잘 모름</td>\n",
       "    </tr>\n",
       "    <tr>\n",
       "      <th>14</th>\n",
       "      <td>3 : 일본에서 태어나는 게 소원이었는데 실상을 잘 몰랐군</td>\n",
       "    </tr>\n",
       "    <tr>\n",
       "      <th>15</th>\n",
       "      <td>1 : 난 우리나라에 만족하고 사는 편이라... 그냥 앞으로도 만족할래</td>\n",
       "    </tr>\n",
       "    <tr>\n",
       "      <th>16</th>\n",
       "      <td>2 : 일본에서 태어나는 게 왜 소원이야 키키</td>\n",
       "    </tr>\n",
       "    <tr>\n",
       "      <th>17</th>\n",
       "      <td>3 : 그 일본 감성이 너무 좋아 예뻐</td>\n",
       "    </tr>\n",
       "    <tr>\n",
       "      <th>18</th>\n",
       "      <td>1 : 아 그건 맞아 자전거 타고 여유롭게 지나가는 시골길 갬성</td>\n",
       "    </tr>\n",
       "    <tr>\n",
       "      <th>19</th>\n",
       "      <td>열차 타니고</td>\n",
       "    </tr>\n",
       "    <tr>\n",
       "      <th>20</th>\n",
       "      <td>2 : 그건 인정 일본 갬성이 있지 근데 갬성 뿐...</td>\n",
       "    </tr>\n",
       "    <tr>\n",
       "      <th>21</th>\n",
       "      <td>2 : 우리 성격은 그냥 한국 살아야 함</td>\n",
       "    </tr>\n",
       "    <tr>\n",
       "      <th>22</th>\n",
       "      <td>3 : 그건 맞아 이미 적응해버림</td>\n",
       "    </tr>\n",
       "    <tr>\n",
       "      <th>23</th>\n",
       "      <td>1 : 난 느긋함? 그런 거 절대 없는 사람임</td>\n",
       "    </tr>\n",
       "    <tr>\n",
       "      <th>24</th>\n",
       "      <td>2 : 키키 아 근데 우리나라는 진짜 여유가 없는 듯 ㅠㅠ</td>\n",
       "    </tr>\n",
       "    <tr>\n",
       "      <th>25</th>\n",
       "      <td>3 : 여유가 나태가 된 이 사회</td>\n",
       "    </tr>\n",
       "  </tbody>\n",
       "</table>\n",
       "</div>"
      ],
      "text/plain": [
       "                                                    0\n",
       "0   1 : 나도 다른 나라는 모르겠는데 우리나라도 뭐 꾸준히 방송계 블랙리스트나 방송국...\n",
       "1                           3 : 일본은 어떤데 일본은 아예 모른다 진짜\n",
       "2               1 : 나두... 외국은 진짜 잘 모르는데 특히 일본은 처음 들어봄\n",
       "3                  2 : 에바야 일본 진짜 사람들 거의 진실을 모름 답답해 죽어\n",
       "4                               3 : 일본은 그거 현금쓰는 이유 아냐\n",
       "5                           1 : 현금? 카드 못써...? 가봤어야 알지\n",
       "6                                 2 : 키키 뭔데 뭘까 뭘까나 몰라\n",
       "7       3 : 하도 일본에서 은행으로 뭔 짓 해서 사람들이 은행 못 믿고 현금 쓰는 거래\n",
       "8                        1 : 일본 정부에서 은행 돈으로 조작하고 그래서?\n",
       "9                     2 : 맞아 들은 적 있음 사람들이 카드 못 믿는데 키키\n",
       "10                              2 : 처음엔 어이없었는데 알 거 같음\n",
       "11                    3 : 은행에 돈을 넣었는데 내 맘대로 돈을 못 빼는 거\n",
       "12       1 : 엥 왜요...? 난 그럼 은행 불지름 돈미새라 내 돈 건드는 거 못 참지\n",
       "13                           2 : 일본 부채도 엄청난데 사람들 잘 모름\n",
       "14                   3 : 일본에서 태어나는 게 소원이었는데 실상을 잘 몰랐군\n",
       "15            1 : 난 우리나라에 만족하고 사는 편이라... 그냥 앞으로도 만족할래\n",
       "16                          2 : 일본에서 태어나는 게 왜 소원이야 키키\n",
       "17                              3 : 그 일본 감성이 너무 좋아 예뻐\n",
       "18               1 : 아 그건 맞아 자전거 타고 여유롭게 지나가는 시골길 갬성 \n",
       "19                                             열차 타니고\n",
       "20                     2 : 그건 인정 일본 갬성이 있지 근데 갬성 뿐...\n",
       "21                             2 : 우리 성격은 그냥 한국 살아야 함\n",
       "22                                 3 : 그건 맞아 이미 적응해버림\n",
       "23                          1 : 난 느긋함? 그런 거 절대 없는 사람임\n",
       "24                   2 : 키키 아 근데 우리나라는 진짜 여유가 없는 듯 ㅠㅠ\n",
       "25                                 3 : 여유가 나태가 된 이 사회"
      ]
     },
     "execution_count": 141,
     "metadata": {},
     "output_type": "execute_result"
    }
   ],
   "source": [
    "data"
   ]
  },
  {
   "cell_type": "code",
   "execution_count": 151,
   "metadata": {},
   "outputs": [
    {
     "data": {
      "text/plain": [
       "(852268, 852268)"
      ]
     },
     "execution_count": 151,
     "metadata": {},
     "output_type": "execute_result"
    }
   ],
   "source": [
    "len(Q), len(A)"
   ]
  },
  {
   "cell_type": "code",
   "execution_count": 152,
   "metadata": {},
   "outputs": [
    {
     "data": {
      "text/plain": [
       "['Script_for_all.csv',\n",
       " 'script_part_06.csv',\n",
       " 'script_part_1.csv',\n",
       " 'script_part_11.csv',\n",
       " 'script_part_2_4_9_10.csv',\n",
       " 'script_part_3.csv',\n",
       " 'script_part_5.csv',\n",
       " 'script_part_7.csv',\n",
       " 'script_part_8.csv']"
      ]
     },
     "execution_count": 152,
     "metadata": {},
     "output_type": "execute_result"
    }
   ],
   "source": [
    "path = './data/Multimodal_Script/'\n",
    "filenames = os.listdir(path)\n",
    "for file in filenames:\n",
    "    data = pd.read_csv(path + '/' +file)"
   ]
  },
  {
   "cell_type": "code",
   "execution_count": 187,
   "metadata": {},
   "outputs": [],
   "source": [
    "temp_Q = []\n",
    "temp_A = []\n",
    "\n",
    "path = './data/Multimodal_Script/'\n",
    "filenames = os.listdir(path)\n",
    "\n",
    "data = pd.read_csv('./data/Multimodal_Script/Script_for_all.csv')\n",
    "count = 0\n",
    "for i in range(len(data)):\n",
    "    try:\n",
    "        if (data.loc[i]['A'] == data.loc[i+1]['Q']) & (data.loc[i]['Q'] != data.loc[i-1]['A']):\n",
    "            if count%2 == 1:\n",
    "                Q.pop()\n",
    "            Q.append(data.loc[i]['Q'])\n",
    "            A.append(data.loc[i]['A'])\n",
    "            count = 0\n",
    "    except:\n",
    "        Q.append(data.loc[i]['Q'])\n",
    "        A.append(data.loc[i]['A'])\n",
    "    else:\n",
    "        if count%2 != 1 :\n",
    "            Q.append(data.loc[i]['A'])\n",
    "            count += 1\n",
    "        elif count%2 == 1:\n",
    "            A.append(data.loc[i]['A'])\n",
    "            count += 1\n"
   ]
  },
  {
   "cell_type": "code",
   "execution_count": 188,
   "metadata": {},
   "outputs": [
    {
     "data": {
      "text/plain": [
       "(0, 0)"
      ]
     },
     "execution_count": 188,
     "metadata": {},
     "output_type": "execute_result"
    }
   ],
   "source": [
    "len(temp_Q), len(temp_A)"
   ]
  },
  {
   "cell_type": "code",
   "execution_count": 189,
   "metadata": {},
   "outputs": [
    {
     "data": {
      "text/plain": [
       "(858567, 858567)"
      ]
     },
     "execution_count": 189,
     "metadata": {},
     "output_type": "execute_result"
    }
   ],
   "source": [
    "len(Q), len(A)"
   ]
  },
  {
   "cell_type": "code",
   "execution_count": 193,
   "metadata": {},
   "outputs": [],
   "source": [
    "data = pd.DataFrame([Q, A]).T\n",
    "data.columns = ['Question', 'Answer']\n",
    "data.to_csv('ChatBot_Data.csv', encoding='utf-8', index=False)"
   ]
  }
 ],
 "metadata": {
  "kernelspec": {
   "display_name": "Python 3.9.12 ('base')",
   "language": "python",
   "name": "python3"
  },
  "language_info": {
   "codemirror_mode": {
    "name": "ipython",
    "version": 3
   },
   "file_extension": ".py",
   "mimetype": "text/x-python",
   "name": "python",
   "nbconvert_exporter": "python",
   "pygments_lexer": "ipython3",
   "version": "3.9.12"
  },
  "orig_nbformat": 4,
  "vscode": {
   "interpreter": {
    "hash": "68756eb6c044f31c46e3e1f38723aea1f0146198488dd3d60c0e4241eb6f7dd0"
   }
  }
 },
 "nbformat": 4,
 "nbformat_minor": 2
}
